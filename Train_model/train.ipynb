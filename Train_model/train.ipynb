{
 "cells": [
  {
   "cell_type": "markdown",
   "metadata": {},
   "source": [
    "# 1. Install packages"
   ]
  },
  {
   "cell_type": "code",
   "execution_count": 1,
   "metadata": {},
   "outputs": [
    {
     "name": "stdout",
     "output_type": "stream",
     "text": [
      "Ultralytics YOLOv8.2.1  Python-3.11.7 torch-2.2.2+cpu CPU (11th Gen Intel Core(TM) i5-11400H 2.70GHz)\n",
      "Setup complete  (12 CPUs, 15.8 GB RAM, 136.6/251.0 GB disk)\n"
     ]
    }
   ],
   "source": [
    "import ultralytics\n",
    "ultralytics.checks()"
   ]
  },
  {
   "cell_type": "code",
   "execution_count": 2,
   "metadata": {},
   "outputs": [],
   "source": [
    "from ultralytics import YOLO\n",
    "import cv2\n",
    "import matplotlib.pyplot as plt\n",
    "from PIL import Image\n",
    "import numpy as np"
   ]
  },
  {
   "cell_type": "markdown",
   "metadata": {},
   "source": [
    "# 2.Unzip data"
   ]
  },
  {
   "cell_type": "code",
   "execution_count": 3,
   "metadata": {},
   "outputs": [],
   "source": [
    "import zipfile\n",
    "\n",
    "zip_path = 'D:/NCKH_MC_Team/Train_model/TRAIN.v2i.yolov8.zip'\n",
    "extract_path = 'D:/NCKH_MC_Team/Train_model/'\n",
    "\n",
    "with zipfile.ZipFile(zip_path, 'r') as zip_ref:\n",
    "    zip_ref.extractall(extract_path)"
   ]
  },
  {
   "cell_type": "markdown",
   "metadata": {},
   "source": [
    "# 3. Train model"
   ]
  },
  {
   "cell_type": "code",
   "execution_count": 4,
   "metadata": {},
   "outputs": [],
   "source": [
    "model = YOLO(\"yolov8n.pt\")"
   ]
  },
  {
   "cell_type": "code",
   "execution_count": 5,
   "metadata": {},
   "outputs": [
    {
     "name": "stdout",
     "output_type": "stream",
     "text": [
      "New https://pypi.org/project/ultralytics/8.2.2 available  Update with 'pip install -U ultralytics'\n",
      "Ultralytics YOLOv8.2.1  Python-3.11.7 torch-2.2.2+cpu CPU (11th Gen Intel Core(TM) i5-11400H 2.70GHz)\n",
      "\u001b[34m\u001b[1mengine\\trainer: \u001b[0mtask=detect, mode=train, model=yolov8n.pt, data=D:\\NCKH_MC_Team\\Train_model\\data.yaml, epochs=100, time=None, patience=100, batch=16, imgsz=640, save=True, save_period=-1, cache=False, device=None, workers=8, project=None, name=train3, exist_ok=False, pretrained=True, optimizer=auto, verbose=True, seed=0, deterministic=True, single_cls=False, rect=False, cos_lr=False, close_mosaic=10, resume=False, amp=True, fraction=1.0, profile=False, freeze=None, multi_scale=False, overlap_mask=True, mask_ratio=4, dropout=0.0, val=True, split=val, save_json=False, save_hybrid=False, conf=None, iou=0.7, max_det=300, half=False, dnn=False, plots=True, source=None, vid_stride=1, stream_buffer=False, visualize=False, augment=False, agnostic_nms=False, classes=None, retina_masks=False, embed=None, show=False, save_frames=False, save_txt=False, save_conf=False, save_crop=False, show_labels=True, show_conf=True, show_boxes=True, line_width=None, format=torchscript, keras=False, optimize=False, int8=False, dynamic=False, simplify=False, opset=None, workspace=4, nms=False, lr0=0.01, lrf=0.01, momentum=0.937, weight_decay=0.0005, warmup_epochs=3.0, warmup_momentum=0.8, warmup_bias_lr=0.1, box=7.5, cls=0.5, dfl=1.5, pose=12.0, kobj=1.0, label_smoothing=0.0, nbs=64, hsv_h=0.015, hsv_s=0.7, hsv_v=0.4, degrees=0.0, translate=0.1, scale=0.5, shear=0.0, perspective=0.0, flipud=0.0, fliplr=0.5, bgr=0.0, mosaic=1.0, mixup=0.0, copy_paste=0.0, auto_augment=randaugment, erasing=0.4, crop_fraction=1.0, cfg=None, tracker=botsort.yaml, save_dir=runs\\detect\\train3\n",
      "Overriding model.yaml nc=80 with nc=1\n",
      "\n",
      "                   from  n    params  module                                       arguments                     \n",
      "  0                  -1  1       464  ultralytics.nn.modules.conv.Conv             [3, 16, 3, 2]                 \n",
      "  1                  -1  1      4672  ultralytics.nn.modules.conv.Conv             [16, 32, 3, 2]                \n",
      "  2                  -1  1      7360  ultralytics.nn.modules.block.C2f             [32, 32, 1, True]             \n",
      "  3                  -1  1     18560  ultralytics.nn.modules.conv.Conv             [32, 64, 3, 2]                \n",
      "  4                  -1  2     49664  ultralytics.nn.modules.block.C2f             [64, 64, 2, True]             \n",
      "  5                  -1  1     73984  ultralytics.nn.modules.conv.Conv             [64, 128, 3, 2]               \n",
      "  6                  -1  2    197632  ultralytics.nn.modules.block.C2f             [128, 128, 2, True]           \n",
      "  7                  -1  1    295424  ultralytics.nn.modules.conv.Conv             [128, 256, 3, 2]              \n",
      "  8                  -1  1    460288  ultralytics.nn.modules.block.C2f             [256, 256, 1, True]           \n",
      "  9                  -1  1    164608  ultralytics.nn.modules.block.SPPF            [256, 256, 5]                 \n",
      " 10                  -1  1         0  torch.nn.modules.upsampling.Upsample         [None, 2, 'nearest']          \n",
      " 11             [-1, 6]  1         0  ultralytics.nn.modules.conv.Concat           [1]                           \n",
      " 12                  -1  1    148224  ultralytics.nn.modules.block.C2f             [384, 128, 1]                 \n",
      " 13                  -1  1         0  torch.nn.modules.upsampling.Upsample         [None, 2, 'nearest']          \n",
      " 14             [-1, 4]  1         0  ultralytics.nn.modules.conv.Concat           [1]                           \n",
      " 15                  -1  1     37248  ultralytics.nn.modules.block.C2f             [192, 64, 1]                  \n",
      " 16                  -1  1     36992  ultralytics.nn.modules.conv.Conv             [64, 64, 3, 2]                \n",
      " 17            [-1, 12]  1         0  ultralytics.nn.modules.conv.Concat           [1]                           \n",
      " 18                  -1  1    123648  ultralytics.nn.modules.block.C2f             [192, 128, 1]                 \n",
      " 19                  -1  1    147712  ultralytics.nn.modules.conv.Conv             [128, 128, 3, 2]              \n",
      " 20             [-1, 9]  1         0  ultralytics.nn.modules.conv.Concat           [1]                           \n",
      " 21                  -1  1    493056  ultralytics.nn.modules.block.C2f             [384, 256, 1]                 \n",
      " 22        [15, 18, 21]  1    751507  ultralytics.nn.modules.head.Detect           [1, [64, 128, 256]]           \n",
      "Model summary: 225 layers, 3011043 parameters, 3011027 gradients, 8.2 GFLOPs\n",
      "\n",
      "Transferred 319/355 items from pretrained weights\n",
      "\u001b[34m\u001b[1mTensorBoard: \u001b[0mStart with 'tensorboard --logdir runs\\detect\\train3', view at http://localhost:6006/\n",
      "Freezing layer 'model.22.dfl.conv.weight'\n"
     ]
    },
    {
     "name": "stderr",
     "output_type": "stream",
     "text": [
      "\u001b[34m\u001b[1mtrain: \u001b[0mScanning D:\\NCKH_MC_Team\\Train_model\\train\\labels.cache... 225 images, 0 backgrounds, 0 corrupt: 100%|██████████| 225/225 [00:00<?, ?it/s]\n",
      "\u001b[34m\u001b[1mval: \u001b[0mScanning D:\\NCKH_MC_Team\\Train_model\\valid\\labels.cache... 22 images, 0 backgrounds, 0 corrupt: 100%|██████████| 22/22 [00:00<?, ?it/s]\n"
     ]
    },
    {
     "name": "stdout",
     "output_type": "stream",
     "text": [
      "Plotting labels to runs\\detect\\train3\\labels.jpg... \n",
      "\u001b[34m\u001b[1moptimizer:\u001b[0m 'optimizer=auto' found, ignoring 'lr0=0.01' and 'momentum=0.937' and determining best 'optimizer', 'lr0' and 'momentum' automatically... \n",
      "\u001b[34m\u001b[1moptimizer:\u001b[0m AdamW(lr=0.002, momentum=0.9) with parameter groups 57 weight(decay=0.0), 64 weight(decay=0.0005), 63 bias(decay=0.0)\n",
      "\u001b[34m\u001b[1mTensorBoard: \u001b[0mmodel graph visualization added \n",
      "Image sizes 640 train, 640 val\n",
      "Using 0 dataloader workers\n",
      "Logging results to \u001b[1mruns\\detect\\train3\u001b[0m\n",
      "Starting training for 100 epochs...\n",
      "\n",
      "      Epoch    GPU_mem   box_loss   cls_loss   dfl_loss  Instances       Size\n"
     ]
    },
    {
     "name": "stderr",
     "output_type": "stream",
     "text": [
      "      1/100         0G      1.361      2.478      1.409          6        640: 100%|██████████| 15/15 [01:33<00:00,  6.21s/it]\n",
      "                 Class     Images  Instances      Box(P          R      mAP50  mAP50-95): 100%|██████████| 1/1 [00:04<00:00,  4.74s/it]"
     ]
    },
    {
     "name": "stdout",
     "output_type": "stream",
     "text": [
      "                   all         22        184     0.0179      0.641       0.17     0.0575\n"
     ]
    },
    {
     "name": "stderr",
     "output_type": "stream",
     "text": [
      "\n"
     ]
    },
    {
     "name": "stdout",
     "output_type": "stream",
     "text": [
      "\n",
      "      Epoch    GPU_mem   box_loss   cls_loss   dfl_loss  Instances       Size\n"
     ]
    },
    {
     "name": "stderr",
     "output_type": "stream",
     "text": [
      "      2/100         0G      1.371      1.762      1.474          1        640: 100%|██████████| 15/15 [01:27<00:00,  5.80s/it]\n",
      "                 Class     Images  Instances      Box(P          R      mAP50  mAP50-95): 100%|██████████| 1/1 [00:03<00:00,  3.90s/it]"
     ]
    },
    {
     "name": "stdout",
     "output_type": "stream",
     "text": [
      "                   all         22        184      0.624      0.141      0.245      0.123\n"
     ]
    },
    {
     "name": "stderr",
     "output_type": "stream",
     "text": [
      "\n"
     ]
    },
    {
     "name": "stdout",
     "output_type": "stream",
     "text": [
      "\n",
      "      Epoch    GPU_mem   box_loss   cls_loss   dfl_loss  Instances       Size\n"
     ]
    },
    {
     "name": "stderr",
     "output_type": "stream",
     "text": [
      "      3/100         0G      1.197       1.61      1.368          1        640: 100%|██████████| 15/15 [01:27<00:00,  5.82s/it]\n",
      "                 Class     Images  Instances      Box(P          R      mAP50  mAP50-95): 100%|██████████| 1/1 [00:03<00:00,  3.80s/it]"
     ]
    },
    {
     "name": "stdout",
     "output_type": "stream",
     "text": [
      "                   all         22        184       0.33       0.13        0.2      0.103\n"
     ]
    },
    {
     "name": "stderr",
     "output_type": "stream",
     "text": [
      "\n"
     ]
    },
    {
     "name": "stdout",
     "output_type": "stream",
     "text": [
      "\n",
      "      Epoch    GPU_mem   box_loss   cls_loss   dfl_loss  Instances       Size\n"
     ]
    },
    {
     "name": "stderr",
     "output_type": "stream",
     "text": [
      "      4/100         0G      1.335      1.468      1.378         34        640: 100%|██████████| 15/15 [01:35<00:00,  6.38s/it]\n",
      "                 Class     Images  Instances      Box(P          R      mAP50  mAP50-95): 100%|██████████| 1/1 [00:04<00:00,  4.08s/it]"
     ]
    },
    {
     "name": "stdout",
     "output_type": "stream",
     "text": [
      "                   all         22        184      0.407      0.364      0.332       0.15\n"
     ]
    },
    {
     "name": "stderr",
     "output_type": "stream",
     "text": [
      "\n"
     ]
    },
    {
     "name": "stdout",
     "output_type": "stream",
     "text": [
      "\n",
      "      Epoch    GPU_mem   box_loss   cls_loss   dfl_loss  Instances       Size\n"
     ]
    },
    {
     "name": "stderr",
     "output_type": "stream",
     "text": [
      "      5/100         0G      1.267      1.297      1.292         10        640: 100%|██████████| 15/15 [01:30<00:00,  6.06s/it]\n",
      "                 Class     Images  Instances      Box(P          R      mAP50  mAP50-95): 100%|██████████| 1/1 [00:03<00:00,  3.95s/it]"
     ]
    },
    {
     "name": "stdout",
     "output_type": "stream",
     "text": [
      "                   all         22        184      0.317      0.451      0.234      0.102\n"
     ]
    },
    {
     "name": "stderr",
     "output_type": "stream",
     "text": [
      "\n"
     ]
    },
    {
     "name": "stdout",
     "output_type": "stream",
     "text": [
      "\n",
      "      Epoch    GPU_mem   box_loss   cls_loss   dfl_loss  Instances       Size\n"
     ]
    },
    {
     "name": "stderr",
     "output_type": "stream",
     "text": [
      "      6/100         0G      1.239       1.56      1.362          1        640: 100%|██████████| 15/15 [01:41<00:00,  6.80s/it]\n",
      "                 Class     Images  Instances      Box(P          R      mAP50  mAP50-95): 100%|██████████| 1/1 [00:04<00:00,  4.21s/it]"
     ]
    },
    {
     "name": "stdout",
     "output_type": "stream",
     "text": [
      "                   all         22        184      0.146      0.321      0.121     0.0526\n"
     ]
    },
    {
     "name": "stderr",
     "output_type": "stream",
     "text": [
      "\n"
     ]
    },
    {
     "name": "stdout",
     "output_type": "stream",
     "text": [
      "\n",
      "      Epoch    GPU_mem   box_loss   cls_loss   dfl_loss  Instances       Size\n"
     ]
    },
    {
     "name": "stderr",
     "output_type": "stream",
     "text": [
      "      7/100         0G      1.306      1.319      1.335          9        640: 100%|██████████| 15/15 [01:45<00:00,  7.06s/it]\n",
      "                 Class     Images  Instances      Box(P          R      mAP50  mAP50-95): 100%|██████████| 1/1 [00:05<00:00,  5.00s/it]"
     ]
    },
    {
     "name": "stdout",
     "output_type": "stream",
     "text": [
      "                   all         22        184      0.466      0.451      0.391      0.184\n"
     ]
    },
    {
     "name": "stderr",
     "output_type": "stream",
     "text": [
      "\n"
     ]
    },
    {
     "name": "stdout",
     "output_type": "stream",
     "text": [
      "\n",
      "      Epoch    GPU_mem   box_loss   cls_loss   dfl_loss  Instances       Size\n"
     ]
    },
    {
     "name": "stderr",
     "output_type": "stream",
     "text": [
      "      8/100         0G      1.259      1.347      1.334          3        640: 100%|██████████| 15/15 [01:45<00:00,  7.00s/it]\n",
      "                 Class     Images  Instances      Box(P          R      mAP50  mAP50-95): 100%|██████████| 1/1 [00:03<00:00,  3.92s/it]"
     ]
    },
    {
     "name": "stdout",
     "output_type": "stream",
     "text": [
      "                   all         22        184      0.344       0.38      0.285      0.127\n"
     ]
    },
    {
     "name": "stderr",
     "output_type": "stream",
     "text": [
      "\n"
     ]
    },
    {
     "name": "stdout",
     "output_type": "stream",
     "text": [
      "\n",
      "      Epoch    GPU_mem   box_loss   cls_loss   dfl_loss  Instances       Size\n"
     ]
    },
    {
     "name": "stderr",
     "output_type": "stream",
     "text": [
      "      9/100         0G       1.26      1.221      1.352          4        640: 100%|██████████| 15/15 [01:33<00:00,  6.26s/it]\n",
      "                 Class     Images  Instances      Box(P          R      mAP50  mAP50-95): 100%|██████████| 1/1 [00:04<00:00,  4.28s/it]"
     ]
    },
    {
     "name": "stdout",
     "output_type": "stream",
     "text": [
      "                   all         22        184      0.555      0.554      0.512      0.242\n"
     ]
    },
    {
     "name": "stderr",
     "output_type": "stream",
     "text": [
      "\n"
     ]
    },
    {
     "name": "stdout",
     "output_type": "stream",
     "text": [
      "\n",
      "      Epoch    GPU_mem   box_loss   cls_loss   dfl_loss  Instances       Size\n"
     ]
    },
    {
     "name": "stderr",
     "output_type": "stream",
     "text": [
      "     10/100         0G      1.167      1.161      1.277          3        640: 100%|██████████| 15/15 [01:33<00:00,  6.24s/it]\n",
      "                 Class     Images  Instances      Box(P          R      mAP50  mAP50-95): 100%|██████████| 1/1 [00:03<00:00,  3.96s/it]"
     ]
    },
    {
     "name": "stdout",
     "output_type": "stream",
     "text": [
      "                   all         22        184      0.629      0.516      0.562      0.281\n"
     ]
    },
    {
     "name": "stderr",
     "output_type": "stream",
     "text": [
      "\n"
     ]
    },
    {
     "name": "stdout",
     "output_type": "stream",
     "text": [
      "\n",
      "      Epoch    GPU_mem   box_loss   cls_loss   dfl_loss  Instances       Size\n"
     ]
    },
    {
     "name": "stderr",
     "output_type": "stream",
     "text": [
      "     11/100         0G      1.203      1.155      1.255         12        640: 100%|██████████| 15/15 [01:31<00:00,  6.07s/it]\n",
      "                 Class     Images  Instances      Box(P          R      mAP50  mAP50-95): 100%|██████████| 1/1 [00:03<00:00,  3.80s/it]"
     ]
    },
    {
     "name": "stdout",
     "output_type": "stream",
     "text": [
      "                   all         22        184      0.723        0.5       0.58      0.308\n"
     ]
    },
    {
     "name": "stderr",
     "output_type": "stream",
     "text": [
      "\n"
     ]
    },
    {
     "name": "stdout",
     "output_type": "stream",
     "text": [
      "\n",
      "      Epoch    GPU_mem   box_loss   cls_loss   dfl_loss  Instances       Size\n"
     ]
    },
    {
     "name": "stderr",
     "output_type": "stream",
     "text": [
      "     12/100         0G      1.185      1.089      1.241         32        640: 100%|██████████| 15/15 [01:35<00:00,  6.37s/it]\n",
      "                 Class     Images  Instances      Box(P          R      mAP50  mAP50-95): 100%|██████████| 1/1 [00:04<00:00,  4.22s/it]"
     ]
    },
    {
     "name": "stdout",
     "output_type": "stream",
     "text": [
      "                   all         22        184      0.509      0.587      0.512      0.263\n"
     ]
    },
    {
     "name": "stderr",
     "output_type": "stream",
     "text": [
      "\n"
     ]
    },
    {
     "name": "stdout",
     "output_type": "stream",
     "text": [
      "\n",
      "      Epoch    GPU_mem   box_loss   cls_loss   dfl_loss  Instances       Size\n"
     ]
    },
    {
     "name": "stderr",
     "output_type": "stream",
     "text": [
      "     13/100         0G      1.152      1.142       1.24         79        640: 100%|██████████| 15/15 [01:41<00:00,  6.75s/it]\n",
      "                 Class     Images  Instances      Box(P          R      mAP50  mAP50-95): 100%|██████████| 1/1 [00:04<00:00,  4.05s/it]"
     ]
    },
    {
     "name": "stdout",
     "output_type": "stream",
     "text": [
      "                   all         22        184      0.589      0.402      0.476      0.237\n"
     ]
    },
    {
     "name": "stderr",
     "output_type": "stream",
     "text": [
      "\n"
     ]
    },
    {
     "name": "stdout",
     "output_type": "stream",
     "text": [
      "\n",
      "      Epoch    GPU_mem   box_loss   cls_loss   dfl_loss  Instances       Size\n"
     ]
    },
    {
     "name": "stderr",
     "output_type": "stream",
     "text": [
      "     14/100         0G      1.074       1.08       1.21          4        640: 100%|██████████| 15/15 [01:33<00:00,  6.23s/it]\n",
      "                 Class     Images  Instances      Box(P          R      mAP50  mAP50-95): 100%|██████████| 1/1 [00:05<00:00,  5.04s/it]"
     ]
    },
    {
     "name": "stdout",
     "output_type": "stream",
     "text": [
      "                   all         22        184       0.75      0.653      0.723      0.407\n"
     ]
    },
    {
     "name": "stderr",
     "output_type": "stream",
     "text": [
      "\n"
     ]
    },
    {
     "name": "stdout",
     "output_type": "stream",
     "text": [
      "\n",
      "      Epoch    GPU_mem   box_loss   cls_loss   dfl_loss  Instances       Size\n"
     ]
    },
    {
     "name": "stderr",
     "output_type": "stream",
     "text": [
      "     15/100         0G      1.128      1.064      1.259          5        640: 100%|██████████| 15/15 [01:39<00:00,  6.64s/it]\n",
      "                 Class     Images  Instances      Box(P          R      mAP50  mAP50-95): 100%|██████████| 1/1 [00:04<00:00,  4.09s/it]"
     ]
    },
    {
     "name": "stdout",
     "output_type": "stream",
     "text": [
      "                   all         22        184      0.797      0.598      0.725      0.366\n"
     ]
    },
    {
     "name": "stderr",
     "output_type": "stream",
     "text": [
      "\n"
     ]
    },
    {
     "name": "stdout",
     "output_type": "stream",
     "text": [
      "\n",
      "      Epoch    GPU_mem   box_loss   cls_loss   dfl_loss  Instances       Size\n"
     ]
    },
    {
     "name": "stderr",
     "output_type": "stream",
     "text": [
      "     16/100         0G      1.049       1.13      1.214          2        640: 100%|██████████| 15/15 [01:41<00:00,  6.78s/it]\n",
      "                 Class     Images  Instances      Box(P          R      mAP50  mAP50-95): 100%|██████████| 1/1 [00:04<00:00,  4.06s/it]"
     ]
    },
    {
     "name": "stdout",
     "output_type": "stream",
     "text": [
      "                   all         22        184      0.738      0.583      0.689      0.379\n"
     ]
    },
    {
     "name": "stderr",
     "output_type": "stream",
     "text": [
      "\n"
     ]
    },
    {
     "name": "stdout",
     "output_type": "stream",
     "text": [
      "\n",
      "      Epoch    GPU_mem   box_loss   cls_loss   dfl_loss  Instances       Size\n"
     ]
    },
    {
     "name": "stderr",
     "output_type": "stream",
     "text": [
      "     17/100         0G      1.034      1.026      1.208          2        640: 100%|██████████| 15/15 [01:40<00:00,  6.68s/it]\n",
      "                 Class     Images  Instances      Box(P          R      mAP50  mAP50-95): 100%|██████████| 1/1 [00:04<00:00,  4.26s/it]"
     ]
    },
    {
     "name": "stdout",
     "output_type": "stream",
     "text": [
      "                   all         22        184      0.786      0.652      0.735      0.408\n"
     ]
    },
    {
     "name": "stderr",
     "output_type": "stream",
     "text": [
      "\n"
     ]
    },
    {
     "name": "stdout",
     "output_type": "stream",
     "text": [
      "\n",
      "      Epoch    GPU_mem   box_loss   cls_loss   dfl_loss  Instances       Size\n"
     ]
    },
    {
     "name": "stderr",
     "output_type": "stream",
     "text": [
      "     18/100         0G      1.113      1.007       1.22          3        640: 100%|██████████| 15/15 [01:39<00:00,  6.64s/it]\n",
      "                 Class     Images  Instances      Box(P          R      mAP50  mAP50-95): 100%|██████████| 1/1 [00:04<00:00,  4.25s/it]"
     ]
    },
    {
     "name": "stdout",
     "output_type": "stream",
     "text": [
      "                   all         22        184      0.653      0.679      0.671      0.359\n"
     ]
    },
    {
     "name": "stderr",
     "output_type": "stream",
     "text": [
      "\n"
     ]
    },
    {
     "name": "stdout",
     "output_type": "stream",
     "text": [
      "\n",
      "      Epoch    GPU_mem   box_loss   cls_loss   dfl_loss  Instances       Size\n"
     ]
    },
    {
     "name": "stderr",
     "output_type": "stream",
     "text": [
      "     19/100         0G      1.154      1.077      1.255         48        640: 100%|██████████| 15/15 [01:33<00:00,  6.25s/it]\n",
      "                 Class     Images  Instances      Box(P          R      mAP50  mAP50-95): 100%|██████████| 1/1 [00:03<00:00,  3.99s/it]"
     ]
    },
    {
     "name": "stdout",
     "output_type": "stream",
     "text": [
      "                   all         22        184      0.585      0.647       0.62      0.318\n"
     ]
    },
    {
     "name": "stderr",
     "output_type": "stream",
     "text": [
      "\n"
     ]
    },
    {
     "name": "stdout",
     "output_type": "stream",
     "text": [
      "\n",
      "      Epoch    GPU_mem   box_loss   cls_loss   dfl_loss  Instances       Size\n"
     ]
    },
    {
     "name": "stderr",
     "output_type": "stream",
     "text": [
      "     20/100         0G      1.082     0.9447       1.21          3        640: 100%|██████████| 15/15 [01:32<00:00,  6.19s/it]\n",
      "                 Class     Images  Instances      Box(P          R      mAP50  mAP50-95): 100%|██████████| 1/1 [00:03<00:00,  3.66s/it]"
     ]
    },
    {
     "name": "stdout",
     "output_type": "stream",
     "text": [
      "                   all         22        184      0.706        0.6      0.649      0.347\n"
     ]
    },
    {
     "name": "stderr",
     "output_type": "stream",
     "text": [
      "\n"
     ]
    },
    {
     "name": "stdout",
     "output_type": "stream",
     "text": [
      "\n",
      "      Epoch    GPU_mem   box_loss   cls_loss   dfl_loss  Instances       Size\n"
     ]
    },
    {
     "name": "stderr",
     "output_type": "stream",
     "text": [
      "     21/100         0G          1     0.8953      1.188          7        640: 100%|██████████| 15/15 [01:26<00:00,  5.77s/it]\n",
      "                 Class     Images  Instances      Box(P          R      mAP50  mAP50-95): 100%|██████████| 1/1 [00:04<00:00,  4.33s/it]"
     ]
    },
    {
     "name": "stdout",
     "output_type": "stream",
     "text": [
      "                   all         22        184      0.676       0.63      0.695      0.394\n"
     ]
    },
    {
     "name": "stderr",
     "output_type": "stream",
     "text": [
      "\n"
     ]
    },
    {
     "name": "stdout",
     "output_type": "stream",
     "text": [
      "\n",
      "      Epoch    GPU_mem   box_loss   cls_loss   dfl_loss  Instances       Size\n"
     ]
    },
    {
     "name": "stderr",
     "output_type": "stream",
     "text": [
      "     22/100         0G      1.242      1.579      1.356          1        640: 100%|██████████| 15/15 [01:27<00:00,  5.85s/it]\n",
      "                 Class     Images  Instances      Box(P          R      mAP50  mAP50-95): 100%|██████████| 1/1 [00:04<00:00,  4.59s/it]"
     ]
    },
    {
     "name": "stdout",
     "output_type": "stream",
     "text": [
      "                   all         22        184      0.787      0.658      0.725      0.404\n"
     ]
    },
    {
     "name": "stderr",
     "output_type": "stream",
     "text": [
      "\n"
     ]
    },
    {
     "name": "stdout",
     "output_type": "stream",
     "text": [
      "\n",
      "      Epoch    GPU_mem   box_loss   cls_loss   dfl_loss  Instances       Size\n"
     ]
    },
    {
     "name": "stderr",
     "output_type": "stream",
     "text": [
      "     23/100         0G      1.012     0.9513      1.178         37        640: 100%|██████████| 15/15 [01:35<00:00,  6.39s/it]\n",
      "                 Class     Images  Instances      Box(P          R      mAP50  mAP50-95): 100%|██████████| 1/1 [00:03<00:00,  3.59s/it]"
     ]
    },
    {
     "name": "stdout",
     "output_type": "stream",
     "text": [
      "                   all         22        184      0.844      0.618      0.738      0.407\n"
     ]
    },
    {
     "name": "stderr",
     "output_type": "stream",
     "text": [
      "\n"
     ]
    },
    {
     "name": "stdout",
     "output_type": "stream",
     "text": [
      "\n",
      "      Epoch    GPU_mem   box_loss   cls_loss   dfl_loss  Instances       Size\n"
     ]
    },
    {
     "name": "stderr",
     "output_type": "stream",
     "text": [
      "     24/100         0G      0.978     0.8724      1.164          2        640: 100%|██████████| 15/15 [01:29<00:00,  5.95s/it]\n",
      "                 Class     Images  Instances      Box(P          R      mAP50  mAP50-95): 100%|██████████| 1/1 [00:03<00:00,  3.74s/it]"
     ]
    },
    {
     "name": "stdout",
     "output_type": "stream",
     "text": [
      "                   all         22        184      0.688      0.679      0.694      0.354\n"
     ]
    },
    {
     "name": "stderr",
     "output_type": "stream",
     "text": [
      "\n"
     ]
    },
    {
     "name": "stdout",
     "output_type": "stream",
     "text": [
      "\n",
      "      Epoch    GPU_mem   box_loss   cls_loss   dfl_loss  Instances       Size\n"
     ]
    },
    {
     "name": "stderr",
     "output_type": "stream",
     "text": [
      "     25/100         0G      1.054     0.9042       1.16          6        640: 100%|██████████| 15/15 [01:29<00:00,  5.94s/it]\n",
      "                 Class     Images  Instances      Box(P          R      mAP50  mAP50-95): 100%|██████████| 1/1 [00:03<00:00,  3.88s/it]"
     ]
    },
    {
     "name": "stdout",
     "output_type": "stream",
     "text": [
      "                   all         22        184      0.622      0.644      0.662      0.341\n"
     ]
    },
    {
     "name": "stderr",
     "output_type": "stream",
     "text": [
      "\n"
     ]
    },
    {
     "name": "stdout",
     "output_type": "stream",
     "text": [
      "\n",
      "      Epoch    GPU_mem   box_loss   cls_loss   dfl_loss  Instances       Size\n"
     ]
    },
    {
     "name": "stderr",
     "output_type": "stream",
     "text": [
      "     26/100         0G      1.003     0.9605      1.176         42        640: 100%|██████████| 15/15 [01:31<00:00,  6.10s/it]\n",
      "                 Class     Images  Instances      Box(P          R      mAP50  mAP50-95): 100%|██████████| 1/1 [00:04<00:00,  4.02s/it]"
     ]
    },
    {
     "name": "stdout",
     "output_type": "stream",
     "text": [
      "                   all         22        184      0.758      0.614      0.737       0.43\n"
     ]
    },
    {
     "name": "stderr",
     "output_type": "stream",
     "text": [
      "\n"
     ]
    },
    {
     "name": "stdout",
     "output_type": "stream",
     "text": [
      "\n",
      "      Epoch    GPU_mem   box_loss   cls_loss   dfl_loss  Instances       Size\n"
     ]
    },
    {
     "name": "stderr",
     "output_type": "stream",
     "text": [
      "     27/100         0G      1.018     0.9439      1.154         57        640: 100%|██████████| 15/15 [01:32<00:00,  6.19s/it]\n",
      "                 Class     Images  Instances      Box(P          R      mAP50  mAP50-95): 100%|██████████| 1/1 [00:03<00:00,  3.82s/it]"
     ]
    },
    {
     "name": "stdout",
     "output_type": "stream",
     "text": [
      "                   all         22        184      0.624      0.652      0.675      0.374\n"
     ]
    },
    {
     "name": "stderr",
     "output_type": "stream",
     "text": [
      "\n"
     ]
    },
    {
     "name": "stdout",
     "output_type": "stream",
     "text": [
      "\n",
      "      Epoch    GPU_mem   box_loss   cls_loss   dfl_loss  Instances       Size\n"
     ]
    },
    {
     "name": "stderr",
     "output_type": "stream",
     "text": [
      "     28/100         0G      1.015     0.8858      1.132          4        640: 100%|██████████| 15/15 [01:32<00:00,  6.16s/it]\n",
      "                 Class     Images  Instances      Box(P          R      mAP50  mAP50-95): 100%|██████████| 1/1 [00:03<00:00,  3.99s/it]"
     ]
    },
    {
     "name": "stdout",
     "output_type": "stream",
     "text": [
      "                   all         22        184      0.739      0.677      0.722      0.409\n"
     ]
    },
    {
     "name": "stderr",
     "output_type": "stream",
     "text": [
      "\n"
     ]
    },
    {
     "name": "stdout",
     "output_type": "stream",
     "text": [
      "\n",
      "      Epoch    GPU_mem   box_loss   cls_loss   dfl_loss  Instances       Size\n"
     ]
    },
    {
     "name": "stderr",
     "output_type": "stream",
     "text": [
      "     29/100         0G      1.003     0.8717      1.165         22        640: 100%|██████████| 15/15 [01:24<00:00,  5.64s/it]\n",
      "                 Class     Images  Instances      Box(P          R      mAP50  mAP50-95): 100%|██████████| 1/1 [00:03<00:00,  3.77s/it]"
     ]
    },
    {
     "name": "stdout",
     "output_type": "stream",
     "text": [
      "                   all         22        184      0.768      0.641      0.722      0.389\n"
     ]
    },
    {
     "name": "stderr",
     "output_type": "stream",
     "text": [
      "\n"
     ]
    },
    {
     "name": "stdout",
     "output_type": "stream",
     "text": [
      "\n",
      "      Epoch    GPU_mem   box_loss   cls_loss   dfl_loss  Instances       Size\n"
     ]
    },
    {
     "name": "stderr",
     "output_type": "stream",
     "text": [
      "     30/100         0G     0.9492     0.7921      1.151          4        640: 100%|██████████| 15/15 [01:24<00:00,  5.62s/it]\n",
      "                 Class     Images  Instances      Box(P          R      mAP50  mAP50-95): 100%|██████████| 1/1 [00:03<00:00,  3.74s/it]"
     ]
    },
    {
     "name": "stdout",
     "output_type": "stream",
     "text": [
      "                   all         22        184      0.776      0.609      0.712      0.386\n"
     ]
    },
    {
     "name": "stderr",
     "output_type": "stream",
     "text": [
      "\n"
     ]
    },
    {
     "name": "stdout",
     "output_type": "stream",
     "text": [
      "\n",
      "      Epoch    GPU_mem   box_loss   cls_loss   dfl_loss  Instances       Size\n"
     ]
    },
    {
     "name": "stderr",
     "output_type": "stream",
     "text": [
      "     31/100         0G     0.9422     0.7969      1.125          9        640: 100%|██████████| 15/15 [01:23<00:00,  5.60s/it]\n",
      "                 Class     Images  Instances      Box(P          R      mAP50  mAP50-95): 100%|██████████| 1/1 [00:03<00:00,  3.71s/it]"
     ]
    },
    {
     "name": "stdout",
     "output_type": "stream",
     "text": [
      "                   all         22        184      0.684      0.625      0.671      0.392\n"
     ]
    },
    {
     "name": "stderr",
     "output_type": "stream",
     "text": [
      "\n"
     ]
    },
    {
     "name": "stdout",
     "output_type": "stream",
     "text": [
      "\n",
      "      Epoch    GPU_mem   box_loss   cls_loss   dfl_loss  Instances       Size\n"
     ]
    },
    {
     "name": "stderr",
     "output_type": "stream",
     "text": [
      "     32/100         0G     0.9541     0.8557      1.179          4        640: 100%|██████████| 15/15 [01:24<00:00,  5.64s/it]\n",
      "                 Class     Images  Instances      Box(P          R      mAP50  mAP50-95): 100%|██████████| 1/1 [00:03<00:00,  3.61s/it]"
     ]
    },
    {
     "name": "stdout",
     "output_type": "stream",
     "text": [
      "                   all         22        184      0.762      0.582      0.672      0.399\n"
     ]
    },
    {
     "name": "stderr",
     "output_type": "stream",
     "text": [
      "\n"
     ]
    },
    {
     "name": "stdout",
     "output_type": "stream",
     "text": [
      "\n",
      "      Epoch    GPU_mem   box_loss   cls_loss   dfl_loss  Instances       Size\n"
     ]
    },
    {
     "name": "stderr",
     "output_type": "stream",
     "text": [
      "     33/100         0G     0.9278     0.7978      1.103         14        640: 100%|██████████| 15/15 [01:38<00:00,  6.59s/it]\n",
      "                 Class     Images  Instances      Box(P          R      mAP50  mAP50-95): 100%|██████████| 1/1 [00:03<00:00,  3.83s/it]"
     ]
    },
    {
     "name": "stdout",
     "output_type": "stream",
     "text": [
      "                   all         22        184      0.742      0.717       0.74       0.42\n"
     ]
    },
    {
     "name": "stderr",
     "output_type": "stream",
     "text": [
      "\n"
     ]
    },
    {
     "name": "stdout",
     "output_type": "stream",
     "text": [
      "\n",
      "      Epoch    GPU_mem   box_loss   cls_loss   dfl_loss  Instances       Size\n"
     ]
    },
    {
     "name": "stderr",
     "output_type": "stream",
     "text": [
      "     34/100         0G     0.9382     0.8328      1.145          7        640: 100%|██████████| 15/15 [01:28<00:00,  5.87s/it]\n",
      "                 Class     Images  Instances      Box(P          R      mAP50  mAP50-95): 100%|██████████| 1/1 [00:03<00:00,  3.77s/it]"
     ]
    },
    {
     "name": "stdout",
     "output_type": "stream",
     "text": [
      "                   all         22        184      0.812       0.68      0.753      0.427\n"
     ]
    },
    {
     "name": "stderr",
     "output_type": "stream",
     "text": [
      "\n"
     ]
    },
    {
     "name": "stdout",
     "output_type": "stream",
     "text": [
      "\n",
      "      Epoch    GPU_mem   box_loss   cls_loss   dfl_loss  Instances       Size\n"
     ]
    },
    {
     "name": "stderr",
     "output_type": "stream",
     "text": [
      "     35/100         0G     0.9881     0.8216      1.138         11        640: 100%|██████████| 15/15 [01:28<00:00,  5.92s/it]\n",
      "                 Class     Images  Instances      Box(P          R      mAP50  mAP50-95): 100%|██████████| 1/1 [00:03<00:00,  3.81s/it]"
     ]
    },
    {
     "name": "stdout",
     "output_type": "stream",
     "text": [
      "                   all         22        184      0.767      0.728      0.792      0.463\n"
     ]
    },
    {
     "name": "stderr",
     "output_type": "stream",
     "text": [
      "\n"
     ]
    },
    {
     "name": "stdout",
     "output_type": "stream",
     "text": [
      "\n",
      "      Epoch    GPU_mem   box_loss   cls_loss   dfl_loss  Instances       Size\n"
     ]
    },
    {
     "name": "stderr",
     "output_type": "stream",
     "text": [
      "     36/100         0G     0.9587      0.767      1.085         25        640: 100%|██████████| 15/15 [01:28<00:00,  5.93s/it]\n",
      "                 Class     Images  Instances      Box(P          R      mAP50  mAP50-95): 100%|██████████| 1/1 [00:03<00:00,  3.90s/it]"
     ]
    },
    {
     "name": "stdout",
     "output_type": "stream",
     "text": [
      "                   all         22        184       0.78      0.713      0.781      0.466\n"
     ]
    },
    {
     "name": "stderr",
     "output_type": "stream",
     "text": [
      "\n"
     ]
    },
    {
     "name": "stdout",
     "output_type": "stream",
     "text": [
      "\n",
      "      Epoch    GPU_mem   box_loss   cls_loss   dfl_loss  Instances       Size\n"
     ]
    },
    {
     "name": "stderr",
     "output_type": "stream",
     "text": [
      "     37/100         0G     0.9296     0.7289      1.085         13        640: 100%|██████████| 15/15 [01:29<00:00,  5.94s/it]\n",
      "                 Class     Images  Instances      Box(P          R      mAP50  mAP50-95): 100%|██████████| 1/1 [00:03<00:00,  3.78s/it]"
     ]
    },
    {
     "name": "stdout",
     "output_type": "stream",
     "text": [
      "                   all         22        184      0.867      0.639      0.754      0.434\n"
     ]
    },
    {
     "name": "stderr",
     "output_type": "stream",
     "text": [
      "\n"
     ]
    },
    {
     "name": "stdout",
     "output_type": "stream",
     "text": [
      "\n",
      "      Epoch    GPU_mem   box_loss   cls_loss   dfl_loss  Instances       Size\n"
     ]
    },
    {
     "name": "stderr",
     "output_type": "stream",
     "text": [
      "     38/100         0G     0.9311     0.7927      1.099         22        640: 100%|██████████| 15/15 [01:29<00:00,  5.94s/it]\n",
      "                 Class     Images  Instances      Box(P          R      mAP50  mAP50-95): 100%|██████████| 1/1 [00:03<00:00,  3.87s/it]"
     ]
    },
    {
     "name": "stdout",
     "output_type": "stream",
     "text": [
      "                   all         22        184      0.778      0.636      0.739      0.407\n"
     ]
    },
    {
     "name": "stderr",
     "output_type": "stream",
     "text": [
      "\n"
     ]
    },
    {
     "name": "stdout",
     "output_type": "stream",
     "text": [
      "\n",
      "      Epoch    GPU_mem   box_loss   cls_loss   dfl_loss  Instances       Size\n"
     ]
    },
    {
     "name": "stderr",
     "output_type": "stream",
     "text": [
      "     39/100         0G      0.942     0.8104      1.104         19        640: 100%|██████████| 15/15 [01:29<00:00,  5.96s/it]\n",
      "                 Class     Images  Instances      Box(P          R      mAP50  mAP50-95): 100%|██████████| 1/1 [00:03<00:00,  3.72s/it]"
     ]
    },
    {
     "name": "stdout",
     "output_type": "stream",
     "text": [
      "                   all         22        184      0.731       0.69      0.789      0.462\n"
     ]
    },
    {
     "name": "stderr",
     "output_type": "stream",
     "text": [
      "\n"
     ]
    },
    {
     "name": "stdout",
     "output_type": "stream",
     "text": [
      "\n",
      "      Epoch    GPU_mem   box_loss   cls_loss   dfl_loss  Instances       Size\n"
     ]
    },
    {
     "name": "stderr",
     "output_type": "stream",
     "text": [
      "     40/100         0G     0.8889     0.7384      1.098          7        640: 100%|██████████| 15/15 [01:28<00:00,  5.90s/it]\n",
      "                 Class     Images  Instances      Box(P          R      mAP50  mAP50-95): 100%|██████████| 1/1 [00:03<00:00,  3.82s/it]"
     ]
    },
    {
     "name": "stdout",
     "output_type": "stream",
     "text": [
      "                   all         22        184      0.831      0.641      0.764      0.437\n"
     ]
    },
    {
     "name": "stderr",
     "output_type": "stream",
     "text": [
      "\n"
     ]
    },
    {
     "name": "stdout",
     "output_type": "stream",
     "text": [
      "\n",
      "      Epoch    GPU_mem   box_loss   cls_loss   dfl_loss  Instances       Size\n"
     ]
    },
    {
     "name": "stderr",
     "output_type": "stream",
     "text": [
      "     41/100         0G     0.8509     0.6911      1.071          5        640: 100%|██████████| 15/15 [01:31<00:00,  6.10s/it]\n",
      "                 Class     Images  Instances      Box(P          R      mAP50  mAP50-95): 100%|██████████| 1/1 [00:04<00:00,  4.35s/it]"
     ]
    },
    {
     "name": "stdout",
     "output_type": "stream",
     "text": [
      "                   all         22        184      0.811      0.679      0.787      0.464\n"
     ]
    },
    {
     "name": "stderr",
     "output_type": "stream",
     "text": [
      "\n"
     ]
    },
    {
     "name": "stdout",
     "output_type": "stream",
     "text": [
      "\n",
      "      Epoch    GPU_mem   box_loss   cls_loss   dfl_loss  Instances       Size\n"
     ]
    },
    {
     "name": "stderr",
     "output_type": "stream",
     "text": [
      "     42/100         0G     0.8761     0.7071      1.075          5        640: 100%|██████████| 15/15 [01:29<00:00,  5.97s/it]\n",
      "                 Class     Images  Instances      Box(P          R      mAP50  mAP50-95): 100%|██████████| 1/1 [00:03<00:00,  3.57s/it]"
     ]
    },
    {
     "name": "stdout",
     "output_type": "stream",
     "text": [
      "                   all         22        184      0.799      0.674      0.784      0.464\n"
     ]
    },
    {
     "name": "stderr",
     "output_type": "stream",
     "text": [
      "\n"
     ]
    },
    {
     "name": "stdout",
     "output_type": "stream",
     "text": [
      "\n",
      "      Epoch    GPU_mem   box_loss   cls_loss   dfl_loss  Instances       Size\n"
     ]
    },
    {
     "name": "stderr",
     "output_type": "stream",
     "text": [
      "     43/100         0G     0.8222      0.711      1.048          5        640: 100%|██████████| 15/15 [01:36<00:00,  6.43s/it]\n",
      "                 Class     Images  Instances      Box(P          R      mAP50  mAP50-95): 100%|██████████| 1/1 [00:03<00:00,  3.52s/it]"
     ]
    },
    {
     "name": "stdout",
     "output_type": "stream",
     "text": [
      "                   all         22        184      0.762      0.714      0.774      0.454\n"
     ]
    },
    {
     "name": "stderr",
     "output_type": "stream",
     "text": [
      "\n"
     ]
    },
    {
     "name": "stdout",
     "output_type": "stream",
     "text": [
      "\n",
      "      Epoch    GPU_mem   box_loss   cls_loss   dfl_loss  Instances       Size\n"
     ]
    },
    {
     "name": "stderr",
     "output_type": "stream",
     "text": [
      "     44/100         0G     0.9081     0.7927      1.139          3        640: 100%|██████████| 15/15 [01:24<00:00,  5.66s/it]\n",
      "                 Class     Images  Instances      Box(P          R      mAP50  mAP50-95): 100%|██████████| 1/1 [00:03<00:00,  3.74s/it]"
     ]
    },
    {
     "name": "stdout",
     "output_type": "stream",
     "text": [
      "                   all         22        184      0.795      0.694      0.787      0.443\n"
     ]
    },
    {
     "name": "stderr",
     "output_type": "stream",
     "text": [
      "\n"
     ]
    },
    {
     "name": "stdout",
     "output_type": "stream",
     "text": [
      "\n",
      "      Epoch    GPU_mem   box_loss   cls_loss   dfl_loss  Instances       Size\n"
     ]
    },
    {
     "name": "stderr",
     "output_type": "stream",
     "text": [
      "     45/100         0G     0.8859     0.7174      1.115          4        640: 100%|██████████| 15/15 [01:29<00:00,  5.97s/it]\n",
      "                 Class     Images  Instances      Box(P          R      mAP50  mAP50-95): 100%|██████████| 1/1 [00:03<00:00,  3.80s/it]"
     ]
    },
    {
     "name": "stdout",
     "output_type": "stream",
     "text": [
      "                   all         22        184      0.796      0.742      0.815      0.474\n"
     ]
    },
    {
     "name": "stderr",
     "output_type": "stream",
     "text": [
      "\n"
     ]
    },
    {
     "name": "stdout",
     "output_type": "stream",
     "text": [
      "\n",
      "      Epoch    GPU_mem   box_loss   cls_loss   dfl_loss  Instances       Size\n"
     ]
    },
    {
     "name": "stderr",
     "output_type": "stream",
     "text": [
      "     46/100         0G     0.8673     0.7161      1.059         36        640: 100%|██████████| 15/15 [01:28<00:00,  5.91s/it]\n",
      "                 Class     Images  Instances      Box(P          R      mAP50  mAP50-95): 100%|██████████| 1/1 [00:03<00:00,  3.70s/it]"
     ]
    },
    {
     "name": "stdout",
     "output_type": "stream",
     "text": [
      "                   all         22        184      0.779      0.668       0.77      0.446\n"
     ]
    },
    {
     "name": "stderr",
     "output_type": "stream",
     "text": [
      "\n"
     ]
    },
    {
     "name": "stdout",
     "output_type": "stream",
     "text": [
      "\n",
      "      Epoch    GPU_mem   box_loss   cls_loss   dfl_loss  Instances       Size\n"
     ]
    },
    {
     "name": "stderr",
     "output_type": "stream",
     "text": [
      "     47/100         0G     0.8673     0.7243      1.076         75        640: 100%|██████████| 15/15 [01:19<00:00,  5.32s/it]\n",
      "                 Class     Images  Instances      Box(P          R      mAP50  mAP50-95): 100%|██████████| 1/1 [00:03<00:00,  3.21s/it]"
     ]
    },
    {
     "name": "stdout",
     "output_type": "stream",
     "text": [
      "                   all         22        184      0.743      0.737      0.767       0.44\n"
     ]
    },
    {
     "name": "stderr",
     "output_type": "stream",
     "text": [
      "\n"
     ]
    },
    {
     "name": "stdout",
     "output_type": "stream",
     "text": [
      "\n",
      "      Epoch    GPU_mem   box_loss   cls_loss   dfl_loss  Instances       Size\n"
     ]
    },
    {
     "name": "stderr",
     "output_type": "stream",
     "text": [
      "     48/100         0G     0.8656     0.7107      1.156          3        640: 100%|██████████| 15/15 [01:19<00:00,  5.30s/it]\n",
      "                 Class     Images  Instances      Box(P          R      mAP50  mAP50-95): 100%|██████████| 1/1 [00:04<00:00,  4.28s/it]"
     ]
    },
    {
     "name": "stdout",
     "output_type": "stream",
     "text": [
      "                   all         22        184      0.837      0.642      0.756      0.421\n"
     ]
    },
    {
     "name": "stderr",
     "output_type": "stream",
     "text": [
      "\n"
     ]
    },
    {
     "name": "stdout",
     "output_type": "stream",
     "text": [
      "\n",
      "      Epoch    GPU_mem   box_loss   cls_loss   dfl_loss  Instances       Size\n"
     ]
    },
    {
     "name": "stderr",
     "output_type": "stream",
     "text": [
      "     49/100         0G      0.933     0.8466      1.144          2        640: 100%|██████████| 15/15 [01:26<00:00,  5.77s/it]\n",
      "                 Class     Images  Instances      Box(P          R      mAP50  mAP50-95): 100%|██████████| 1/1 [00:03<00:00,  3.73s/it]"
     ]
    },
    {
     "name": "stdout",
     "output_type": "stream",
     "text": [
      "                   all         22        184      0.787      0.701       0.78      0.426\n"
     ]
    },
    {
     "name": "stderr",
     "output_type": "stream",
     "text": [
      "\n"
     ]
    },
    {
     "name": "stdout",
     "output_type": "stream",
     "text": [
      "\n",
      "      Epoch    GPU_mem   box_loss   cls_loss   dfl_loss  Instances       Size\n"
     ]
    },
    {
     "name": "stderr",
     "output_type": "stream",
     "text": [
      "     50/100         0G      1.056      1.047      1.466          1        640: 100%|██████████| 15/15 [01:23<00:00,  5.58s/it]\n",
      "                 Class     Images  Instances      Box(P          R      mAP50  mAP50-95): 100%|██████████| 1/1 [00:03<00:00,  3.82s/it]"
     ]
    },
    {
     "name": "stdout",
     "output_type": "stream",
     "text": [
      "                   all         22        184      0.821      0.652      0.764       0.45\n"
     ]
    },
    {
     "name": "stderr",
     "output_type": "stream",
     "text": [
      "\n"
     ]
    },
    {
     "name": "stdout",
     "output_type": "stream",
     "text": [
      "\n",
      "      Epoch    GPU_mem   box_loss   cls_loss   dfl_loss  Instances       Size\n"
     ]
    },
    {
     "name": "stderr",
     "output_type": "stream",
     "text": [
      "     51/100         0G     0.7997     0.6333      1.041          6        640: 100%|██████████| 15/15 [01:27<00:00,  5.85s/it]\n",
      "                 Class     Images  Instances      Box(P          R      mAP50  mAP50-95): 100%|██████████| 1/1 [00:03<00:00,  3.48s/it]"
     ]
    },
    {
     "name": "stdout",
     "output_type": "stream",
     "text": [
      "                   all         22        184      0.867      0.625      0.758      0.451\n"
     ]
    },
    {
     "name": "stderr",
     "output_type": "stream",
     "text": [
      "\n"
     ]
    },
    {
     "name": "stdout",
     "output_type": "stream",
     "text": [
      "\n",
      "      Epoch    GPU_mem   box_loss   cls_loss   dfl_loss  Instances       Size\n"
     ]
    },
    {
     "name": "stderr",
     "output_type": "stream",
     "text": [
      "     52/100         0G     0.8215     0.6416      1.049         40        640: 100%|██████████| 15/15 [01:13<00:00,  4.92s/it]\n",
      "                 Class     Images  Instances      Box(P          R      mAP50  mAP50-95): 100%|██████████| 1/1 [00:03<00:00,  3.32s/it]"
     ]
    },
    {
     "name": "stdout",
     "output_type": "stream",
     "text": [
      "                   all         22        184      0.881      0.663      0.769      0.455\n"
     ]
    },
    {
     "name": "stderr",
     "output_type": "stream",
     "text": [
      "\n"
     ]
    },
    {
     "name": "stdout",
     "output_type": "stream",
     "text": [
      "\n",
      "      Epoch    GPU_mem   box_loss   cls_loss   dfl_loss  Instances       Size\n"
     ]
    },
    {
     "name": "stderr",
     "output_type": "stream",
     "text": [
      "     53/100         0G      0.781      0.631      1.046          4        640: 100%|██████████| 15/15 [01:15<00:00,  5.01s/it]\n",
      "                 Class     Images  Instances      Box(P          R      mAP50  mAP50-95): 100%|██████████| 1/1 [00:03<00:00,  3.33s/it]"
     ]
    },
    {
     "name": "stdout",
     "output_type": "stream",
     "text": [
      "                   all         22        184      0.821      0.636      0.751      0.455\n"
     ]
    },
    {
     "name": "stderr",
     "output_type": "stream",
     "text": [
      "\n"
     ]
    },
    {
     "name": "stdout",
     "output_type": "stream",
     "text": [
      "\n",
      "      Epoch    GPU_mem   box_loss   cls_loss   dfl_loss  Instances       Size\n"
     ]
    },
    {
     "name": "stderr",
     "output_type": "stream",
     "text": [
      "     54/100         0G     0.7919     0.6254      1.039          6        640: 100%|██████████| 15/15 [01:15<00:00,  5.04s/it]\n",
      "                 Class     Images  Instances      Box(P          R      mAP50  mAP50-95): 100%|██████████| 1/1 [00:03<00:00,  3.27s/it]"
     ]
    },
    {
     "name": "stdout",
     "output_type": "stream",
     "text": [
      "                   all         22        184       0.83      0.674      0.793      0.471\n"
     ]
    },
    {
     "name": "stderr",
     "output_type": "stream",
     "text": [
      "\n"
     ]
    },
    {
     "name": "stdout",
     "output_type": "stream",
     "text": [
      "\n",
      "      Epoch    GPU_mem   box_loss   cls_loss   dfl_loss  Instances       Size\n"
     ]
    },
    {
     "name": "stderr",
     "output_type": "stream",
     "text": [
      "     55/100         0G     0.8182     0.6565      1.056         50        640: 100%|██████████| 15/15 [01:13<00:00,  4.93s/it]\n",
      "                 Class     Images  Instances      Box(P          R      mAP50  mAP50-95): 100%|██████████| 1/1 [00:03<00:00,  3.30s/it]"
     ]
    },
    {
     "name": "stdout",
     "output_type": "stream",
     "text": [
      "                   all         22        184      0.836      0.663      0.782      0.464\n"
     ]
    },
    {
     "name": "stderr",
     "output_type": "stream",
     "text": [
      "\n"
     ]
    },
    {
     "name": "stdout",
     "output_type": "stream",
     "text": [
      "\n",
      "      Epoch    GPU_mem   box_loss   cls_loss   dfl_loss  Instances       Size\n"
     ]
    },
    {
     "name": "stderr",
     "output_type": "stream",
     "text": [
      "     56/100         0G     0.7719     0.5992      1.038         28        640: 100%|██████████| 15/15 [01:14<00:00,  4.94s/it]\n",
      "                 Class     Images  Instances      Box(P          R      mAP50  mAP50-95): 100%|██████████| 1/1 [00:03<00:00,  3.21s/it]"
     ]
    },
    {
     "name": "stdout",
     "output_type": "stream",
     "text": [
      "                   all         22        184      0.668      0.701      0.728      0.435\n"
     ]
    },
    {
     "name": "stderr",
     "output_type": "stream",
     "text": [
      "\n"
     ]
    },
    {
     "name": "stdout",
     "output_type": "stream",
     "text": [
      "\n",
      "      Epoch    GPU_mem   box_loss   cls_loss   dfl_loss  Instances       Size\n"
     ]
    },
    {
     "name": "stderr",
     "output_type": "stream",
     "text": [
      "     57/100         0G     0.7464     0.6332      1.063          4        640: 100%|██████████| 15/15 [01:14<00:00,  4.94s/it]\n",
      "                 Class     Images  Instances      Box(P          R      mAP50  mAP50-95): 100%|██████████| 1/1 [00:03<00:00,  3.34s/it]"
     ]
    },
    {
     "name": "stdout",
     "output_type": "stream",
     "text": [
      "                   all         22        184      0.827      0.674       0.78      0.474\n"
     ]
    },
    {
     "name": "stderr",
     "output_type": "stream",
     "text": [
      "\n"
     ]
    },
    {
     "name": "stdout",
     "output_type": "stream",
     "text": [
      "\n",
      "      Epoch    GPU_mem   box_loss   cls_loss   dfl_loss  Instances       Size\n"
     ]
    },
    {
     "name": "stderr",
     "output_type": "stream",
     "text": [
      "     58/100         0G     0.7719      0.633      1.034          3        640: 100%|██████████| 15/15 [01:16<00:00,  5.09s/it]\n",
      "                 Class     Images  Instances      Box(P          R      mAP50  mAP50-95): 100%|██████████| 1/1 [00:03<00:00,  3.77s/it]"
     ]
    },
    {
     "name": "stdout",
     "output_type": "stream",
     "text": [
      "                   all         22        184      0.788      0.696      0.748      0.447\n"
     ]
    },
    {
     "name": "stderr",
     "output_type": "stream",
     "text": [
      "\n"
     ]
    },
    {
     "name": "stdout",
     "output_type": "stream",
     "text": [
      "\n",
      "      Epoch    GPU_mem   box_loss   cls_loss   dfl_loss  Instances       Size\n"
     ]
    },
    {
     "name": "stderr",
     "output_type": "stream",
     "text": [
      "     59/100         0G     0.7314     0.5842      1.056          5        640: 100%|██████████| 15/15 [01:18<00:00,  5.23s/it]\n",
      "                 Class     Images  Instances      Box(P          R      mAP50  mAP50-95): 100%|██████████| 1/1 [00:03<00:00,  3.30s/it]"
     ]
    },
    {
     "name": "stdout",
     "output_type": "stream",
     "text": [
      "                   all         22        184       0.77      0.663      0.739      0.459\n"
     ]
    },
    {
     "name": "stderr",
     "output_type": "stream",
     "text": [
      "\n"
     ]
    },
    {
     "name": "stdout",
     "output_type": "stream",
     "text": [
      "\n",
      "      Epoch    GPU_mem   box_loss   cls_loss   dfl_loss  Instances       Size\n"
     ]
    },
    {
     "name": "stderr",
     "output_type": "stream",
     "text": [
      "     60/100         0G     0.7164     0.5749      1.028          5        640: 100%|██████████| 15/15 [01:15<00:00,  5.03s/it]\n",
      "                 Class     Images  Instances      Box(P          R      mAP50  mAP50-95): 100%|██████████| 1/1 [00:03<00:00,  3.36s/it]"
     ]
    },
    {
     "name": "stdout",
     "output_type": "stream",
     "text": [
      "                   all         22        184      0.734      0.652      0.717      0.441\n"
     ]
    },
    {
     "name": "stderr",
     "output_type": "stream",
     "text": [
      "\n"
     ]
    },
    {
     "name": "stdout",
     "output_type": "stream",
     "text": [
      "\n",
      "      Epoch    GPU_mem   box_loss   cls_loss   dfl_loss  Instances       Size\n"
     ]
    },
    {
     "name": "stderr",
     "output_type": "stream",
     "text": [
      "     61/100         0G     0.6967     0.5618      1.014          5        640: 100%|██████████| 15/15 [01:14<00:00,  5.00s/it]\n",
      "                 Class     Images  Instances      Box(P          R      mAP50  mAP50-95): 100%|██████████| 1/1 [00:03<00:00,  3.36s/it]"
     ]
    },
    {
     "name": "stdout",
     "output_type": "stream",
     "text": [
      "                   all         22        184      0.804      0.647      0.745      0.469\n"
     ]
    },
    {
     "name": "stderr",
     "output_type": "stream",
     "text": [
      "\n"
     ]
    },
    {
     "name": "stdout",
     "output_type": "stream",
     "text": [
      "\n",
      "      Epoch    GPU_mem   box_loss   cls_loss   dfl_loss  Instances       Size\n"
     ]
    },
    {
     "name": "stderr",
     "output_type": "stream",
     "text": [
      "     62/100         0G     0.7213      0.571      1.025          4        640: 100%|██████████| 15/15 [01:15<00:00,  5.05s/it]\n",
      "                 Class     Images  Instances      Box(P          R      mAP50  mAP50-95): 100%|██████████| 1/1 [00:03<00:00,  3.33s/it]"
     ]
    },
    {
     "name": "stdout",
     "output_type": "stream",
     "text": [
      "                   all         22        184      0.795      0.654      0.764      0.463\n"
     ]
    },
    {
     "name": "stderr",
     "output_type": "stream",
     "text": [
      "\n"
     ]
    },
    {
     "name": "stdout",
     "output_type": "stream",
     "text": [
      "\n",
      "      Epoch    GPU_mem   box_loss   cls_loss   dfl_loss  Instances       Size\n"
     ]
    },
    {
     "name": "stderr",
     "output_type": "stream",
     "text": [
      "     63/100         0G     0.7119     0.5591      1.037          2        640: 100%|██████████| 15/15 [01:15<00:00,  5.03s/it]\n",
      "                 Class     Images  Instances      Box(P          R      mAP50  mAP50-95): 100%|██████████| 1/1 [00:03<00:00,  3.31s/it]"
     ]
    },
    {
     "name": "stdout",
     "output_type": "stream",
     "text": [
      "                   all         22        184      0.717      0.712      0.737      0.429\n"
     ]
    },
    {
     "name": "stderr",
     "output_type": "stream",
     "text": [
      "\n"
     ]
    },
    {
     "name": "stdout",
     "output_type": "stream",
     "text": [
      "\n",
      "      Epoch    GPU_mem   box_loss   cls_loss   dfl_loss  Instances       Size\n"
     ]
    },
    {
     "name": "stderr",
     "output_type": "stream",
     "text": [
      "     64/100         0G     0.7937     0.6228      1.012         21        640: 100%|██████████| 15/15 [01:16<00:00,  5.12s/it]\n",
      "                 Class     Images  Instances      Box(P          R      mAP50  mAP50-95): 100%|██████████| 1/1 [00:03<00:00,  3.35s/it]"
     ]
    },
    {
     "name": "stdout",
     "output_type": "stream",
     "text": [
      "                   all         22        184      0.821       0.63      0.751      0.431\n"
     ]
    },
    {
     "name": "stderr",
     "output_type": "stream",
     "text": [
      "\n"
     ]
    },
    {
     "name": "stdout",
     "output_type": "stream",
     "text": [
      "\n",
      "      Epoch    GPU_mem   box_loss   cls_loss   dfl_loss  Instances       Size\n"
     ]
    },
    {
     "name": "stderr",
     "output_type": "stream",
     "text": [
      "     65/100         0G     0.7142      0.575      1.018          9        640: 100%|██████████| 15/15 [01:14<00:00,  4.99s/it]\n",
      "                 Class     Images  Instances      Box(P          R      mAP50  mAP50-95): 100%|██████████| 1/1 [00:03<00:00,  3.29s/it]"
     ]
    },
    {
     "name": "stdout",
     "output_type": "stream",
     "text": [
      "                   all         22        184      0.815      0.647       0.77      0.463\n"
     ]
    },
    {
     "name": "stderr",
     "output_type": "stream",
     "text": [
      "\n"
     ]
    },
    {
     "name": "stdout",
     "output_type": "stream",
     "text": [
      "\n",
      "      Epoch    GPU_mem   box_loss   cls_loss   dfl_loss  Instances       Size\n"
     ]
    },
    {
     "name": "stderr",
     "output_type": "stream",
     "text": [
      "     66/100         0G     0.6702     0.5654     0.9958          3        640: 100%|██████████| 15/15 [01:15<00:00,  5.02s/it]\n",
      "                 Class     Images  Instances      Box(P          R      mAP50  mAP50-95): 100%|██████████| 1/1 [00:03<00:00,  3.34s/it]"
     ]
    },
    {
     "name": "stdout",
     "output_type": "stream",
     "text": [
      "                   all         22        184      0.781      0.698      0.777      0.487\n"
     ]
    },
    {
     "name": "stderr",
     "output_type": "stream",
     "text": [
      "\n"
     ]
    },
    {
     "name": "stdout",
     "output_type": "stream",
     "text": [
      "\n",
      "      Epoch    GPU_mem   box_loss   cls_loss   dfl_loss  Instances       Size\n"
     ]
    },
    {
     "name": "stderr",
     "output_type": "stream",
     "text": [
      "     67/100         0G     0.7059     0.6147      1.003         64        640: 100%|██████████| 15/15 [01:15<00:00,  5.01s/it]\n",
      "                 Class     Images  Instances      Box(P          R      mAP50  mAP50-95): 100%|██████████| 1/1 [00:03<00:00,  3.37s/it]"
     ]
    },
    {
     "name": "stdout",
     "output_type": "stream",
     "text": [
      "                   all         22        184      0.717      0.668      0.737      0.443\n"
     ]
    },
    {
     "name": "stderr",
     "output_type": "stream",
     "text": [
      "\n"
     ]
    },
    {
     "name": "stdout",
     "output_type": "stream",
     "text": [
      "\n",
      "      Epoch    GPU_mem   box_loss   cls_loss   dfl_loss  Instances       Size\n"
     ]
    },
    {
     "name": "stderr",
     "output_type": "stream",
     "text": [
      "     68/100         0G     0.7677     0.6252      1.047         10        640: 100%|██████████| 15/15 [01:16<00:00,  5.07s/it]\n",
      "                 Class     Images  Instances      Box(P          R      mAP50  mAP50-95): 100%|██████████| 1/1 [00:03<00:00,  3.28s/it]"
     ]
    },
    {
     "name": "stdout",
     "output_type": "stream",
     "text": [
      "                   all         22        184      0.741      0.699      0.753      0.444\n"
     ]
    },
    {
     "name": "stderr",
     "output_type": "stream",
     "text": [
      "\n"
     ]
    },
    {
     "name": "stdout",
     "output_type": "stream",
     "text": [
      "\n",
      "      Epoch    GPU_mem   box_loss   cls_loss   dfl_loss  Instances       Size\n"
     ]
    },
    {
     "name": "stderr",
     "output_type": "stream",
     "text": [
      "     69/100         0G      0.726     0.5442     0.9959         12        640: 100%|██████████| 15/15 [01:15<00:00,  5.01s/it]\n",
      "                 Class     Images  Instances      Box(P          R      mAP50  mAP50-95): 100%|██████████| 1/1 [00:03<00:00,  3.33s/it]"
     ]
    },
    {
     "name": "stdout",
     "output_type": "stream",
     "text": [
      "                   all         22        184      0.715      0.738      0.774      0.461\n"
     ]
    },
    {
     "name": "stderr",
     "output_type": "stream",
     "text": [
      "\n"
     ]
    },
    {
     "name": "stdout",
     "output_type": "stream",
     "text": [
      "\n",
      "      Epoch    GPU_mem   box_loss   cls_loss   dfl_loss  Instances       Size\n"
     ]
    },
    {
     "name": "stderr",
     "output_type": "stream",
     "text": [
      "     70/100         0G     0.7309     0.5336     0.9965         28        640: 100%|██████████| 15/15 [01:15<00:00,  5.01s/it]\n",
      "                 Class     Images  Instances      Box(P          R      mAP50  mAP50-95): 100%|██████████| 1/1 [00:03<00:00,  3.32s/it]"
     ]
    },
    {
     "name": "stdout",
     "output_type": "stream",
     "text": [
      "                   all         22        184      0.782      0.681      0.771      0.469\n"
     ]
    },
    {
     "name": "stderr",
     "output_type": "stream",
     "text": [
      "\n"
     ]
    },
    {
     "name": "stdout",
     "output_type": "stream",
     "text": [
      "\n",
      "      Epoch    GPU_mem   box_loss   cls_loss   dfl_loss  Instances       Size\n"
     ]
    },
    {
     "name": "stderr",
     "output_type": "stream",
     "text": [
      "     71/100         0G     0.6756     0.5417      1.003          4        640: 100%|██████████| 15/15 [01:14<00:00,  4.99s/it]\n",
      "                 Class     Images  Instances      Box(P          R      mAP50  mAP50-95): 100%|██████████| 1/1 [00:03<00:00,  3.29s/it]"
     ]
    },
    {
     "name": "stdout",
     "output_type": "stream",
     "text": [
      "                   all         22        184      0.805      0.701        0.8      0.495\n"
     ]
    },
    {
     "name": "stderr",
     "output_type": "stream",
     "text": [
      "\n"
     ]
    },
    {
     "name": "stdout",
     "output_type": "stream",
     "text": [
      "\n",
      "      Epoch    GPU_mem   box_loss   cls_loss   dfl_loss  Instances       Size\n"
     ]
    },
    {
     "name": "stderr",
     "output_type": "stream",
     "text": [
      "     72/100         0G     0.7081     0.6084      1.002         51        640: 100%|██████████| 15/15 [01:15<00:00,  5.01s/it]\n",
      "                 Class     Images  Instances      Box(P          R      mAP50  mAP50-95): 100%|██████████| 1/1 [00:03<00:00,  3.29s/it]"
     ]
    },
    {
     "name": "stdout",
     "output_type": "stream",
     "text": [
      "                   all         22        184      0.773      0.685      0.759      0.488\n"
     ]
    },
    {
     "name": "stderr",
     "output_type": "stream",
     "text": [
      "\n"
     ]
    },
    {
     "name": "stdout",
     "output_type": "stream",
     "text": [
      "\n",
      "      Epoch    GPU_mem   box_loss   cls_loss   dfl_loss  Instances       Size\n"
     ]
    },
    {
     "name": "stderr",
     "output_type": "stream",
     "text": [
      "     73/100         0G     0.6706     0.5246     0.9882          3        640: 100%|██████████| 15/15 [01:15<00:00,  5.04s/it]\n",
      "                 Class     Images  Instances      Box(P          R      mAP50  mAP50-95): 100%|██████████| 1/1 [00:03<00:00,  3.30s/it]"
     ]
    },
    {
     "name": "stdout",
     "output_type": "stream",
     "text": [
      "                   all         22        184      0.725      0.759      0.779      0.493\n"
     ]
    },
    {
     "name": "stderr",
     "output_type": "stream",
     "text": [
      "\n"
     ]
    },
    {
     "name": "stdout",
     "output_type": "stream",
     "text": [
      "\n",
      "      Epoch    GPU_mem   box_loss   cls_loss   dfl_loss  Instances       Size\n"
     ]
    },
    {
     "name": "stderr",
     "output_type": "stream",
     "text": [
      "     74/100         0G     0.6995     0.6294      1.008          2        640: 100%|██████████| 15/15 [01:15<00:00,  5.04s/it]\n",
      "                 Class     Images  Instances      Box(P          R      mAP50  mAP50-95): 100%|██████████| 1/1 [00:03<00:00,  3.32s/it]"
     ]
    },
    {
     "name": "stdout",
     "output_type": "stream",
     "text": [
      "                   all         22        184       0.76      0.701      0.775      0.482\n"
     ]
    },
    {
     "name": "stderr",
     "output_type": "stream",
     "text": [
      "\n"
     ]
    },
    {
     "name": "stdout",
     "output_type": "stream",
     "text": [
      "\n",
      "      Epoch    GPU_mem   box_loss   cls_loss   dfl_loss  Instances       Size\n"
     ]
    },
    {
     "name": "stderr",
     "output_type": "stream",
     "text": [
      "     75/100         0G      0.646     0.5459     0.9832          2        640: 100%|██████████| 15/15 [01:16<00:00,  5.10s/it]\n",
      "                 Class     Images  Instances      Box(P          R      mAP50  mAP50-95): 100%|██████████| 1/1 [00:03<00:00,  3.32s/it]"
     ]
    },
    {
     "name": "stdout",
     "output_type": "stream",
     "text": [
      "                   all         22        184       0.79       0.69      0.784      0.489\n"
     ]
    },
    {
     "name": "stderr",
     "output_type": "stream",
     "text": [
      "\n"
     ]
    },
    {
     "name": "stdout",
     "output_type": "stream",
     "text": [
      "\n",
      "      Epoch    GPU_mem   box_loss   cls_loss   dfl_loss  Instances       Size\n"
     ]
    },
    {
     "name": "stderr",
     "output_type": "stream",
     "text": [
      "     76/100         0G      0.684     0.5278     0.9985          7        640: 100%|██████████| 15/15 [01:15<00:00,  5.01s/it]\n",
      "                 Class     Images  Instances      Box(P          R      mAP50  mAP50-95): 100%|██████████| 1/1 [00:03<00:00,  3.32s/it]"
     ]
    },
    {
     "name": "stdout",
     "output_type": "stream",
     "text": [
      "                   all         22        184      0.729      0.688      0.734      0.466\n"
     ]
    },
    {
     "name": "stderr",
     "output_type": "stream",
     "text": [
      "\n"
     ]
    },
    {
     "name": "stdout",
     "output_type": "stream",
     "text": [
      "\n",
      "      Epoch    GPU_mem   box_loss   cls_loss   dfl_loss  Instances       Size\n"
     ]
    },
    {
     "name": "stderr",
     "output_type": "stream",
     "text": [
      "     77/100         0G     0.6938     0.5154      1.043          5        640: 100%|██████████| 15/15 [01:16<00:00,  5.09s/it]\n",
      "                 Class     Images  Instances      Box(P          R      mAP50  mAP50-95): 100%|██████████| 1/1 [00:03<00:00,  3.31s/it]"
     ]
    },
    {
     "name": "stdout",
     "output_type": "stream",
     "text": [
      "                   all         22        184      0.808      0.636      0.762      0.482\n"
     ]
    },
    {
     "name": "stderr",
     "output_type": "stream",
     "text": [
      "\n"
     ]
    },
    {
     "name": "stdout",
     "output_type": "stream",
     "text": [
      "\n",
      "      Epoch    GPU_mem   box_loss   cls_loss   dfl_loss  Instances       Size\n"
     ]
    },
    {
     "name": "stderr",
     "output_type": "stream",
     "text": [
      "     78/100         0G     0.7018     0.5355     0.9873         16        640: 100%|██████████| 15/15 [01:15<00:00,  5.05s/it]\n",
      "                 Class     Images  Instances      Box(P          R      mAP50  mAP50-95): 100%|██████████| 1/1 [00:03<00:00,  3.29s/it]"
     ]
    },
    {
     "name": "stdout",
     "output_type": "stream",
     "text": [
      "                   all         22        184      0.744      0.717      0.752      0.472\n"
     ]
    },
    {
     "name": "stderr",
     "output_type": "stream",
     "text": [
      "\n"
     ]
    },
    {
     "name": "stdout",
     "output_type": "stream",
     "text": [
      "\n",
      "      Epoch    GPU_mem   box_loss   cls_loss   dfl_loss  Instances       Size\n"
     ]
    },
    {
     "name": "stderr",
     "output_type": "stream",
     "text": [
      "     79/100         0G     0.6157     0.5132     0.9878          5        640: 100%|██████████| 15/15 [01:14<00:00,  4.98s/it]\n",
      "                 Class     Images  Instances      Box(P          R      mAP50  mAP50-95): 100%|██████████| 1/1 [00:03<00:00,  3.32s/it]"
     ]
    },
    {
     "name": "stdout",
     "output_type": "stream",
     "text": [
      "                   all         22        184      0.791      0.678       0.75      0.457\n"
     ]
    },
    {
     "name": "stderr",
     "output_type": "stream",
     "text": [
      "\n"
     ]
    },
    {
     "name": "stdout",
     "output_type": "stream",
     "text": [
      "\n",
      "      Epoch    GPU_mem   box_loss   cls_loss   dfl_loss  Instances       Size\n"
     ]
    },
    {
     "name": "stderr",
     "output_type": "stream",
     "text": [
      "     80/100         0G     0.6481     0.5204     0.9829          9        640: 100%|██████████| 15/15 [01:15<00:00,  5.02s/it]\n",
      "                 Class     Images  Instances      Box(P          R      mAP50  mAP50-95): 100%|██████████| 1/1 [00:03<00:00,  3.34s/it]"
     ]
    },
    {
     "name": "stdout",
     "output_type": "stream",
     "text": [
      "                   all         22        184      0.788      0.663      0.747      0.449\n"
     ]
    },
    {
     "name": "stderr",
     "output_type": "stream",
     "text": [
      "\n"
     ]
    },
    {
     "name": "stdout",
     "output_type": "stream",
     "text": [
      "\n",
      "      Epoch    GPU_mem   box_loss   cls_loss   dfl_loss  Instances       Size\n"
     ]
    },
    {
     "name": "stderr",
     "output_type": "stream",
     "text": [
      "     81/100         0G     0.6336       0.49     0.9754          4        640: 100%|██████████| 15/15 [01:15<00:00,  5.00s/it]\n",
      "                 Class     Images  Instances      Box(P          R      mAP50  mAP50-95): 100%|██████████| 1/1 [00:03<00:00,  3.34s/it]"
     ]
    },
    {
     "name": "stdout",
     "output_type": "stream",
     "text": [
      "                   all         22        184      0.821      0.647      0.751      0.451\n"
     ]
    },
    {
     "name": "stderr",
     "output_type": "stream",
     "text": [
      "\n"
     ]
    },
    {
     "name": "stdout",
     "output_type": "stream",
     "text": [
      "\n",
      "      Epoch    GPU_mem   box_loss   cls_loss   dfl_loss  Instances       Size\n"
     ]
    },
    {
     "name": "stderr",
     "output_type": "stream",
     "text": [
      "     82/100         0G     0.6064     0.4753     0.9674         11        640: 100%|██████████| 15/15 [01:15<00:00,  5.00s/it]\n",
      "                 Class     Images  Instances      Box(P          R      mAP50  mAP50-95): 100%|██████████| 1/1 [00:03<00:00,  3.36s/it]"
     ]
    },
    {
     "name": "stdout",
     "output_type": "stream",
     "text": [
      "                   all         22        184      0.836      0.647      0.759      0.462\n"
     ]
    },
    {
     "name": "stderr",
     "output_type": "stream",
     "text": [
      "\n"
     ]
    },
    {
     "name": "stdout",
     "output_type": "stream",
     "text": [
      "\n",
      "      Epoch    GPU_mem   box_loss   cls_loss   dfl_loss  Instances       Size\n"
     ]
    },
    {
     "name": "stderr",
     "output_type": "stream",
     "text": [
      "     83/100         0G     0.5833     0.4949     0.9631          2        640: 100%|██████████| 15/15 [01:15<00:00,  5.07s/it]\n",
      "                 Class     Images  Instances      Box(P          R      mAP50  mAP50-95): 100%|██████████| 1/1 [00:03<00:00,  3.34s/it]"
     ]
    },
    {
     "name": "stdout",
     "output_type": "stream",
     "text": [
      "                   all         22        184       0.83      0.665      0.764      0.466\n"
     ]
    },
    {
     "name": "stderr",
     "output_type": "stream",
     "text": [
      "\n"
     ]
    },
    {
     "name": "stdout",
     "output_type": "stream",
     "text": [
      "\n",
      "      Epoch    GPU_mem   box_loss   cls_loss   dfl_loss  Instances       Size\n"
     ]
    },
    {
     "name": "stderr",
     "output_type": "stream",
     "text": [
      "     84/100         0G     0.6729     0.5434     0.9978         24        640: 100%|██████████| 15/15 [01:15<00:00,  5.01s/it]\n",
      "                 Class     Images  Instances      Box(P          R      mAP50  mAP50-95): 100%|██████████| 1/1 [00:03<00:00,  3.29s/it]"
     ]
    },
    {
     "name": "stdout",
     "output_type": "stream",
     "text": [
      "                   all         22        184      0.841      0.663       0.79      0.482\n"
     ]
    },
    {
     "name": "stderr",
     "output_type": "stream",
     "text": [
      "\n"
     ]
    },
    {
     "name": "stdout",
     "output_type": "stream",
     "text": [
      "\n",
      "      Epoch    GPU_mem   box_loss   cls_loss   dfl_loss  Instances       Size\n"
     ]
    },
    {
     "name": "stderr",
     "output_type": "stream",
     "text": [
      "     85/100         0G     0.9097     0.8502      1.316          1        640: 100%|██████████| 15/15 [01:16<00:00,  5.09s/it]\n",
      "                 Class     Images  Instances      Box(P          R      mAP50  mAP50-95): 100%|██████████| 1/1 [00:03<00:00,  3.29s/it]"
     ]
    },
    {
     "name": "stdout",
     "output_type": "stream",
     "text": [
      "                   all         22        184      0.788      0.706      0.799       0.49\n"
     ]
    },
    {
     "name": "stderr",
     "output_type": "stream",
     "text": [
      "\n"
     ]
    },
    {
     "name": "stdout",
     "output_type": "stream",
     "text": [
      "\n",
      "      Epoch    GPU_mem   box_loss   cls_loss   dfl_loss  Instances       Size\n"
     ]
    },
    {
     "name": "stderr",
     "output_type": "stream",
     "text": [
      "     86/100         0G     0.6654     0.5154     0.9952          6        640: 100%|██████████| 15/15 [01:15<00:00,  5.03s/it]\n",
      "                 Class     Images  Instances      Box(P          R      mAP50  mAP50-95): 100%|██████████| 1/1 [00:03<00:00,  3.36s/it]"
     ]
    },
    {
     "name": "stdout",
     "output_type": "stream",
     "text": [
      "                   all         22        184       0.75      0.734      0.786      0.486\n"
     ]
    },
    {
     "name": "stderr",
     "output_type": "stream",
     "text": [
      "\n"
     ]
    },
    {
     "name": "stdout",
     "output_type": "stream",
     "text": [
      "\n",
      "      Epoch    GPU_mem   box_loss   cls_loss   dfl_loss  Instances       Size\n"
     ]
    },
    {
     "name": "stderr",
     "output_type": "stream",
     "text": [
      "     87/100         0G     0.6236     0.4704     0.9552         12        640: 100%|██████████| 15/15 [01:15<00:00,  5.03s/it]\n",
      "                 Class     Images  Instances      Box(P          R      mAP50  mAP50-95): 100%|██████████| 1/1 [00:03<00:00,  3.39s/it]"
     ]
    },
    {
     "name": "stdout",
     "output_type": "stream",
     "text": [
      "                   all         22        184      0.775      0.711      0.779       0.48\n"
     ]
    },
    {
     "name": "stderr",
     "output_type": "stream",
     "text": [
      "\n"
     ]
    },
    {
     "name": "stdout",
     "output_type": "stream",
     "text": [
      "\n",
      "      Epoch    GPU_mem   box_loss   cls_loss   dfl_loss  Instances       Size\n"
     ]
    },
    {
     "name": "stderr",
     "output_type": "stream",
     "text": [
      "     88/100         0G     0.6657     0.4866     0.9647         15        640: 100%|██████████| 15/15 [01:15<00:00,  5.06s/it]\n",
      "                 Class     Images  Instances      Box(P          R      mAP50  mAP50-95): 100%|██████████| 1/1 [00:03<00:00,  3.34s/it]"
     ]
    },
    {
     "name": "stdout",
     "output_type": "stream",
     "text": [
      "                   all         22        184      0.816      0.679      0.778      0.477\n"
     ]
    },
    {
     "name": "stderr",
     "output_type": "stream",
     "text": [
      "\n"
     ]
    },
    {
     "name": "stdout",
     "output_type": "stream",
     "text": [
      "\n",
      "      Epoch    GPU_mem   box_loss   cls_loss   dfl_loss  Instances       Size\n"
     ]
    },
    {
     "name": "stderr",
     "output_type": "stream",
     "text": [
      "     89/100         0G     0.5831     0.4579     0.9716          5        640: 100%|██████████| 15/15 [01:14<00:00,  4.99s/it]\n",
      "                 Class     Images  Instances      Box(P          R      mAP50  mAP50-95): 100%|██████████| 1/1 [00:03<00:00,  3.26s/it]"
     ]
    },
    {
     "name": "stdout",
     "output_type": "stream",
     "text": [
      "                   all         22        184      0.801       0.72      0.798      0.488\n"
     ]
    },
    {
     "name": "stderr",
     "output_type": "stream",
     "text": [
      "\n"
     ]
    },
    {
     "name": "stdout",
     "output_type": "stream",
     "text": [
      "\n",
      "      Epoch    GPU_mem   box_loss   cls_loss   dfl_loss  Instances       Size\n"
     ]
    },
    {
     "name": "stderr",
     "output_type": "stream",
     "text": [
      "     90/100         0G     0.6218      0.459     0.9696          7        640: 100%|██████████| 15/15 [01:14<00:00,  4.99s/it]\n",
      "                 Class     Images  Instances      Box(P          R      mAP50  mAP50-95): 100%|██████████| 1/1 [00:03<00:00,  3.33s/it]"
     ]
    },
    {
     "name": "stdout",
     "output_type": "stream",
     "text": [
      "                   all         22        184      0.802      0.696      0.788      0.487\n"
     ]
    },
    {
     "name": "stderr",
     "output_type": "stream",
     "text": [
      "\n"
     ]
    },
    {
     "name": "stdout",
     "output_type": "stream",
     "text": [
      "Closing dataloader mosaic\n",
      "\n",
      "      Epoch    GPU_mem   box_loss   cls_loss   dfl_loss  Instances       Size\n"
     ]
    },
    {
     "name": "stderr",
     "output_type": "stream",
     "text": [
      "     91/100         0G      0.617     0.5968     0.9642          2        640: 100%|██████████| 15/15 [01:14<00:00,  4.95s/it]\n",
      "                 Class     Images  Instances      Box(P          R      mAP50  mAP50-95): 100%|██████████| 1/1 [00:03<00:00,  3.33s/it]"
     ]
    },
    {
     "name": "stdout",
     "output_type": "stream",
     "text": [
      "                   all         22        184      0.806      0.675      0.777      0.478\n"
     ]
    },
    {
     "name": "stderr",
     "output_type": "stream",
     "text": [
      "\n"
     ]
    },
    {
     "name": "stdout",
     "output_type": "stream",
     "text": [
      "\n",
      "      Epoch    GPU_mem   box_loss   cls_loss   dfl_loss  Instances       Size\n"
     ]
    },
    {
     "name": "stderr",
     "output_type": "stream",
     "text": [
      "     92/100         0G     0.5682     0.4422     0.9119          1        640: 100%|██████████| 15/15 [01:14<00:00,  4.98s/it]\n",
      "                 Class     Images  Instances      Box(P          R      mAP50  mAP50-95): 100%|██████████| 1/1 [00:03<00:00,  3.33s/it]"
     ]
    },
    {
     "name": "stdout",
     "output_type": "stream",
     "text": [
      "                   all         22        184      0.778      0.734      0.797      0.497\n"
     ]
    },
    {
     "name": "stderr",
     "output_type": "stream",
     "text": [
      "\n"
     ]
    },
    {
     "name": "stdout",
     "output_type": "stream",
     "text": [
      "\n",
      "      Epoch    GPU_mem   box_loss   cls_loss   dfl_loss  Instances       Size\n"
     ]
    },
    {
     "name": "stderr",
     "output_type": "stream",
     "text": [
      "     93/100         0G     0.6409     0.4914     0.9738          1        640: 100%|██████████| 15/15 [01:14<00:00,  4.96s/it]\n",
      "                 Class     Images  Instances      Box(P          R      mAP50  mAP50-95): 100%|██████████| 1/1 [00:03<00:00,  3.31s/it]"
     ]
    },
    {
     "name": "stdout",
     "output_type": "stream",
     "text": [
      "                   all         22        184      0.785      0.734      0.794      0.487\n"
     ]
    },
    {
     "name": "stderr",
     "output_type": "stream",
     "text": [
      "\n"
     ]
    },
    {
     "name": "stdout",
     "output_type": "stream",
     "text": [
      "\n",
      "      Epoch    GPU_mem   box_loss   cls_loss   dfl_loss  Instances       Size\n"
     ]
    },
    {
     "name": "stderr",
     "output_type": "stream",
     "text": [
      "     94/100         0G     0.5941     0.4162      1.102          1        640: 100%|██████████| 15/15 [01:14<00:00,  4.94s/it]\n",
      "                 Class     Images  Instances      Box(P          R      mAP50  mAP50-95): 100%|██████████| 1/1 [00:03<00:00,  3.32s/it]"
     ]
    },
    {
     "name": "stdout",
     "output_type": "stream",
     "text": [
      "                   all         22        184       0.82      0.667      0.765      0.475\n"
     ]
    },
    {
     "name": "stderr",
     "output_type": "stream",
     "text": [
      "\n"
     ]
    },
    {
     "name": "stdout",
     "output_type": "stream",
     "text": [
      "\n",
      "      Epoch    GPU_mem   box_loss   cls_loss   dfl_loss  Instances       Size\n"
     ]
    },
    {
     "name": "stderr",
     "output_type": "stream",
     "text": [
      "     95/100         0G     0.5654     0.4142     0.9184          1        640: 100%|██████████| 15/15 [01:15<00:00,  5.01s/it]\n",
      "                 Class     Images  Instances      Box(P          R      mAP50  mAP50-95): 100%|██████████| 1/1 [00:03<00:00,  3.32s/it]"
     ]
    },
    {
     "name": "stdout",
     "output_type": "stream",
     "text": [
      "                   all         22        184      0.751      0.707      0.769       0.48\n"
     ]
    },
    {
     "name": "stderr",
     "output_type": "stream",
     "text": [
      "\n"
     ]
    },
    {
     "name": "stdout",
     "output_type": "stream",
     "text": [
      "\n",
      "      Epoch    GPU_mem   box_loss   cls_loss   dfl_loss  Instances       Size\n"
     ]
    },
    {
     "name": "stderr",
     "output_type": "stream",
     "text": [
      "     96/100         0G     0.5707     0.4135     0.9571          1        640: 100%|██████████| 15/15 [01:14<00:00,  4.97s/it]\n",
      "                 Class     Images  Instances      Box(P          R      mAP50  mAP50-95): 100%|██████████| 1/1 [00:03<00:00,  3.30s/it]"
     ]
    },
    {
     "name": "stdout",
     "output_type": "stream",
     "text": [
      "                   all         22        184      0.777      0.707      0.777      0.484\n"
     ]
    },
    {
     "name": "stderr",
     "output_type": "stream",
     "text": [
      "\n"
     ]
    },
    {
     "name": "stdout",
     "output_type": "stream",
     "text": [
      "\n",
      "      Epoch    GPU_mem   box_loss   cls_loss   dfl_loss  Instances       Size\n"
     ]
    },
    {
     "name": "stderr",
     "output_type": "stream",
     "text": [
      "     97/100         0G     0.5546     0.5227      0.957          3        640: 100%|██████████| 15/15 [01:14<00:00,  4.95s/it]\n",
      "                 Class     Images  Instances      Box(P          R      mAP50  mAP50-95): 100%|██████████| 1/1 [00:03<00:00,  3.36s/it]"
     ]
    },
    {
     "name": "stdout",
     "output_type": "stream",
     "text": [
      "                   all         22        184      0.851      0.658      0.773      0.482\n"
     ]
    },
    {
     "name": "stderr",
     "output_type": "stream",
     "text": [
      "\n"
     ]
    },
    {
     "name": "stdout",
     "output_type": "stream",
     "text": [
      "\n",
      "      Epoch    GPU_mem   box_loss   cls_loss   dfl_loss  Instances       Size\n"
     ]
    },
    {
     "name": "stderr",
     "output_type": "stream",
     "text": [
      "     98/100         0G     0.5694     0.4794     0.9474          1        640: 100%|██████████| 15/15 [01:14<00:00,  4.96s/it]\n",
      "                 Class     Images  Instances      Box(P          R      mAP50  mAP50-95): 100%|██████████| 1/1 [00:03<00:00,  3.30s/it]"
     ]
    },
    {
     "name": "stdout",
     "output_type": "stream",
     "text": [
      "                   all         22        184      0.871      0.662      0.781      0.479\n"
     ]
    },
    {
     "name": "stderr",
     "output_type": "stream",
     "text": [
      "\n"
     ]
    },
    {
     "name": "stdout",
     "output_type": "stream",
     "text": [
      "\n",
      "      Epoch    GPU_mem   box_loss   cls_loss   dfl_loss  Instances       Size\n"
     ]
    },
    {
     "name": "stderr",
     "output_type": "stream",
     "text": [
      "     99/100         0G       0.59      0.525     0.9506          2        640: 100%|██████████| 15/15 [01:14<00:00,  4.97s/it]\n",
      "                 Class     Images  Instances      Box(P          R      mAP50  mAP50-95): 100%|██████████| 1/1 [00:03<00:00,  3.33s/it]"
     ]
    },
    {
     "name": "stdout",
     "output_type": "stream",
     "text": [
      "                   all         22        184      0.872      0.658      0.777      0.481\n"
     ]
    },
    {
     "name": "stderr",
     "output_type": "stream",
     "text": [
      "\n"
     ]
    },
    {
     "name": "stdout",
     "output_type": "stream",
     "text": [
      "\n",
      "      Epoch    GPU_mem   box_loss   cls_loss   dfl_loss  Instances       Size\n"
     ]
    },
    {
     "name": "stderr",
     "output_type": "stream",
     "text": [
      "    100/100         0G     0.5435     0.4081     0.9362          1        640: 100%|██████████| 15/15 [01:14<00:00,  4.97s/it]\n",
      "                 Class     Images  Instances      Box(P          R      mAP50  mAP50-95): 100%|██████████| 1/1 [00:03<00:00,  3.33s/it]"
     ]
    },
    {
     "name": "stdout",
     "output_type": "stream",
     "text": [
      "                   all         22        184      0.872      0.668       0.78      0.484\n"
     ]
    },
    {
     "name": "stderr",
     "output_type": "stream",
     "text": [
      "\n"
     ]
    },
    {
     "name": "stdout",
     "output_type": "stream",
     "text": [
      "\n",
      "100 epochs completed in 2.437 hours.\n",
      "Optimizer stripped from runs\\detect\\train3\\weights\\last.pt, 6.3MB\n",
      "Optimizer stripped from runs\\detect\\train3\\weights\\best.pt, 6.3MB\n",
      "\n",
      "Validating runs\\detect\\train3\\weights\\best.pt...\n",
      "Ultralytics YOLOv8.2.1  Python-3.11.7 torch-2.2.2+cpu CPU (11th Gen Intel Core(TM) i5-11400H 2.70GHz)\n",
      "Model summary (fused): 168 layers, 3005843 parameters, 0 gradients, 8.1 GFLOPs\n"
     ]
    },
    {
     "name": "stderr",
     "output_type": "stream",
     "text": [
      "                 Class     Images  Instances      Box(P          R      mAP50  mAP50-95): 100%|██████████| 1/1 [00:02<00:00,  2.34s/it]\n"
     ]
    },
    {
     "name": "stdout",
     "output_type": "stream",
     "text": [
      "                   all         22        184      0.783      0.727      0.796      0.497\n",
      "Speed: 4.3ms preprocess, 93.8ms inference, 0.0ms loss, 0.5ms postprocess per image\n",
      "Results saved to \u001b[1mruns\\detect\\train3\u001b[0m\n"
     ]
    },
    {
     "data": {
      "text/plain": [
       "ultralytics.utils.metrics.DetMetrics object with attributes:\n",
       "\n",
       "ap_class_index: array([0])\n",
       "box: ultralytics.utils.metrics.Metric object\n",
       "confusion_matrix: <ultralytics.utils.metrics.ConfusionMatrix object at 0x0000020FB80325D0>\n",
       "curves: ['Precision-Recall(B)', 'F1-Confidence(B)', 'Precision-Confidence(B)', 'Recall-Confidence(B)']\n",
       "curves_results: [[array([          0,    0.001001,    0.002002,    0.003003,    0.004004,    0.005005,    0.006006,    0.007007,    0.008008,    0.009009,     0.01001,    0.011011,    0.012012,    0.013013,    0.014014,    0.015015,    0.016016,    0.017017,    0.018018,    0.019019,     0.02002,    0.021021,    0.022022,    0.023023,\n",
       "          0.024024,    0.025025,    0.026026,    0.027027,    0.028028,    0.029029,     0.03003,    0.031031,    0.032032,    0.033033,    0.034034,    0.035035,    0.036036,    0.037037,    0.038038,    0.039039,     0.04004,    0.041041,    0.042042,    0.043043,    0.044044,    0.045045,    0.046046,    0.047047,\n",
       "          0.048048,    0.049049,     0.05005,    0.051051,    0.052052,    0.053053,    0.054054,    0.055055,    0.056056,    0.057057,    0.058058,    0.059059,     0.06006,    0.061061,    0.062062,    0.063063,    0.064064,    0.065065,    0.066066,    0.067067,    0.068068,    0.069069,     0.07007,    0.071071,\n",
       "          0.072072,    0.073073,    0.074074,    0.075075,    0.076076,    0.077077,    0.078078,    0.079079,     0.08008,    0.081081,    0.082082,    0.083083,    0.084084,    0.085085,    0.086086,    0.087087,    0.088088,    0.089089,     0.09009,    0.091091,    0.092092,    0.093093,    0.094094,    0.095095,\n",
       "          0.096096,    0.097097,    0.098098,    0.099099,      0.1001,      0.1011,      0.1021,      0.1031,      0.1041,     0.10511,     0.10611,     0.10711,     0.10811,     0.10911,     0.11011,     0.11111,     0.11211,     0.11311,     0.11411,     0.11512,     0.11612,     0.11712,     0.11812,     0.11912,\n",
       "           0.12012,     0.12112,     0.12212,     0.12312,     0.12412,     0.12513,     0.12613,     0.12713,     0.12813,     0.12913,     0.13013,     0.13113,     0.13213,     0.13313,     0.13413,     0.13514,     0.13614,     0.13714,     0.13814,     0.13914,     0.14014,     0.14114,     0.14214,     0.14314,\n",
       "           0.14414,     0.14515,     0.14615,     0.14715,     0.14815,     0.14915,     0.15015,     0.15115,     0.15215,     0.15315,     0.15415,     0.15516,     0.15616,     0.15716,     0.15816,     0.15916,     0.16016,     0.16116,     0.16216,     0.16316,     0.16416,     0.16517,     0.16617,     0.16717,\n",
       "           0.16817,     0.16917,     0.17017,     0.17117,     0.17217,     0.17317,     0.17417,     0.17518,     0.17618,     0.17718,     0.17818,     0.17918,     0.18018,     0.18118,     0.18218,     0.18318,     0.18418,     0.18519,     0.18619,     0.18719,     0.18819,     0.18919,     0.19019,     0.19119,\n",
       "           0.19219,     0.19319,     0.19419,      0.1952,      0.1962,      0.1972,      0.1982,      0.1992,      0.2002,      0.2012,      0.2022,      0.2032,      0.2042,     0.20521,     0.20621,     0.20721,     0.20821,     0.20921,     0.21021,     0.21121,     0.21221,     0.21321,     0.21421,     0.21522,\n",
       "           0.21622,     0.21722,     0.21822,     0.21922,     0.22022,     0.22122,     0.22222,     0.22322,     0.22422,     0.22523,     0.22623,     0.22723,     0.22823,     0.22923,     0.23023,     0.23123,     0.23223,     0.23323,     0.23423,     0.23524,     0.23624,     0.23724,     0.23824,     0.23924,\n",
       "           0.24024,     0.24124,     0.24224,     0.24324,     0.24424,     0.24525,     0.24625,     0.24725,     0.24825,     0.24925,     0.25025,     0.25125,     0.25225,     0.25325,     0.25425,     0.25526,     0.25626,     0.25726,     0.25826,     0.25926,     0.26026,     0.26126,     0.26226,     0.26326,\n",
       "           0.26426,     0.26527,     0.26627,     0.26727,     0.26827,     0.26927,     0.27027,     0.27127,     0.27227,     0.27327,     0.27427,     0.27528,     0.27628,     0.27728,     0.27828,     0.27928,     0.28028,     0.28128,     0.28228,     0.28328,     0.28428,     0.28529,     0.28629,     0.28729,\n",
       "           0.28829,     0.28929,     0.29029,     0.29129,     0.29229,     0.29329,     0.29429,      0.2953,      0.2963,      0.2973,      0.2983,      0.2993,      0.3003,      0.3013,      0.3023,      0.3033,      0.3043,     0.30531,     0.30631,     0.30731,     0.30831,     0.30931,     0.31031,     0.31131,\n",
       "           0.31231,     0.31331,     0.31431,     0.31532,     0.31632,     0.31732,     0.31832,     0.31932,     0.32032,     0.32132,     0.32232,     0.32332,     0.32432,     0.32533,     0.32633,     0.32733,     0.32833,     0.32933,     0.33033,     0.33133,     0.33233,     0.33333,     0.33433,     0.33534,\n",
       "           0.33634,     0.33734,     0.33834,     0.33934,     0.34034,     0.34134,     0.34234,     0.34334,     0.34434,     0.34535,     0.34635,     0.34735,     0.34835,     0.34935,     0.35035,     0.35135,     0.35235,     0.35335,     0.35435,     0.35536,     0.35636,     0.35736,     0.35836,     0.35936,\n",
       "           0.36036,     0.36136,     0.36236,     0.36336,     0.36436,     0.36537,     0.36637,     0.36737,     0.36837,     0.36937,     0.37037,     0.37137,     0.37237,     0.37337,     0.37437,     0.37538,     0.37638,     0.37738,     0.37838,     0.37938,     0.38038,     0.38138,     0.38238,     0.38338,\n",
       "           0.38438,     0.38539,     0.38639,     0.38739,     0.38839,     0.38939,     0.39039,     0.39139,     0.39239,     0.39339,     0.39439,      0.3954,      0.3964,      0.3974,      0.3984,      0.3994,      0.4004,      0.4014,      0.4024,      0.4034,      0.4044,     0.40541,     0.40641,     0.40741,\n",
       "           0.40841,     0.40941,     0.41041,     0.41141,     0.41241,     0.41341,     0.41441,     0.41542,     0.41642,     0.41742,     0.41842,     0.41942,     0.42042,     0.42142,     0.42242,     0.42342,     0.42442,     0.42543,     0.42643,     0.42743,     0.42843,     0.42943,     0.43043,     0.43143,\n",
       "           0.43243,     0.43343,     0.43443,     0.43544,     0.43644,     0.43744,     0.43844,     0.43944,     0.44044,     0.44144,     0.44244,     0.44344,     0.44444,     0.44545,     0.44645,     0.44745,     0.44845,     0.44945,     0.45045,     0.45145,     0.45245,     0.45345,     0.45445,     0.45546,\n",
       "           0.45646,     0.45746,     0.45846,     0.45946,     0.46046,     0.46146,     0.46246,     0.46346,     0.46446,     0.46547,     0.46647,     0.46747,     0.46847,     0.46947,     0.47047,     0.47147,     0.47247,     0.47347,     0.47447,     0.47548,     0.47648,     0.47748,     0.47848,     0.47948,\n",
       "           0.48048,     0.48148,     0.48248,     0.48348,     0.48448,     0.48549,     0.48649,     0.48749,     0.48849,     0.48949,     0.49049,     0.49149,     0.49249,     0.49349,     0.49449,      0.4955,      0.4965,      0.4975,      0.4985,      0.4995,      0.5005,      0.5015,      0.5025,      0.5035,\n",
       "            0.5045,     0.50551,     0.50651,     0.50751,     0.50851,     0.50951,     0.51051,     0.51151,     0.51251,     0.51351,     0.51451,     0.51552,     0.51652,     0.51752,     0.51852,     0.51952,     0.52052,     0.52152,     0.52252,     0.52352,     0.52452,     0.52553,     0.52653,     0.52753,\n",
       "           0.52853,     0.52953,     0.53053,     0.53153,     0.53253,     0.53353,     0.53453,     0.53554,     0.53654,     0.53754,     0.53854,     0.53954,     0.54054,     0.54154,     0.54254,     0.54354,     0.54454,     0.54555,     0.54655,     0.54755,     0.54855,     0.54955,     0.55055,     0.55155,\n",
       "           0.55255,     0.55355,     0.55455,     0.55556,     0.55656,     0.55756,     0.55856,     0.55956,     0.56056,     0.56156,     0.56256,     0.56356,     0.56456,     0.56557,     0.56657,     0.56757,     0.56857,     0.56957,     0.57057,     0.57157,     0.57257,     0.57357,     0.57457,     0.57558,\n",
       "           0.57658,     0.57758,     0.57858,     0.57958,     0.58058,     0.58158,     0.58258,     0.58358,     0.58458,     0.58559,     0.58659,     0.58759,     0.58859,     0.58959,     0.59059,     0.59159,     0.59259,     0.59359,     0.59459,      0.5956,      0.5966,      0.5976,      0.5986,      0.5996,\n",
       "            0.6006,      0.6016,      0.6026,      0.6036,      0.6046,     0.60561,     0.60661,     0.60761,     0.60861,     0.60961,     0.61061,     0.61161,     0.61261,     0.61361,     0.61461,     0.61562,     0.61662,     0.61762,     0.61862,     0.61962,     0.62062,     0.62162,     0.62262,     0.62362,\n",
       "           0.62462,     0.62563,     0.62663,     0.62763,     0.62863,     0.62963,     0.63063,     0.63163,     0.63263,     0.63363,     0.63463,     0.63564,     0.63664,     0.63764,     0.63864,     0.63964,     0.64064,     0.64164,     0.64264,     0.64364,     0.64464,     0.64565,     0.64665,     0.64765,\n",
       "           0.64865,     0.64965,     0.65065,     0.65165,     0.65265,     0.65365,     0.65465,     0.65566,     0.65666,     0.65766,     0.65866,     0.65966,     0.66066,     0.66166,     0.66266,     0.66366,     0.66466,     0.66567,     0.66667,     0.66767,     0.66867,     0.66967,     0.67067,     0.67167,\n",
       "           0.67267,     0.67367,     0.67467,     0.67568,     0.67668,     0.67768,     0.67868,     0.67968,     0.68068,     0.68168,     0.68268,     0.68368,     0.68468,     0.68569,     0.68669,     0.68769,     0.68869,     0.68969,     0.69069,     0.69169,     0.69269,     0.69369,     0.69469,      0.6957,\n",
       "            0.6967,      0.6977,      0.6987,      0.6997,      0.7007,      0.7017,      0.7027,      0.7037,      0.7047,     0.70571,     0.70671,     0.70771,     0.70871,     0.70971,     0.71071,     0.71171,     0.71271,     0.71371,     0.71471,     0.71572,     0.71672,     0.71772,     0.71872,     0.71972,\n",
       "           0.72072,     0.72172,     0.72272,     0.72372,     0.72472,     0.72573,     0.72673,     0.72773,     0.72873,     0.72973,     0.73073,     0.73173,     0.73273,     0.73373,     0.73473,     0.73574,     0.73674,     0.73774,     0.73874,     0.73974,     0.74074,     0.74174,     0.74274,     0.74374,\n",
       "           0.74474,     0.74575,     0.74675,     0.74775,     0.74875,     0.74975,     0.75075,     0.75175,     0.75275,     0.75375,     0.75475,     0.75576,     0.75676,     0.75776,     0.75876,     0.75976,     0.76076,     0.76176,     0.76276,     0.76376,     0.76476,     0.76577,     0.76677,     0.76777,\n",
       "           0.76877,     0.76977,     0.77077,     0.77177,     0.77277,     0.77377,     0.77477,     0.77578,     0.77678,     0.77778,     0.77878,     0.77978,     0.78078,     0.78178,     0.78278,     0.78378,     0.78478,     0.78579,     0.78679,     0.78779,     0.78879,     0.78979,     0.79079,     0.79179,\n",
       "           0.79279,     0.79379,     0.79479,      0.7958,      0.7968,      0.7978,      0.7988,      0.7998,      0.8008,      0.8018,      0.8028,      0.8038,      0.8048,     0.80581,     0.80681,     0.80781,     0.80881,     0.80981,     0.81081,     0.81181,     0.81281,     0.81381,     0.81481,     0.81582,\n",
       "           0.81682,     0.81782,     0.81882,     0.81982,     0.82082,     0.82182,     0.82282,     0.82382,     0.82482,     0.82583,     0.82683,     0.82783,     0.82883,     0.82983,     0.83083,     0.83183,     0.83283,     0.83383,     0.83483,     0.83584,     0.83684,     0.83784,     0.83884,     0.83984,\n",
       "           0.84084,     0.84184,     0.84284,     0.84384,     0.84484,     0.84585,     0.84685,     0.84785,     0.84885,     0.84985,     0.85085,     0.85185,     0.85285,     0.85385,     0.85485,     0.85586,     0.85686,     0.85786,     0.85886,     0.85986,     0.86086,     0.86186,     0.86286,     0.86386,\n",
       "           0.86486,     0.86587,     0.86687,     0.86787,     0.86887,     0.86987,     0.87087,     0.87187,     0.87287,     0.87387,     0.87487,     0.87588,     0.87688,     0.87788,     0.87888,     0.87988,     0.88088,     0.88188,     0.88288,     0.88388,     0.88488,     0.88589,     0.88689,     0.88789,\n",
       "           0.88889,     0.88989,     0.89089,     0.89189,     0.89289,     0.89389,     0.89489,      0.8959,      0.8969,      0.8979,      0.8989,      0.8999,      0.9009,      0.9019,      0.9029,      0.9039,      0.9049,     0.90591,     0.90691,     0.90791,     0.90891,     0.90991,     0.91091,     0.91191,\n",
       "           0.91291,     0.91391,     0.91491,     0.91592,     0.91692,     0.91792,     0.91892,     0.91992,     0.92092,     0.92192,     0.92292,     0.92392,     0.92492,     0.92593,     0.92693,     0.92793,     0.92893,     0.92993,     0.93093,     0.93193,     0.93293,     0.93393,     0.93493,     0.93594,\n",
       "           0.93694,     0.93794,     0.93894,     0.93994,     0.94094,     0.94194,     0.94294,     0.94394,     0.94494,     0.94595,     0.94695,     0.94795,     0.94895,     0.94995,     0.95095,     0.95195,     0.95295,     0.95395,     0.95495,     0.95596,     0.95696,     0.95796,     0.95896,     0.95996,\n",
       "           0.96096,     0.96196,     0.96296,     0.96396,     0.96496,     0.96597,     0.96697,     0.96797,     0.96897,     0.96997,     0.97097,     0.97197,     0.97297,     0.97397,     0.97497,     0.97598,     0.97698,     0.97798,     0.97898,     0.97998,     0.98098,     0.98198,     0.98298,     0.98398,\n",
       "           0.98498,     0.98599,     0.98699,     0.98799,     0.98899,     0.98999,     0.99099,     0.99199,     0.99299,     0.99399,     0.99499,       0.996,       0.997,       0.998,       0.999,           1]), array([[          1,           1,           1,           1,           1,           1,           1,           1,           1,           1,           1,           1,           1,           1,           1,           1,           1,           1,           1,           1,           1,           1,           1,\n",
       "                  1,           1,           1,           1,           1,           1,           1,           1,           1,           1,           1,           1,           1,           1,           1,           1,           1,           1,           1,           1,           1,           1,           1,\n",
       "                  1,           1,           1,           1,           1,           1,           1,           1,           1,           1,           1,           1,           1,           1,           1,           1,           1,           1,           1,           1,           1,           1,           1,\n",
       "                  1,           1,           1,           1,           1,           1,           1,           1,           1,           1,           1,           1,           1,           1,           1,           1,           1,           1,           1,           1,           1,           1,           1,\n",
       "                  1,           1,           1,           1,           1,           1,           1,           1,           1,           1,           1,           1,           1,           1,           1,           1,           1,           1,           1,           1,           1,           1,           1,\n",
       "                  1,           1,           1,           1,           1,           1,           1,           1,           1,           1,           1,           1,           1,           1,           1,           1,           1,           1,           1,           1,           1,           1,           1,\n",
       "                  1,           1,           1,           1,           1,           1,           1,           1,           1,           1,           1,           1,           1,           1,           1,           1,           1,           1,           1,           1,           1,           1,           1,\n",
       "                  1,           1,           1,           1,           1,           1,           1,           1,           1,           1,           1,           1,           1,           1,           1,           1,           1,           1,           1,           1,           1,           1,           1,\n",
       "                  1,           1,           1,           1,           1,           1,           1,           1,           1,           1,           1,           1,           1,           1,           1,           1,           1,           1,           1,           1,           1,           1,           1,\n",
       "                  1,           1,           1,           1,           1,           1,           1,           1,           1,           1,           1,           1,           1,           1,           1,           1,     0.98148,     0.98148,     0.98148,     0.98148,     0.98148,     0.98148,     0.98148,\n",
       "            0.98148,     0.98148,     0.98148,     0.98148,     0.98148,     0.98148,     0.98148,     0.98148,     0.98148,     0.98148,     0.98148,     0.98148,     0.98148,     0.98148,     0.98148,     0.98148,     0.98148,     0.98148,     0.98148,     0.98148,     0.98148,     0.98148,     0.98148,\n",
       "            0.98148,     0.98148,     0.98148,     0.98148,     0.98148,     0.98148,     0.98148,     0.98148,     0.98148,     0.98148,     0.98148,     0.98148,     0.98148,     0.98148,     0.98148,     0.98148,     0.98148,     0.98148,     0.98148,     0.98148,     0.98148,     0.98148,     0.98148,\n",
       "            0.98148,     0.98148,     0.98148,     0.98148,     0.98148,     0.98148,     0.98148,     0.98148,     0.98148,     0.98148,     0.98148,     0.98148,     0.97561,     0.97561,     0.97561,     0.97561,     0.97561,     0.97561,     0.97561,     0.97561,     0.97561,     0.97561,     0.97561,\n",
       "            0.97561,     0.97561,     0.97561,     0.97561,     0.97561,     0.97561,     0.97561,     0.97561,     0.97561,     0.97561,     0.97561,     0.97561,     0.97561,     0.97561,     0.97561,     0.97561,     0.97561,     0.97561,     0.97561,     0.97561,     0.97561,     0.97561,     0.97561,\n",
       "            0.97561,     0.97561,     0.97561,     0.97561,     0.97561,     0.97561,     0.97561,     0.97561,     0.97561,     0.97561,     0.97561,     0.97561,     0.97561,     0.97561,     0.97561,     0.97561,     0.97561,     0.97561,     0.97561,     0.97561,     0.97561,     0.97561,     0.97561,\n",
       "            0.97561,     0.97561,     0.97561,     0.97561,     0.97561,     0.97561,     0.97561,     0.97561,     0.97561,     0.97561,     0.97561,     0.97561,     0.97561,     0.97561,     0.97561,     0.97561,     0.97561,     0.97561,     0.97561,     0.97561,     0.97561,     0.97561,     0.97561,\n",
       "            0.97561,     0.97561,     0.97561,     0.97561,     0.97561,     0.97561,     0.97561,     0.97561,     0.97561,     0.97561,     0.97561,     0.97561,     0.97561,     0.97561,     0.97561,     0.97561,     0.97561,     0.97561,     0.97561,     0.97561,     0.97561,     0.97561,     0.97561,\n",
       "            0.97561,     0.97561,     0.97561,     0.97561,     0.97561,     0.97561,     0.97561,     0.97561,     0.97561,     0.97561,     0.97561,     0.97561,     0.97561,     0.97561,     0.97561,     0.97561,     0.97561,     0.97561,     0.97561,     0.97561,     0.97561,     0.97561,     0.97561,\n",
       "            0.97561,     0.97561,     0.97561,     0.97561,     0.97561,     0.97561,     0.97561,     0.97561,     0.97561,     0.97561,     0.97561,     0.97561,     0.97561,     0.97561,     0.97561,     0.97561,     0.97561,     0.97561,     0.97561,     0.97561,     0.97561,     0.96471,     0.96471,\n",
       "            0.96471,     0.96471,     0.96471,     0.96471,     0.96471,     0.96471,     0.96471,     0.96471,     0.96471,     0.94737,     0.94737,     0.94737,     0.94737,     0.94737,     0.94737,     0.94737,     0.94737,     0.94737,     0.94737,     0.94737,     0.94737,     0.94737,     0.94737,\n",
       "            0.94737,     0.94737,     0.94737,     0.94737,     0.94737,     0.94737,     0.94737,     0.94737,     0.94737,     0.94737,     0.94737,     0.94737,     0.94737,     0.94737,     0.94737,     0.94737,     0.94737,     0.94737,     0.94737,     0.94737,     0.94737,     0.94737,     0.94737,\n",
       "            0.94737,     0.94737,     0.94737,     0.94737,     0.94737,     0.94737,        0.94,        0.94,        0.94,        0.94,        0.94,        0.94,        0.94,        0.94,        0.94,        0.94,        0.94,        0.94,        0.94,        0.94,        0.94,        0.94,        0.94,\n",
       "               0.94,        0.94,        0.94,        0.94,        0.94,     0.92105,     0.92105,     0.92105,     0.92105,     0.92105,     0.92105,     0.92105,     0.92105,     0.92105,     0.92105,     0.92105,     0.92105,     0.92105,     0.92105,     0.92105,     0.92105,     0.92105,     0.92105,\n",
       "            0.92105,     0.92105,     0.92105,     0.92105,     0.92105,     0.92105,     0.92105,     0.92105,     0.92105,     0.92105,     0.92105,     0.92105,     0.92105,     0.92105,     0.92105,     0.92105,     0.92105,     0.92105,     0.92105,     0.92105,     0.92105,     0.92105,     0.92105,\n",
       "            0.92105,     0.92105,     0.92105,     0.92105,     0.92105,     0.92105,     0.92105,     0.92105,     0.92105,     0.92105,     0.92105,     0.92105,     0.92105,     0.92105,     0.92105,     0.92105,     0.92105,     0.92105,     0.92105,     0.91379,     0.91379,     0.91379,     0.91379,\n",
       "            0.91379,     0.90678,     0.90678,     0.90678,     0.90678,     0.90678,     0.89516,     0.89516,     0.89516,     0.89516,     0.89516,     0.89516,     0.89516,     0.89516,     0.89516,     0.89516,     0.89516,     0.89516,     0.89516,     0.89516,     0.89516,     0.89516,     0.89516,\n",
       "            0.89516,     0.89516,     0.89516,     0.89516,     0.89516,     0.88976,     0.88976,     0.88976,     0.88976,     0.88976,     0.88976,     0.88976,     0.88976,     0.88976,     0.88976,     0.88976,     0.88636,     0.88636,     0.88636,     0.88636,     0.88636,     0.88636,     0.88636,\n",
       "            0.88636,     0.88636,     0.88636,     0.88636,     0.88636,     0.88636,     0.88636,     0.88636,     0.88636,     0.88636,     0.88636,     0.88636,     0.88636,     0.88636,     0.88636,     0.87407,     0.87407,     0.87407,     0.87407,     0.87407,     0.86331,     0.86331,     0.86331,\n",
       "            0.86331,     0.86331,     0.86331,     0.86331,     0.86331,     0.86331,     0.86331,     0.86331,     0.85816,     0.85816,     0.85816,     0.85816,     0.85816,     0.85417,     0.85417,     0.85417,     0.85417,     0.85417,     0.85417,     0.85417,     0.85417,     0.85417,     0.85417,\n",
       "            0.85417,     0.85034,     0.85034,     0.85034,     0.85034,     0.85034,     0.85034,     0.85034,     0.85034,     0.85034,     0.85034,     0.85034,     0.83553,     0.83553,     0.83553,     0.83553,     0.83553,     0.83553,     0.83553,     0.83553,     0.83553,     0.83553,     0.83553,\n",
       "            0.80503,     0.80503,     0.80503,     0.80503,     0.80503,     0.80247,     0.80247,     0.80247,     0.80247,     0.80247,     0.80247,     0.80247,     0.80247,     0.80247,     0.80247,     0.80247,     0.79878,     0.79878,     0.79878,     0.79878,     0.79878,     0.79878,     0.79042,\n",
       "            0.79042,     0.79042,     0.79042,     0.79042,     0.78698,     0.78698,     0.78698,     0.78698,     0.78698,     0.78698,     0.78363,     0.78363,     0.78363,     0.78363,     0.78363,     0.78035,     0.78035,     0.78035,     0.78035,     0.78035,     0.77714,     0.77714,     0.77714,\n",
       "            0.77714,     0.77714,     0.77714,     0.76536,     0.76536,     0.76536,     0.76536,     0.76536,     0.75824,     0.75824,     0.75824,     0.75824,     0.75824,     0.75824,     0.74731,     0.74731,     0.74731,     0.74731,     0.74731,     0.70854,     0.70854,     0.70854,     0.70854,\n",
       "            0.70854,     0.70854,     0.70854,     0.70854,     0.70854,     0.70854,     0.70854,     0.66667,     0.66667,     0.66667,     0.66667,     0.66667,     0.66667,     0.66667,     0.66667,     0.66667,     0.66667,     0.66667,     0.66667,     0.66667,     0.66667,     0.66667,     0.66667,\n",
       "            0.66063,     0.66063,     0.66063,     0.66063,     0.66063,     0.66063,     0.66063,     0.66063,     0.66063,     0.66063,     0.66063,     0.65919,     0.65919,     0.65919,     0.65919,     0.65919,     0.65919,     0.65487,     0.65487,     0.65487,     0.65487,     0.65487,     0.63948,\n",
       "            0.63948,     0.63948,     0.63948,     0.63948,     0.61475,     0.61475,     0.61475,     0.61475,     0.61475,     0.61475,     0.59216,     0.59216,     0.59216,     0.59216,     0.59216,     0.58238,     0.58238,     0.58238,     0.58238,     0.58238,     0.58238,      0.5709,      0.5709,\n",
       "             0.5709,      0.5709,      0.5709,     0.53659,     0.53659,     0.53659,     0.53659,     0.53659,     0.53659,     0.51839,     0.51839,     0.51839,     0.51839,     0.51839,     0.49682,     0.49682,     0.49682,     0.49682,     0.49682,     0.49371,     0.49371,     0.49371,     0.49371,\n",
       "            0.49371,     0.49371,     0.48615,     0.48615,     0.48615,     0.48615,     0.48615,     0.42627,     0.42627,     0.42627,     0.42627,     0.42627,     0.42627,     0.41775,     0.41775,     0.41775,     0.41775,     0.41775,      0.4025,      0.4025,      0.4025,      0.4025,      0.4025,\n",
       "             0.4025,      0.3913,      0.3913,      0.3913,      0.3913,      0.3913,     0.31528,     0.31528,     0.31528,     0.31528,     0.31528,     0.29818,     0.29818,     0.29818,     0.29818,     0.29818,     0.29818,     0.26316,     0.26316,     0.26316,     0.26316,     0.26316,     0.23347,\n",
       "            0.23347,     0.23347,     0.23347,     0.23347,     0.23347,     0.18093,     0.18093,     0.18093,     0.18093,     0.18093,        0.14,        0.14,        0.14,        0.14,        0.14,        0.14,      0.1172,      0.1172,      0.1172,      0.1172,      0.1172,     0.08362,     0.08362,\n",
       "            0.08362,     0.08362,     0.08362,    0.067397,     0.06651,    0.065624,    0.064737,     0.06385,    0.062963,    0.062076,     0.06119,    0.060303,    0.059416,    0.058529,    0.057642,    0.056756,    0.055869,    0.054982,    0.054095,    0.053208,    0.052321,    0.051435,    0.050548,\n",
       "           0.049661,    0.048774,    0.047887,    0.047001,    0.046114,    0.045227,     0.04434,    0.043453,    0.042567,     0.04168,    0.040793,    0.039906,    0.039019,    0.038133,    0.037246,    0.036359,    0.035472,    0.034585,    0.033699,    0.032812,    0.031925,    0.031038,    0.030151,\n",
       "           0.029265,    0.028378,    0.027491,    0.026604,    0.025717,    0.024831,    0.023944,    0.023057,     0.02217,    0.021283,    0.020397,     0.01951,    0.018623,    0.017736,    0.016849,    0.015962,    0.015076,    0.014189,    0.013302,    0.012415,    0.011528,    0.010642,   0.0097549,\n",
       "          0.0088681,   0.0079812,   0.0070944,   0.0062076,   0.0053208,    0.004434,   0.0035472,   0.0026604,   0.0017736,  0.00088681,           0]]), 'Recall', 'Precision'], [array([          0,    0.001001,    0.002002,    0.003003,    0.004004,    0.005005,    0.006006,    0.007007,    0.008008,    0.009009,     0.01001,    0.011011,    0.012012,    0.013013,    0.014014,    0.015015,    0.016016,    0.017017,    0.018018,    0.019019,     0.02002,    0.021021,    0.022022,    0.023023,\n",
       "          0.024024,    0.025025,    0.026026,    0.027027,    0.028028,    0.029029,     0.03003,    0.031031,    0.032032,    0.033033,    0.034034,    0.035035,    0.036036,    0.037037,    0.038038,    0.039039,     0.04004,    0.041041,    0.042042,    0.043043,    0.044044,    0.045045,    0.046046,    0.047047,\n",
       "          0.048048,    0.049049,     0.05005,    0.051051,    0.052052,    0.053053,    0.054054,    0.055055,    0.056056,    0.057057,    0.058058,    0.059059,     0.06006,    0.061061,    0.062062,    0.063063,    0.064064,    0.065065,    0.066066,    0.067067,    0.068068,    0.069069,     0.07007,    0.071071,\n",
       "          0.072072,    0.073073,    0.074074,    0.075075,    0.076076,    0.077077,    0.078078,    0.079079,     0.08008,    0.081081,    0.082082,    0.083083,    0.084084,    0.085085,    0.086086,    0.087087,    0.088088,    0.089089,     0.09009,    0.091091,    0.092092,    0.093093,    0.094094,    0.095095,\n",
       "          0.096096,    0.097097,    0.098098,    0.099099,      0.1001,      0.1011,      0.1021,      0.1031,      0.1041,     0.10511,     0.10611,     0.10711,     0.10811,     0.10911,     0.11011,     0.11111,     0.11211,     0.11311,     0.11411,     0.11512,     0.11612,     0.11712,     0.11812,     0.11912,\n",
       "           0.12012,     0.12112,     0.12212,     0.12312,     0.12412,     0.12513,     0.12613,     0.12713,     0.12813,     0.12913,     0.13013,     0.13113,     0.13213,     0.13313,     0.13413,     0.13514,     0.13614,     0.13714,     0.13814,     0.13914,     0.14014,     0.14114,     0.14214,     0.14314,\n",
       "           0.14414,     0.14515,     0.14615,     0.14715,     0.14815,     0.14915,     0.15015,     0.15115,     0.15215,     0.15315,     0.15415,     0.15516,     0.15616,     0.15716,     0.15816,     0.15916,     0.16016,     0.16116,     0.16216,     0.16316,     0.16416,     0.16517,     0.16617,     0.16717,\n",
       "           0.16817,     0.16917,     0.17017,     0.17117,     0.17217,     0.17317,     0.17417,     0.17518,     0.17618,     0.17718,     0.17818,     0.17918,     0.18018,     0.18118,     0.18218,     0.18318,     0.18418,     0.18519,     0.18619,     0.18719,     0.18819,     0.18919,     0.19019,     0.19119,\n",
       "           0.19219,     0.19319,     0.19419,      0.1952,      0.1962,      0.1972,      0.1982,      0.1992,      0.2002,      0.2012,      0.2022,      0.2032,      0.2042,     0.20521,     0.20621,     0.20721,     0.20821,     0.20921,     0.21021,     0.21121,     0.21221,     0.21321,     0.21421,     0.21522,\n",
       "           0.21622,     0.21722,     0.21822,     0.21922,     0.22022,     0.22122,     0.22222,     0.22322,     0.22422,     0.22523,     0.22623,     0.22723,     0.22823,     0.22923,     0.23023,     0.23123,     0.23223,     0.23323,     0.23423,     0.23524,     0.23624,     0.23724,     0.23824,     0.23924,\n",
       "           0.24024,     0.24124,     0.24224,     0.24324,     0.24424,     0.24525,     0.24625,     0.24725,     0.24825,     0.24925,     0.25025,     0.25125,     0.25225,     0.25325,     0.25425,     0.25526,     0.25626,     0.25726,     0.25826,     0.25926,     0.26026,     0.26126,     0.26226,     0.26326,\n",
       "           0.26426,     0.26527,     0.26627,     0.26727,     0.26827,     0.26927,     0.27027,     0.27127,     0.27227,     0.27327,     0.27427,     0.27528,     0.27628,     0.27728,     0.27828,     0.27928,     0.28028,     0.28128,     0.28228,     0.28328,     0.28428,     0.28529,     0.28629,     0.28729,\n",
       "           0.28829,     0.28929,     0.29029,     0.29129,     0.29229,     0.29329,     0.29429,      0.2953,      0.2963,      0.2973,      0.2983,      0.2993,      0.3003,      0.3013,      0.3023,      0.3033,      0.3043,     0.30531,     0.30631,     0.30731,     0.30831,     0.30931,     0.31031,     0.31131,\n",
       "           0.31231,     0.31331,     0.31431,     0.31532,     0.31632,     0.31732,     0.31832,     0.31932,     0.32032,     0.32132,     0.32232,     0.32332,     0.32432,     0.32533,     0.32633,     0.32733,     0.32833,     0.32933,     0.33033,     0.33133,     0.33233,     0.33333,     0.33433,     0.33534,\n",
       "           0.33634,     0.33734,     0.33834,     0.33934,     0.34034,     0.34134,     0.34234,     0.34334,     0.34434,     0.34535,     0.34635,     0.34735,     0.34835,     0.34935,     0.35035,     0.35135,     0.35235,     0.35335,     0.35435,     0.35536,     0.35636,     0.35736,     0.35836,     0.35936,\n",
       "           0.36036,     0.36136,     0.36236,     0.36336,     0.36436,     0.36537,     0.36637,     0.36737,     0.36837,     0.36937,     0.37037,     0.37137,     0.37237,     0.37337,     0.37437,     0.37538,     0.37638,     0.37738,     0.37838,     0.37938,     0.38038,     0.38138,     0.38238,     0.38338,\n",
       "           0.38438,     0.38539,     0.38639,     0.38739,     0.38839,     0.38939,     0.39039,     0.39139,     0.39239,     0.39339,     0.39439,      0.3954,      0.3964,      0.3974,      0.3984,      0.3994,      0.4004,      0.4014,      0.4024,      0.4034,      0.4044,     0.40541,     0.40641,     0.40741,\n",
       "           0.40841,     0.40941,     0.41041,     0.41141,     0.41241,     0.41341,     0.41441,     0.41542,     0.41642,     0.41742,     0.41842,     0.41942,     0.42042,     0.42142,     0.42242,     0.42342,     0.42442,     0.42543,     0.42643,     0.42743,     0.42843,     0.42943,     0.43043,     0.43143,\n",
       "           0.43243,     0.43343,     0.43443,     0.43544,     0.43644,     0.43744,     0.43844,     0.43944,     0.44044,     0.44144,     0.44244,     0.44344,     0.44444,     0.44545,     0.44645,     0.44745,     0.44845,     0.44945,     0.45045,     0.45145,     0.45245,     0.45345,     0.45445,     0.45546,\n",
       "           0.45646,     0.45746,     0.45846,     0.45946,     0.46046,     0.46146,     0.46246,     0.46346,     0.46446,     0.46547,     0.46647,     0.46747,     0.46847,     0.46947,     0.47047,     0.47147,     0.47247,     0.47347,     0.47447,     0.47548,     0.47648,     0.47748,     0.47848,     0.47948,\n",
       "           0.48048,     0.48148,     0.48248,     0.48348,     0.48448,     0.48549,     0.48649,     0.48749,     0.48849,     0.48949,     0.49049,     0.49149,     0.49249,     0.49349,     0.49449,      0.4955,      0.4965,      0.4975,      0.4985,      0.4995,      0.5005,      0.5015,      0.5025,      0.5035,\n",
       "            0.5045,     0.50551,     0.50651,     0.50751,     0.50851,     0.50951,     0.51051,     0.51151,     0.51251,     0.51351,     0.51451,     0.51552,     0.51652,     0.51752,     0.51852,     0.51952,     0.52052,     0.52152,     0.52252,     0.52352,     0.52452,     0.52553,     0.52653,     0.52753,\n",
       "           0.52853,     0.52953,     0.53053,     0.53153,     0.53253,     0.53353,     0.53453,     0.53554,     0.53654,     0.53754,     0.53854,     0.53954,     0.54054,     0.54154,     0.54254,     0.54354,     0.54454,     0.54555,     0.54655,     0.54755,     0.54855,     0.54955,     0.55055,     0.55155,\n",
       "           0.55255,     0.55355,     0.55455,     0.55556,     0.55656,     0.55756,     0.55856,     0.55956,     0.56056,     0.56156,     0.56256,     0.56356,     0.56456,     0.56557,     0.56657,     0.56757,     0.56857,     0.56957,     0.57057,     0.57157,     0.57257,     0.57357,     0.57457,     0.57558,\n",
       "           0.57658,     0.57758,     0.57858,     0.57958,     0.58058,     0.58158,     0.58258,     0.58358,     0.58458,     0.58559,     0.58659,     0.58759,     0.58859,     0.58959,     0.59059,     0.59159,     0.59259,     0.59359,     0.59459,      0.5956,      0.5966,      0.5976,      0.5986,      0.5996,\n",
       "            0.6006,      0.6016,      0.6026,      0.6036,      0.6046,     0.60561,     0.60661,     0.60761,     0.60861,     0.60961,     0.61061,     0.61161,     0.61261,     0.61361,     0.61461,     0.61562,     0.61662,     0.61762,     0.61862,     0.61962,     0.62062,     0.62162,     0.62262,     0.62362,\n",
       "           0.62462,     0.62563,     0.62663,     0.62763,     0.62863,     0.62963,     0.63063,     0.63163,     0.63263,     0.63363,     0.63463,     0.63564,     0.63664,     0.63764,     0.63864,     0.63964,     0.64064,     0.64164,     0.64264,     0.64364,     0.64464,     0.64565,     0.64665,     0.64765,\n",
       "           0.64865,     0.64965,     0.65065,     0.65165,     0.65265,     0.65365,     0.65465,     0.65566,     0.65666,     0.65766,     0.65866,     0.65966,     0.66066,     0.66166,     0.66266,     0.66366,     0.66466,     0.66567,     0.66667,     0.66767,     0.66867,     0.66967,     0.67067,     0.67167,\n",
       "           0.67267,     0.67367,     0.67467,     0.67568,     0.67668,     0.67768,     0.67868,     0.67968,     0.68068,     0.68168,     0.68268,     0.68368,     0.68468,     0.68569,     0.68669,     0.68769,     0.68869,     0.68969,     0.69069,     0.69169,     0.69269,     0.69369,     0.69469,      0.6957,\n",
       "            0.6967,      0.6977,      0.6987,      0.6997,      0.7007,      0.7017,      0.7027,      0.7037,      0.7047,     0.70571,     0.70671,     0.70771,     0.70871,     0.70971,     0.71071,     0.71171,     0.71271,     0.71371,     0.71471,     0.71572,     0.71672,     0.71772,     0.71872,     0.71972,\n",
       "           0.72072,     0.72172,     0.72272,     0.72372,     0.72472,     0.72573,     0.72673,     0.72773,     0.72873,     0.72973,     0.73073,     0.73173,     0.73273,     0.73373,     0.73473,     0.73574,     0.73674,     0.73774,     0.73874,     0.73974,     0.74074,     0.74174,     0.74274,     0.74374,\n",
       "           0.74474,     0.74575,     0.74675,     0.74775,     0.74875,     0.74975,     0.75075,     0.75175,     0.75275,     0.75375,     0.75475,     0.75576,     0.75676,     0.75776,     0.75876,     0.75976,     0.76076,     0.76176,     0.76276,     0.76376,     0.76476,     0.76577,     0.76677,     0.76777,\n",
       "           0.76877,     0.76977,     0.77077,     0.77177,     0.77277,     0.77377,     0.77477,     0.77578,     0.77678,     0.77778,     0.77878,     0.77978,     0.78078,     0.78178,     0.78278,     0.78378,     0.78478,     0.78579,     0.78679,     0.78779,     0.78879,     0.78979,     0.79079,     0.79179,\n",
       "           0.79279,     0.79379,     0.79479,      0.7958,      0.7968,      0.7978,      0.7988,      0.7998,      0.8008,      0.8018,      0.8028,      0.8038,      0.8048,     0.80581,     0.80681,     0.80781,     0.80881,     0.80981,     0.81081,     0.81181,     0.81281,     0.81381,     0.81481,     0.81582,\n",
       "           0.81682,     0.81782,     0.81882,     0.81982,     0.82082,     0.82182,     0.82282,     0.82382,     0.82482,     0.82583,     0.82683,     0.82783,     0.82883,     0.82983,     0.83083,     0.83183,     0.83283,     0.83383,     0.83483,     0.83584,     0.83684,     0.83784,     0.83884,     0.83984,\n",
       "           0.84084,     0.84184,     0.84284,     0.84384,     0.84484,     0.84585,     0.84685,     0.84785,     0.84885,     0.84985,     0.85085,     0.85185,     0.85285,     0.85385,     0.85485,     0.85586,     0.85686,     0.85786,     0.85886,     0.85986,     0.86086,     0.86186,     0.86286,     0.86386,\n",
       "           0.86486,     0.86587,     0.86687,     0.86787,     0.86887,     0.86987,     0.87087,     0.87187,     0.87287,     0.87387,     0.87487,     0.87588,     0.87688,     0.87788,     0.87888,     0.87988,     0.88088,     0.88188,     0.88288,     0.88388,     0.88488,     0.88589,     0.88689,     0.88789,\n",
       "           0.88889,     0.88989,     0.89089,     0.89189,     0.89289,     0.89389,     0.89489,      0.8959,      0.8969,      0.8979,      0.8989,      0.8999,      0.9009,      0.9019,      0.9029,      0.9039,      0.9049,     0.90591,     0.90691,     0.90791,     0.90891,     0.90991,     0.91091,     0.91191,\n",
       "           0.91291,     0.91391,     0.91491,     0.91592,     0.91692,     0.91792,     0.91892,     0.91992,     0.92092,     0.92192,     0.92292,     0.92392,     0.92492,     0.92593,     0.92693,     0.92793,     0.92893,     0.92993,     0.93093,     0.93193,     0.93293,     0.93393,     0.93493,     0.93594,\n",
       "           0.93694,     0.93794,     0.93894,     0.93994,     0.94094,     0.94194,     0.94294,     0.94394,     0.94494,     0.94595,     0.94695,     0.94795,     0.94895,     0.94995,     0.95095,     0.95195,     0.95295,     0.95395,     0.95495,     0.95596,     0.95696,     0.95796,     0.95896,     0.95996,\n",
       "           0.96096,     0.96196,     0.96296,     0.96396,     0.96496,     0.96597,     0.96697,     0.96797,     0.96897,     0.96997,     0.97097,     0.97197,     0.97297,     0.97397,     0.97497,     0.97598,     0.97698,     0.97798,     0.97898,     0.97998,     0.98098,     0.98198,     0.98298,     0.98398,\n",
       "           0.98498,     0.98599,     0.98699,     0.98799,     0.98899,     0.98999,     0.99099,     0.99199,     0.99299,     0.99399,     0.99499,       0.996,       0.997,       0.998,       0.999,           1]), array([[    0.12565,     0.12566,     0.20976,     0.26706,     0.31591,      0.3504,     0.37827,     0.40406,     0.42516,     0.44594,      0.4585,     0.47576,     0.49598,     0.50743,     0.51654,     0.52449,     0.52921,     0.54056,      0.5456,     0.54938,      0.5561,     0.56429,     0.57043,\n",
       "             0.5744,      0.5778,     0.58159,     0.58447,     0.58785,     0.59276,     0.59964,     0.60452,     0.60948,     0.61102,     0.61782,     0.61831,     0.61977,     0.62055,     0.62431,     0.62521,     0.62895,     0.63244,     0.63564,     0.63627,     0.63814,     0.64093,     0.63901,\n",
       "               0.64,     0.64154,     0.64215,     0.64267,     0.64367,     0.64619,     0.64697,     0.65004,     0.65087,     0.65393,     0.65673,     0.65817,     0.65923,     0.66107,     0.66233,     0.66397,     0.66452,     0.66507,     0.66733,     0.66865,     0.66932,     0.67192,     0.67325,\n",
       "            0.67602,     0.67635,     0.67487,     0.67707,     0.68023,     0.68193,     0.68045,     0.68138,     0.68216,     0.68287,     0.68511,     0.68589,     0.68668,     0.68747,     0.68655,     0.68731,     0.68806,     0.68869,     0.68933,     0.69024,     0.69129,     0.69159,     0.69188,\n",
       "            0.69218,     0.69248,     0.69277,     0.69449,     0.69494,      0.6954,     0.69585,     0.69634,     0.69686,     0.69738,     0.69832,     0.69794,     0.69902,     0.69983,     0.70041,     0.70098,     0.70155,     0.70212,      0.7027,     0.70335,     0.70403,     0.70509,      0.7068,\n",
       "            0.71058,     0.71254,     0.71334,     0.71389,     0.71444,     0.71197,      0.7152,     0.71664,     0.71829,     0.71919,     0.72001,     0.72122,     0.72089,     0.72009,     0.71935,     0.72057,     0.71983,      0.7191,     0.71836,     0.71537,     0.71491,     0.71521,     0.71551,\n",
       "             0.7158,      0.7161,     0.71639,     0.71709,     0.71781,     0.71843,     0.71892,     0.71941,      0.7199,     0.71466,     0.71082,     0.71149,     0.71272,     0.71435,     0.71484,     0.71534,     0.71578,       0.716,     0.71622,     0.71644,     0.71665,     0.71687,     0.71709,\n",
       "            0.71731,     0.71752,     0.71873,     0.71944,     0.71954,     0.71964,     0.71974,     0.71985,     0.71995,     0.72005,     0.72015,     0.72025,     0.72035,     0.72045,     0.72055,     0.72065,     0.72075,     0.72086,     0.72096,     0.72106,     0.72116,     0.72126,     0.72137,\n",
       "            0.72148,     0.72159,      0.7217,     0.72181,     0.72192,     0.72203,     0.72214,     0.72226,     0.72237,     0.72248,     0.72259,      0.7227,     0.72281,     0.72292,     0.72303,     0.72326,      0.7236,     0.72394,     0.72428,     0.72461,      0.7256,     0.72724,     0.72772,\n",
       "             0.7282,     0.72868,     0.73005,     0.73091,     0.73146,     0.73201,     0.73359,      0.7348,     0.73528,     0.73576,     0.73624,     0.73414,     0.72973,     0.72995,     0.73017,     0.73038,      0.7306,     0.73081,     0.73103,     0.73125,     0.73146,     0.73201,     0.73296,\n",
       "            0.73449,     0.73567,     0.73605,     0.73643,     0.73681,     0.73719,      0.7377,     0.73837,     0.73904,     0.74008,     0.74135,     0.74158,     0.74182,     0.74205,     0.74229,     0.74252,     0.74276,     0.74299,     0.74322,      0.7462,     0.74841,     0.74959,     0.75001,\n",
       "            0.75043,     0.75085,     0.75127,     0.75028,     0.74896,       0.748,     0.74811,     0.74823,     0.74834,     0.74846,     0.74858,     0.74869,     0.74881,     0.74892,     0.74904,     0.74916,     0.74927,     0.74939,      0.7495,     0.74962,     0.74973,     0.74985,     0.74996,\n",
       "            0.75219,     0.75282,     0.75346,     0.75409,     0.75072,      0.7509,     0.75107,     0.75125,     0.75142,      0.7516,     0.75177,     0.75195,     0.75212,      0.7523,     0.75247,     0.75264,     0.75326,     0.75451,     0.75265,      0.7536,     0.75382,     0.75403,     0.75425,\n",
       "            0.75446,     0.75468,     0.75489,     0.75511,     0.75532,     0.75553,     0.75624,       0.757,     0.75763,     0.75737,     0.75711,     0.75685,     0.75659,     0.75633,     0.75608,     0.75582,     0.75556,      0.7553,     0.75504,     0.75478,     0.75452,     0.75427,     0.75433,\n",
       "            0.75452,     0.75471,      0.7549,     0.75509,     0.75528,     0.75547,     0.75566,     0.75585,     0.75604,     0.75623,     0.75296,     0.75338,     0.75381,     0.75423,     0.75466,     0.75469,     0.75402,     0.75334,     0.75267,     0.75199,     0.75144,     0.75163,     0.75182,\n",
       "            0.75201,      0.7522,     0.75239,     0.75258,     0.75277,     0.75296,     0.75315,     0.75334,     0.75353,     0.75231,     0.75096,     0.75018,     0.75081,     0.75144,     0.75207,      0.7518,     0.75142,     0.75104,     0.75066,     0.75028,      0.7499,     0.74953,     0.74915,\n",
       "            0.74877,     0.74873,     0.74906,     0.74939,     0.74972,     0.75005,     0.75038,     0.75071,     0.75093,     0.75114,     0.75136,     0.75157,     0.75178,       0.752,     0.75221,     0.75243,     0.75264,     0.75285,     0.75268,     0.75246,     0.75224,     0.75202,     0.75181,\n",
       "            0.75159,     0.75137,     0.75115,     0.75093,     0.75071,      0.7505,     0.75028,     0.75006,     0.74984,     0.74962,      0.7494,      0.7497,     0.75066,      0.7514,     0.75113,     0.75086,     0.75059,     0.75032,     0.75005,     0.74978,     0.74951,     0.74924,     0.74897,\n",
       "            0.74869,     0.74842,     0.74815,     0.74788,     0.74725,     0.74652,     0.74579,     0.74507,     0.74434,     0.74434,     0.74453,     0.74473,     0.74492,     0.74511,     0.74531,      0.7455,     0.74569,     0.74589,     0.74608,     0.74627,     0.74591,     0.74514,     0.74436,\n",
       "            0.74359,     0.74281,      0.7428,     0.74292,     0.74305,     0.74317,      0.7433,     0.74342,     0.74355,     0.74367,      0.7438,     0.74392,     0.74405,     0.74417,      0.7443,     0.74442,     0.74455,     0.74467,     0.74479,     0.74494,     0.74512,     0.74531,     0.74549,\n",
       "            0.74567,     0.74585,     0.74603,     0.74621,     0.74639,     0.74657,     0.74675,     0.74694,     0.74781,     0.74932,     0.74947,     0.74963,     0.74978,     0.74993,     0.75008,     0.75024,     0.75039,     0.75054,     0.75069,     0.75084,       0.751,     0.75115,      0.7513,\n",
       "            0.75145,     0.75187,     0.75235,     0.75282,      0.7533,     0.75389,     0.75518,     0.75579,     0.75537,     0.75496,     0.75454,     0.75413,     0.75371,     0.75329,     0.75288,     0.75246,     0.74999,     0.74879,      0.7492,      0.7496,     0.75001,     0.75042,     0.75078,\n",
       "            0.75091,     0.75105,     0.75118,     0.75132,     0.75145,     0.75159,     0.75172,     0.75186,     0.75199,     0.75213,     0.75226,      0.7524,     0.75253,     0.75267,      0.7528,     0.75294,     0.75313,      0.7534,     0.75367,     0.75394,     0.75421,     0.75448,     0.75475,\n",
       "            0.75502,     0.75529,     0.75433,     0.75336,     0.75239,     0.75046,     0.74816,     0.74874,     0.74933,     0.74991,     0.74974,     0.74942,     0.74911,      0.7488,     0.74848,     0.74817,     0.74785,     0.74754,     0.74722,     0.74691,     0.74659,     0.74628,      0.7439,\n",
       "            0.74268,     0.74334,       0.744,     0.74458,     0.74412,     0.74366,     0.74319,     0.74273,     0.74226,      0.7418,     0.74133,     0.74087,     0.74111,     0.74161,     0.74212,     0.74262,      0.7428,     0.74147,     0.74014,     0.73894,     0.73814,     0.73735,     0.73656,\n",
       "            0.73576,     0.73536,     0.73587,     0.73639,      0.7369,     0.73742,     0.73777,     0.73809,     0.73841,     0.73873,     0.73904,     0.73936,     0.73968,     0.73969,     0.73949,     0.73929,     0.73909,     0.73889,     0.73869,     0.73849,     0.73829,     0.73809,     0.73789,\n",
       "            0.73769,     0.73749,     0.73729,     0.73709,     0.73689,     0.73669,     0.73649,     0.73628,     0.73608,     0.73588,      0.7363,     0.73684,     0.73738,     0.73792,     0.74047,     0.74007,     0.73967,     0.73927,     0.73886,     0.73846,     0.73806,     0.73765,     0.73725,\n",
       "            0.73684,     0.73243,     0.73187,     0.73131,     0.73075,     0.73019,     0.72963,     0.72906,      0.7285,     0.72809,     0.72771,     0.72732,     0.72694,     0.72655,     0.72616,     0.72578,     0.72539,       0.725,     0.72462,     0.72536,     0.72448,     0.72235,     0.72193,\n",
       "             0.7215,     0.72107,     0.72064,      0.7202,     0.71977,     0.71934,     0.71891,     0.71848,      0.7191,      0.7198,     0.72051,      0.7206,     0.72031,     0.72003,     0.71974,     0.71945,     0.71916,     0.71887,     0.71858,     0.71829,       0.718,     0.71771,     0.71743,\n",
       "            0.71714,     0.71685,     0.71652,     0.71602,     0.71553,     0.71504,     0.71454,     0.71405,     0.71355,     0.71306,     0.71256,     0.71194,     0.71128,     0.71061,     0.70994,     0.70928,     0.70861,      0.7073,     0.70498,     0.70406,     0.70426,     0.70446,     0.70467,\n",
       "            0.70487,     0.70507,     0.70527,     0.70547,     0.70567,     0.70587,     0.70607,     0.70628,      0.7067,     0.70712,     0.70755,     0.70797,     0.70839,     0.70713,     0.70436,     0.70472,     0.70508,     0.70544,      0.7058,     0.70616,     0.70651,      0.7056,     0.70374,\n",
       "             0.7024,     0.70262,     0.70284,     0.70306,     0.70328,     0.70351,     0.70373,     0.70395,     0.70417,     0.70439,     0.70461,     0.70346,     0.70135,     0.69353,     0.68451,     0.67816,     0.67755,     0.67701,     0.67647,     0.67593,     0.67539,     0.67485,     0.67431,\n",
       "            0.67376,     0.67259,     0.67097,     0.66934,     0.66804,     0.66684,     0.66563,     0.66443,     0.66114,     0.65903,     0.65784,     0.65665,     0.65545,     0.65521,     0.65545,     0.65568,     0.65592,     0.65616,     0.65639,     0.65663,     0.65686,      0.6571,     0.65733,\n",
       "            0.65893,     0.65991,     0.66038,     0.66085,     0.66131,     0.66178,     0.65677,     0.65516,     0.65354,     0.65125,      0.6477,     0.64705,      0.6464,     0.64576,     0.64512,     0.64447,     0.64383,     0.64318,     0.64183,     0.63866,     0.63664,     0.63239,     0.62995,\n",
       "            0.62931,     0.62867,     0.62803,     0.62739,     0.62675,      0.6261,     0.62546,     0.62455,     0.62363,     0.62271,     0.62179,     0.62087,     0.62005,     0.61933,      0.6186,     0.61787,     0.61714,     0.61641,     0.61568,     0.61284,     0.60899,     0.60581,     0.60552,\n",
       "            0.60596,      0.6064,     0.60683,     0.60727,      0.6078,     0.60837,     0.60894,     0.60951,     0.60905,      0.6082,     0.60735,     0.60649,     0.60564,     0.60479,     0.60064,       0.599,     0.59569,     0.59207,     0.58993,     0.58849,     0.58705,      0.5856,     0.58478,\n",
       "            0.58398,     0.58317,     0.58237,     0.58157,     0.58076,     0.57829,     0.57189,     0.56827,     0.56633,     0.56439,     0.56323,      0.5625,     0.56177,     0.56104,     0.56031,     0.55957,     0.55884,     0.55767,     0.54595,     0.54167,     0.54033,     0.53937,     0.53841,\n",
       "            0.53744,     0.53648,     0.53551,     0.52767,     0.51704,     0.50699,     0.49387,     0.48741,     0.48333,     0.48047,     0.47847,     0.47647,     0.47455,     0.47272,      0.4709,     0.46848,     0.45589,     0.45479,     0.45369,     0.45259,     0.45149,     0.45039,     0.44784,\n",
       "             0.4445,     0.44396,     0.44459,     0.44521,     0.44385,     0.44174,     0.43962,     0.42937,     0.42315,     0.41324,     0.40875,     0.40526,     0.39061,     0.38882,     0.38703,     0.38524,     0.37947,     0.36991,     0.36751,     0.36511,     0.36428,      0.3603,     0.35637,\n",
       "            0.35321,     0.35004,     0.34357,     0.33642,     0.31404,     0.30564,     0.29559,     0.29332,     0.29105,     0.28877,      0.2727,     0.26767,     0.25485,     0.25065,     0.24247,     0.23743,     0.23523,     0.23302,     0.23081,     0.22067,     0.21579,     0.20863,     0.20446,\n",
       "            0.20375,     0.20304,     0.20233,     0.20162,     0.20091,      0.2002,     0.19948,     0.19877,     0.19805,     0.19734,     0.19662,      0.1955,     0.19309,     0.19067,     0.18824,     0.18655,     0.18542,     0.18429,     0.18316,     0.18202,     0.18089,     0.17975,     0.17861,\n",
       "            0.17777,     0.17707,     0.17638,     0.17569,       0.175,      0.1743,     0.17361,     0.17292,     0.17222,     0.17152,     0.17083,     0.17013,     0.16943,      0.1686,     0.16766,     0.16673,     0.16579,     0.16486,     0.16392,     0.16298,     0.16204,      0.1611,     0.16016,\n",
       "            0.15927,      0.1584,     0.15753,     0.15665,     0.15577,      0.1549,     0.15402,     0.15314,     0.15226,     0.15138,      0.1505,     0.14965,     0.14879,     0.14793,     0.14707,     0.14621,     0.14535,     0.14449,     0.14363,     0.14277,      0.1419,     0.12925,     0.12088,\n",
       "             0.1178,     0.11471,     0.10323,    0.081006,     0.07377,    0.057921,    0.046347,    0.019806,    0.013156,           0,           0]]), 'Confidence', 'F1'], [array([          0,    0.001001,    0.002002,    0.003003,    0.004004,    0.005005,    0.006006,    0.007007,    0.008008,    0.009009,     0.01001,    0.011011,    0.012012,    0.013013,    0.014014,    0.015015,    0.016016,    0.017017,    0.018018,    0.019019,     0.02002,    0.021021,    0.022022,    0.023023,\n",
       "          0.024024,    0.025025,    0.026026,    0.027027,    0.028028,    0.029029,     0.03003,    0.031031,    0.032032,    0.033033,    0.034034,    0.035035,    0.036036,    0.037037,    0.038038,    0.039039,     0.04004,    0.041041,    0.042042,    0.043043,    0.044044,    0.045045,    0.046046,    0.047047,\n",
       "          0.048048,    0.049049,     0.05005,    0.051051,    0.052052,    0.053053,    0.054054,    0.055055,    0.056056,    0.057057,    0.058058,    0.059059,     0.06006,    0.061061,    0.062062,    0.063063,    0.064064,    0.065065,    0.066066,    0.067067,    0.068068,    0.069069,     0.07007,    0.071071,\n",
       "          0.072072,    0.073073,    0.074074,    0.075075,    0.076076,    0.077077,    0.078078,    0.079079,     0.08008,    0.081081,    0.082082,    0.083083,    0.084084,    0.085085,    0.086086,    0.087087,    0.088088,    0.089089,     0.09009,    0.091091,    0.092092,    0.093093,    0.094094,    0.095095,\n",
       "          0.096096,    0.097097,    0.098098,    0.099099,      0.1001,      0.1011,      0.1021,      0.1031,      0.1041,     0.10511,     0.10611,     0.10711,     0.10811,     0.10911,     0.11011,     0.11111,     0.11211,     0.11311,     0.11411,     0.11512,     0.11612,     0.11712,     0.11812,     0.11912,\n",
       "           0.12012,     0.12112,     0.12212,     0.12312,     0.12412,     0.12513,     0.12613,     0.12713,     0.12813,     0.12913,     0.13013,     0.13113,     0.13213,     0.13313,     0.13413,     0.13514,     0.13614,     0.13714,     0.13814,     0.13914,     0.14014,     0.14114,     0.14214,     0.14314,\n",
       "           0.14414,     0.14515,     0.14615,     0.14715,     0.14815,     0.14915,     0.15015,     0.15115,     0.15215,     0.15315,     0.15415,     0.15516,     0.15616,     0.15716,     0.15816,     0.15916,     0.16016,     0.16116,     0.16216,     0.16316,     0.16416,     0.16517,     0.16617,     0.16717,\n",
       "           0.16817,     0.16917,     0.17017,     0.17117,     0.17217,     0.17317,     0.17417,     0.17518,     0.17618,     0.17718,     0.17818,     0.17918,     0.18018,     0.18118,     0.18218,     0.18318,     0.18418,     0.18519,     0.18619,     0.18719,     0.18819,     0.18919,     0.19019,     0.19119,\n",
       "           0.19219,     0.19319,     0.19419,      0.1952,      0.1962,      0.1972,      0.1982,      0.1992,      0.2002,      0.2012,      0.2022,      0.2032,      0.2042,     0.20521,     0.20621,     0.20721,     0.20821,     0.20921,     0.21021,     0.21121,     0.21221,     0.21321,     0.21421,     0.21522,\n",
       "           0.21622,     0.21722,     0.21822,     0.21922,     0.22022,     0.22122,     0.22222,     0.22322,     0.22422,     0.22523,     0.22623,     0.22723,     0.22823,     0.22923,     0.23023,     0.23123,     0.23223,     0.23323,     0.23423,     0.23524,     0.23624,     0.23724,     0.23824,     0.23924,\n",
       "           0.24024,     0.24124,     0.24224,     0.24324,     0.24424,     0.24525,     0.24625,     0.24725,     0.24825,     0.24925,     0.25025,     0.25125,     0.25225,     0.25325,     0.25425,     0.25526,     0.25626,     0.25726,     0.25826,     0.25926,     0.26026,     0.26126,     0.26226,     0.26326,\n",
       "           0.26426,     0.26527,     0.26627,     0.26727,     0.26827,     0.26927,     0.27027,     0.27127,     0.27227,     0.27327,     0.27427,     0.27528,     0.27628,     0.27728,     0.27828,     0.27928,     0.28028,     0.28128,     0.28228,     0.28328,     0.28428,     0.28529,     0.28629,     0.28729,\n",
       "           0.28829,     0.28929,     0.29029,     0.29129,     0.29229,     0.29329,     0.29429,      0.2953,      0.2963,      0.2973,      0.2983,      0.2993,      0.3003,      0.3013,      0.3023,      0.3033,      0.3043,     0.30531,     0.30631,     0.30731,     0.30831,     0.30931,     0.31031,     0.31131,\n",
       "           0.31231,     0.31331,     0.31431,     0.31532,     0.31632,     0.31732,     0.31832,     0.31932,     0.32032,     0.32132,     0.32232,     0.32332,     0.32432,     0.32533,     0.32633,     0.32733,     0.32833,     0.32933,     0.33033,     0.33133,     0.33233,     0.33333,     0.33433,     0.33534,\n",
       "           0.33634,     0.33734,     0.33834,     0.33934,     0.34034,     0.34134,     0.34234,     0.34334,     0.34434,     0.34535,     0.34635,     0.34735,     0.34835,     0.34935,     0.35035,     0.35135,     0.35235,     0.35335,     0.35435,     0.35536,     0.35636,     0.35736,     0.35836,     0.35936,\n",
       "           0.36036,     0.36136,     0.36236,     0.36336,     0.36436,     0.36537,     0.36637,     0.36737,     0.36837,     0.36937,     0.37037,     0.37137,     0.37237,     0.37337,     0.37437,     0.37538,     0.37638,     0.37738,     0.37838,     0.37938,     0.38038,     0.38138,     0.38238,     0.38338,\n",
       "           0.38438,     0.38539,     0.38639,     0.38739,     0.38839,     0.38939,     0.39039,     0.39139,     0.39239,     0.39339,     0.39439,      0.3954,      0.3964,      0.3974,      0.3984,      0.3994,      0.4004,      0.4014,      0.4024,      0.4034,      0.4044,     0.40541,     0.40641,     0.40741,\n",
       "           0.40841,     0.40941,     0.41041,     0.41141,     0.41241,     0.41341,     0.41441,     0.41542,     0.41642,     0.41742,     0.41842,     0.41942,     0.42042,     0.42142,     0.42242,     0.42342,     0.42442,     0.42543,     0.42643,     0.42743,     0.42843,     0.42943,     0.43043,     0.43143,\n",
       "           0.43243,     0.43343,     0.43443,     0.43544,     0.43644,     0.43744,     0.43844,     0.43944,     0.44044,     0.44144,     0.44244,     0.44344,     0.44444,     0.44545,     0.44645,     0.44745,     0.44845,     0.44945,     0.45045,     0.45145,     0.45245,     0.45345,     0.45445,     0.45546,\n",
       "           0.45646,     0.45746,     0.45846,     0.45946,     0.46046,     0.46146,     0.46246,     0.46346,     0.46446,     0.46547,     0.46647,     0.46747,     0.46847,     0.46947,     0.47047,     0.47147,     0.47247,     0.47347,     0.47447,     0.47548,     0.47648,     0.47748,     0.47848,     0.47948,\n",
       "           0.48048,     0.48148,     0.48248,     0.48348,     0.48448,     0.48549,     0.48649,     0.48749,     0.48849,     0.48949,     0.49049,     0.49149,     0.49249,     0.49349,     0.49449,      0.4955,      0.4965,      0.4975,      0.4985,      0.4995,      0.5005,      0.5015,      0.5025,      0.5035,\n",
       "            0.5045,     0.50551,     0.50651,     0.50751,     0.50851,     0.50951,     0.51051,     0.51151,     0.51251,     0.51351,     0.51451,     0.51552,     0.51652,     0.51752,     0.51852,     0.51952,     0.52052,     0.52152,     0.52252,     0.52352,     0.52452,     0.52553,     0.52653,     0.52753,\n",
       "           0.52853,     0.52953,     0.53053,     0.53153,     0.53253,     0.53353,     0.53453,     0.53554,     0.53654,     0.53754,     0.53854,     0.53954,     0.54054,     0.54154,     0.54254,     0.54354,     0.54454,     0.54555,     0.54655,     0.54755,     0.54855,     0.54955,     0.55055,     0.55155,\n",
       "           0.55255,     0.55355,     0.55455,     0.55556,     0.55656,     0.55756,     0.55856,     0.55956,     0.56056,     0.56156,     0.56256,     0.56356,     0.56456,     0.56557,     0.56657,     0.56757,     0.56857,     0.56957,     0.57057,     0.57157,     0.57257,     0.57357,     0.57457,     0.57558,\n",
       "           0.57658,     0.57758,     0.57858,     0.57958,     0.58058,     0.58158,     0.58258,     0.58358,     0.58458,     0.58559,     0.58659,     0.58759,     0.58859,     0.58959,     0.59059,     0.59159,     0.59259,     0.59359,     0.59459,      0.5956,      0.5966,      0.5976,      0.5986,      0.5996,\n",
       "            0.6006,      0.6016,      0.6026,      0.6036,      0.6046,     0.60561,     0.60661,     0.60761,     0.60861,     0.60961,     0.61061,     0.61161,     0.61261,     0.61361,     0.61461,     0.61562,     0.61662,     0.61762,     0.61862,     0.61962,     0.62062,     0.62162,     0.62262,     0.62362,\n",
       "           0.62462,     0.62563,     0.62663,     0.62763,     0.62863,     0.62963,     0.63063,     0.63163,     0.63263,     0.63363,     0.63463,     0.63564,     0.63664,     0.63764,     0.63864,     0.63964,     0.64064,     0.64164,     0.64264,     0.64364,     0.64464,     0.64565,     0.64665,     0.64765,\n",
       "           0.64865,     0.64965,     0.65065,     0.65165,     0.65265,     0.65365,     0.65465,     0.65566,     0.65666,     0.65766,     0.65866,     0.65966,     0.66066,     0.66166,     0.66266,     0.66366,     0.66466,     0.66567,     0.66667,     0.66767,     0.66867,     0.66967,     0.67067,     0.67167,\n",
       "           0.67267,     0.67367,     0.67467,     0.67568,     0.67668,     0.67768,     0.67868,     0.67968,     0.68068,     0.68168,     0.68268,     0.68368,     0.68468,     0.68569,     0.68669,     0.68769,     0.68869,     0.68969,     0.69069,     0.69169,     0.69269,     0.69369,     0.69469,      0.6957,\n",
       "            0.6967,      0.6977,      0.6987,      0.6997,      0.7007,      0.7017,      0.7027,      0.7037,      0.7047,     0.70571,     0.70671,     0.70771,     0.70871,     0.70971,     0.71071,     0.71171,     0.71271,     0.71371,     0.71471,     0.71572,     0.71672,     0.71772,     0.71872,     0.71972,\n",
       "           0.72072,     0.72172,     0.72272,     0.72372,     0.72472,     0.72573,     0.72673,     0.72773,     0.72873,     0.72973,     0.73073,     0.73173,     0.73273,     0.73373,     0.73473,     0.73574,     0.73674,     0.73774,     0.73874,     0.73974,     0.74074,     0.74174,     0.74274,     0.74374,\n",
       "           0.74474,     0.74575,     0.74675,     0.74775,     0.74875,     0.74975,     0.75075,     0.75175,     0.75275,     0.75375,     0.75475,     0.75576,     0.75676,     0.75776,     0.75876,     0.75976,     0.76076,     0.76176,     0.76276,     0.76376,     0.76476,     0.76577,     0.76677,     0.76777,\n",
       "           0.76877,     0.76977,     0.77077,     0.77177,     0.77277,     0.77377,     0.77477,     0.77578,     0.77678,     0.77778,     0.77878,     0.77978,     0.78078,     0.78178,     0.78278,     0.78378,     0.78478,     0.78579,     0.78679,     0.78779,     0.78879,     0.78979,     0.79079,     0.79179,\n",
       "           0.79279,     0.79379,     0.79479,      0.7958,      0.7968,      0.7978,      0.7988,      0.7998,      0.8008,      0.8018,      0.8028,      0.8038,      0.8048,     0.80581,     0.80681,     0.80781,     0.80881,     0.80981,     0.81081,     0.81181,     0.81281,     0.81381,     0.81481,     0.81582,\n",
       "           0.81682,     0.81782,     0.81882,     0.81982,     0.82082,     0.82182,     0.82282,     0.82382,     0.82482,     0.82583,     0.82683,     0.82783,     0.82883,     0.82983,     0.83083,     0.83183,     0.83283,     0.83383,     0.83483,     0.83584,     0.83684,     0.83784,     0.83884,     0.83984,\n",
       "           0.84084,     0.84184,     0.84284,     0.84384,     0.84484,     0.84585,     0.84685,     0.84785,     0.84885,     0.84985,     0.85085,     0.85185,     0.85285,     0.85385,     0.85485,     0.85586,     0.85686,     0.85786,     0.85886,     0.85986,     0.86086,     0.86186,     0.86286,     0.86386,\n",
       "           0.86486,     0.86587,     0.86687,     0.86787,     0.86887,     0.86987,     0.87087,     0.87187,     0.87287,     0.87387,     0.87487,     0.87588,     0.87688,     0.87788,     0.87888,     0.87988,     0.88088,     0.88188,     0.88288,     0.88388,     0.88488,     0.88589,     0.88689,     0.88789,\n",
       "           0.88889,     0.88989,     0.89089,     0.89189,     0.89289,     0.89389,     0.89489,      0.8959,      0.8969,      0.8979,      0.8989,      0.8999,      0.9009,      0.9019,      0.9029,      0.9039,      0.9049,     0.90591,     0.90691,     0.90791,     0.90891,     0.90991,     0.91091,     0.91191,\n",
       "           0.91291,     0.91391,     0.91491,     0.91592,     0.91692,     0.91792,     0.91892,     0.91992,     0.92092,     0.92192,     0.92292,     0.92392,     0.92492,     0.92593,     0.92693,     0.92793,     0.92893,     0.92993,     0.93093,     0.93193,     0.93293,     0.93393,     0.93493,     0.93594,\n",
       "           0.93694,     0.93794,     0.93894,     0.93994,     0.94094,     0.94194,     0.94294,     0.94394,     0.94494,     0.94595,     0.94695,     0.94795,     0.94895,     0.94995,     0.95095,     0.95195,     0.95295,     0.95395,     0.95495,     0.95596,     0.95696,     0.95796,     0.95896,     0.95996,\n",
       "           0.96096,     0.96196,     0.96296,     0.96396,     0.96496,     0.96597,     0.96697,     0.96797,     0.96897,     0.96997,     0.97097,     0.97197,     0.97297,     0.97397,     0.97497,     0.97598,     0.97698,     0.97798,     0.97898,     0.97998,     0.98098,     0.98198,     0.98298,     0.98398,\n",
       "           0.98498,     0.98599,     0.98699,     0.98799,     0.98899,     0.98999,     0.99099,     0.99199,     0.99299,     0.99399,     0.99499,       0.996,       0.997,       0.998,       0.999,           1]), array([[   0.067407,    0.067413,     0.11849,     0.15657,     0.19148,     0.21743,     0.23969,     0.26078,     0.27916,     0.29797,     0.30929,     0.32594,     0.34523,     0.35643,     0.36549,     0.37349,      0.3783,     0.39108,     0.39638,     0.40038,     0.40875,     0.41766,     0.42598,\n",
       "            0.43153,     0.43537,      0.4397,       0.443,     0.44689,     0.45259,     0.46067,     0.46645,     0.47238,     0.47424,     0.48247,     0.48468,     0.48661,     0.48757,     0.49406,     0.49707,      0.5018,     0.50627,     0.51038,     0.51119,      0.5136,     0.51724,     0.51678,\n",
       "            0.51808,      0.5201,     0.52091,     0.52159,     0.52291,     0.52625,     0.52728,     0.53136,     0.53248,     0.53658,     0.54266,     0.54463,     0.54608,     0.54862,     0.55035,     0.55262,     0.55338,     0.55415,     0.55729,     0.55913,     0.56007,     0.56372,      0.5656,\n",
       "            0.56951,     0.57054,     0.56973,     0.57359,     0.57815,     0.58061,     0.58117,     0.58252,     0.58367,     0.58471,     0.58799,     0.58914,     0.59031,     0.59148,     0.59297,     0.59409,     0.59521,     0.59617,     0.59712,     0.59849,     0.60007,     0.60052,     0.60097,\n",
       "            0.60141,     0.60186,     0.60231,      0.6049,      0.6056,     0.60629,     0.60698,     0.60773,     0.60851,      0.6093,     0.61074,     0.61324,     0.61491,     0.61617,     0.61706,     0.61795,     0.61884,     0.61973,     0.62062,     0.62165,     0.62271,     0.62436,     0.62705,\n",
       "            0.63304,     0.63614,     0.63742,      0.6383,     0.63918,     0.63862,     0.64384,     0.64617,     0.64887,     0.65034,     0.65167,     0.65366,     0.65435,     0.65542,     0.65773,     0.66043,     0.66007,     0.65971,     0.65935,     0.65789,       0.658,      0.6585,       0.659,\n",
       "             0.6595,     0.66001,     0.66051,     0.66169,     0.66293,     0.66398,     0.66482,     0.66565,     0.66649,     0.66408,     0.66282,       0.664,     0.66614,     0.66899,     0.66986,     0.67073,     0.67151,     0.67189,     0.67228,     0.67266,     0.67305,     0.67343,     0.67381,\n",
       "             0.6742,     0.67458,     0.67673,     0.67798,     0.67816,     0.67834,     0.67852,      0.6787,     0.67888,     0.67906,     0.67924,     0.67942,      0.6796,     0.67978,     0.67996,     0.68014,     0.68032,      0.6805,     0.68068,     0.68086,     0.68104,     0.68122,     0.68142,\n",
       "            0.68162,     0.68181,     0.68201,     0.68221,      0.6824,      0.6826,      0.6828,     0.68299,     0.68319,     0.68339,     0.68359,     0.68378,     0.68398,     0.68418,     0.68437,     0.68479,      0.6854,     0.68601,     0.68662,     0.68723,       0.689,     0.69197,     0.69283,\n",
       "             0.6937,     0.69457,     0.69708,     0.69865,     0.69965,     0.70065,     0.70356,     0.70579,     0.70668,     0.70756,     0.70845,     0.70758,     0.70572,     0.70613,     0.70653,     0.70694,     0.70734,     0.70775,     0.70815,     0.70856,     0.70896,        0.71,     0.71179,\n",
       "            0.71467,     0.71692,     0.71764,     0.71836,     0.71908,      0.7198,     0.72077,     0.72206,     0.72335,     0.72533,     0.72778,     0.72823,     0.72869,     0.72914,     0.72959,     0.73004,     0.73049,     0.73095,      0.7314,      0.7372,     0.74151,     0.74383,     0.74466,\n",
       "            0.74549,     0.74632,     0.74715,     0.74688,     0.74634,       0.746,     0.74624,     0.74647,      0.7467,     0.74693,     0.74716,     0.74739,     0.74762,     0.74785,     0.74808,     0.74831,     0.74854,     0.74878,     0.74901,     0.74924,     0.74947,      0.7497,     0.74993,\n",
       "            0.75439,     0.75567,     0.75695,     0.75823,     0.75699,     0.75734,      0.7577,     0.75805,     0.75841,     0.75876,     0.75912,     0.75948,     0.75983,     0.76019,     0.76054,      0.7609,     0.76216,     0.76472,     0.76668,     0.76866,      0.7691,     0.76955,        0.77,\n",
       "            0.77045,     0.77089,     0.77134,     0.77179,     0.77224,     0.77268,     0.77416,     0.77576,     0.77713,     0.77703,     0.77694,     0.77684,     0.77675,     0.77665,     0.77656,     0.77646,     0.77637,     0.77627,     0.77618,     0.77608,     0.77599,     0.77589,     0.77615,\n",
       "            0.77655,     0.77696,     0.77736,     0.77776,     0.77817,     0.77857,     0.77898,     0.77938,     0.77978,     0.78019,     0.77939,      0.7803,     0.78121,     0.78213,     0.78304,     0.78354,     0.78329,     0.78305,     0.78281,     0.78256,     0.78241,     0.78283,     0.78324,\n",
       "            0.78365,     0.78406,     0.78447,     0.78489,      0.7853,     0.78571,     0.78612,     0.78654,     0.78695,     0.78654,     0.78606,     0.78611,      0.7875,     0.78889,     0.79028,      0.7903,     0.79016,     0.79003,      0.7899,     0.78976,     0.78963,     0.78949,     0.78936,\n",
       "            0.78923,     0.78951,     0.79025,     0.79099,     0.79172,     0.79246,      0.7932,     0.79393,     0.79442,     0.79489,     0.79537,     0.79585,     0.79633,     0.79681,     0.79729,     0.79777,     0.79825,     0.79873,     0.79871,     0.79864,     0.79856,     0.79849,     0.79841,\n",
       "            0.79834,     0.79826,     0.79819,     0.79811,     0.79804,     0.79796,     0.79789,     0.79781,     0.79774,     0.79766,     0.79759,     0.79849,     0.80067,     0.80245,     0.80236,     0.80227,     0.80218,     0.80209,     0.80199,      0.8019,     0.80181,     0.80172,     0.80163,\n",
       "            0.80154,     0.80144,     0.80135,     0.80126,     0.80105,      0.8008,     0.80055,      0.8003,     0.80005,     0.80036,      0.8008,     0.80125,      0.8017,     0.80215,      0.8026,     0.80305,     0.80349,     0.80394,     0.80439,     0.80484,     0.80488,     0.80462,     0.80436,\n",
       "             0.8041,     0.80384,     0.80404,     0.80434,     0.80463,     0.80493,     0.80522,     0.80551,     0.80581,      0.8061,     0.80639,     0.80669,     0.80698,     0.80727,     0.80757,     0.80786,     0.80816,     0.80845,     0.80874,     0.80909,     0.80952,     0.80995,     0.81038,\n",
       "            0.81081,     0.81124,     0.81167,     0.81209,     0.81252,     0.81295,     0.81338,     0.81381,     0.81589,      0.8195,     0.81986,     0.82023,     0.82059,     0.82096,     0.82132,     0.82169,     0.82205,     0.82242,     0.82278,     0.82315,     0.82351,     0.82388,     0.82424,\n",
       "            0.82461,     0.82562,     0.82677,     0.82792,     0.82907,      0.8305,     0.83365,     0.83548,     0.83536,     0.83523,     0.83511,     0.83499,     0.83487,     0.83475,     0.83462,      0.8345,     0.83377,     0.83404,     0.83505,     0.83607,     0.83708,      0.8381,     0.83899,\n",
       "            0.83933,     0.83967,     0.84001,     0.84034,     0.84068,     0.84102,     0.84136,      0.8417,     0.84204,     0.84238,     0.84271,     0.84305,     0.84339,     0.84373,     0.84407,     0.84441,      0.8449,     0.84558,     0.84626,     0.84694,     0.84762,      0.8483,     0.84898,\n",
       "            0.84966,     0.85034,     0.85008,     0.84982,     0.84955,     0.84903,     0.84941,     0.85091,     0.85242,     0.85392,      0.8541,     0.85401,     0.85393,     0.85384,     0.85376,     0.85368,     0.85359,     0.85351,     0.85343,     0.85334,     0.85326,     0.85317,     0.85253,\n",
       "            0.85305,     0.85479,     0.85653,     0.85815,     0.85803,      0.8579,     0.85778,     0.85766,     0.85754,     0.85742,      0.8573,     0.85718,     0.85813,     0.85949,     0.86084,      0.8622,     0.86325,     0.86291,     0.86257,     0.86227,     0.86207,     0.86186,     0.86166,\n",
       "            0.86146,     0.86173,     0.86316,     0.86458,       0.866,     0.86742,     0.86839,     0.86928,     0.87016,     0.87105,     0.87194,     0.87282,     0.87371,     0.87405,       0.874,     0.87395,      0.8739,     0.87386,     0.87381,     0.87376,     0.87371,     0.87367,     0.87362,\n",
       "            0.87357,     0.87352,     0.87348,     0.87343,     0.87338,     0.87333,     0.87328,     0.87324,     0.87319,     0.87314,     0.87441,     0.87594,     0.87747,       0.879,     0.88636,     0.88627,     0.88618,     0.88609,     0.88601,     0.88592,     0.88583,     0.88574,     0.88566,\n",
       "            0.88557,      0.8846,     0.88448,     0.88436,     0.88423,     0.88411,     0.88398,     0.88386,     0.88374,     0.88364,     0.88356,     0.88347,     0.88339,      0.8833,     0.88321,     0.88313,     0.88304,     0.88296,     0.88287,     0.88579,     0.88929,     0.88884,     0.88875,\n",
       "            0.88866,     0.88856,     0.88847,     0.88838,     0.88828,     0.88819,      0.8881,     0.88801,     0.88999,     0.89216,     0.89432,     0.89513,     0.89507,     0.89501,     0.89495,     0.89489,     0.89483,     0.89477,     0.89471,     0.89465,     0.89459,     0.89453,     0.89447,\n",
       "            0.89442,     0.89436,     0.89429,     0.89419,     0.89408,     0.89398,     0.89388,     0.89378,     0.89368,     0.89357,     0.89347,     0.89334,      0.8932,     0.89307,     0.89293,     0.89279,     0.89265,     0.89237,     0.89188,     0.89203,     0.89268,     0.89333,     0.89398,\n",
       "            0.89462,     0.89527,     0.89592,     0.89657,     0.89722,     0.89787,     0.89852,     0.89918,     0.90055,     0.90193,      0.9033,     0.90468,     0.90605,      0.9065,     0.90611,      0.9073,      0.9085,      0.9097,     0.91089,     0.91209,     0.91328,     0.91361,     0.91329,\n",
       "            0.91323,     0.91398,     0.91473,     0.91549,     0.91624,     0.91699,     0.91774,     0.91849,     0.91924,     0.91999,     0.92074,     0.92085,     0.92052,     0.91925,     0.91775,     0.91668,     0.91657,     0.91648,     0.91639,      0.9163,      0.9162,     0.91611,     0.91602,\n",
       "            0.91593,     0.91572,     0.91544,     0.91516,     0.91493,     0.91472,     0.91451,      0.9143,     0.91371,     0.91334,     0.91312,     0.91291,     0.91269,     0.91323,     0.91415,     0.91507,     0.91599,     0.91692,     0.91784,     0.91876,     0.91968,      0.9206,     0.92152,\n",
       "            0.92782,     0.93175,     0.93362,     0.93549,     0.93735,     0.93922,     0.93933,     0.93912,     0.93891,     0.93861,     0.93815,     0.93806,     0.93797,     0.93789,      0.9378,     0.93772,     0.93763,     0.93754,     0.94698,     0.94662,     0.94638,     0.94588,     0.94559,\n",
       "            0.94552,     0.94544,     0.94536,     0.94529,     0.94521,     0.94513,     0.94506,     0.94494,     0.94483,     0.94472,     0.94461,      0.9445,      0.9444,     0.94431,     0.94422,     0.94413,     0.94404,     0.94395,     0.94386,      0.9435,     0.94301,     0.94261,     0.94424,\n",
       "            0.94638,     0.94853,     0.95067,     0.95281,     0.95543,     0.95826,      0.9611,     0.96393,     0.96466,     0.96459,     0.96452,     0.96445,     0.96438,     0.96431,     0.96397,     0.97547,     0.97528,     0.97507,     0.97494,     0.97486,     0.97477,     0.97469,     0.97464,\n",
       "            0.97459,     0.97454,     0.97449,     0.97444,      0.9744,     0.97424,     0.97385,     0.97362,      0.9735,     0.97338,      0.9733,     0.97326,     0.97321,     0.97316,     0.97311,     0.97307,     0.97302,     0.97294,     0.97216,     0.97186,     0.97177,      0.9717,     0.97164,\n",
       "            0.97157,      0.9715,     0.97143,     0.97087,     0.97008,     0.96931,     0.96825,     0.96771,     0.96736,     0.96711,     0.96693,     0.96676,     0.96659,     0.96642,     0.96626,     0.96604,     0.96486,     0.96475,     0.96464,     0.96454,     0.96443,     0.96432,     0.96407,\n",
       "            0.96373,     0.96787,     0.97386,     0.97985,      0.9814,     0.98129,     0.98117,     0.98061,     0.98025,     0.97967,     0.97939,     0.97917,     0.97821,     0.97809,     0.97797,     0.97784,     0.97743,     0.97673,     0.97655,     0.97636,     0.99759,           1,           1,\n",
       "                  1,           1,           1,           1,           1,           1,           1,           1,           1,           1,           1,           1,           1,           1,           1,           1,           1,           1,           1,           1,           1,           1,           1,\n",
       "                  1,           1,           1,           1,           1,           1,           1,           1,           1,           1,           1,           1,           1,           1,           1,           1,           1,           1,           1,           1,           1,           1,           1,\n",
       "                  1,           1,           1,           1,           1,           1,           1,           1,           1,           1,           1,           1,           1,           1,           1,           1,           1,           1,           1,           1,           1,           1,           1,\n",
       "                  1,           1,           1,           1,           1,           1,           1,           1,           1,           1,           1,           1,           1,           1,           1,           1,           1,           1,           1,           1,           1,           1,           1,\n",
       "                  1,           1,           1,           1,           1,           1,           1,           1,           1,           1,           1]]), 'Confidence', 'Precision'], [array([          0,    0.001001,    0.002002,    0.003003,    0.004004,    0.005005,    0.006006,    0.007007,    0.008008,    0.009009,     0.01001,    0.011011,    0.012012,    0.013013,    0.014014,    0.015015,    0.016016,    0.017017,    0.018018,    0.019019,     0.02002,    0.021021,    0.022022,    0.023023,\n",
       "          0.024024,    0.025025,    0.026026,    0.027027,    0.028028,    0.029029,     0.03003,    0.031031,    0.032032,    0.033033,    0.034034,    0.035035,    0.036036,    0.037037,    0.038038,    0.039039,     0.04004,    0.041041,    0.042042,    0.043043,    0.044044,    0.045045,    0.046046,    0.047047,\n",
       "          0.048048,    0.049049,     0.05005,    0.051051,    0.052052,    0.053053,    0.054054,    0.055055,    0.056056,    0.057057,    0.058058,    0.059059,     0.06006,    0.061061,    0.062062,    0.063063,    0.064064,    0.065065,    0.066066,    0.067067,    0.068068,    0.069069,     0.07007,    0.071071,\n",
       "          0.072072,    0.073073,    0.074074,    0.075075,    0.076076,    0.077077,    0.078078,    0.079079,     0.08008,    0.081081,    0.082082,    0.083083,    0.084084,    0.085085,    0.086086,    0.087087,    0.088088,    0.089089,     0.09009,    0.091091,    0.092092,    0.093093,    0.094094,    0.095095,\n",
       "          0.096096,    0.097097,    0.098098,    0.099099,      0.1001,      0.1011,      0.1021,      0.1031,      0.1041,     0.10511,     0.10611,     0.10711,     0.10811,     0.10911,     0.11011,     0.11111,     0.11211,     0.11311,     0.11411,     0.11512,     0.11612,     0.11712,     0.11812,     0.11912,\n",
       "           0.12012,     0.12112,     0.12212,     0.12312,     0.12412,     0.12513,     0.12613,     0.12713,     0.12813,     0.12913,     0.13013,     0.13113,     0.13213,     0.13313,     0.13413,     0.13514,     0.13614,     0.13714,     0.13814,     0.13914,     0.14014,     0.14114,     0.14214,     0.14314,\n",
       "           0.14414,     0.14515,     0.14615,     0.14715,     0.14815,     0.14915,     0.15015,     0.15115,     0.15215,     0.15315,     0.15415,     0.15516,     0.15616,     0.15716,     0.15816,     0.15916,     0.16016,     0.16116,     0.16216,     0.16316,     0.16416,     0.16517,     0.16617,     0.16717,\n",
       "           0.16817,     0.16917,     0.17017,     0.17117,     0.17217,     0.17317,     0.17417,     0.17518,     0.17618,     0.17718,     0.17818,     0.17918,     0.18018,     0.18118,     0.18218,     0.18318,     0.18418,     0.18519,     0.18619,     0.18719,     0.18819,     0.18919,     0.19019,     0.19119,\n",
       "           0.19219,     0.19319,     0.19419,      0.1952,      0.1962,      0.1972,      0.1982,      0.1992,      0.2002,      0.2012,      0.2022,      0.2032,      0.2042,     0.20521,     0.20621,     0.20721,     0.20821,     0.20921,     0.21021,     0.21121,     0.21221,     0.21321,     0.21421,     0.21522,\n",
       "           0.21622,     0.21722,     0.21822,     0.21922,     0.22022,     0.22122,     0.22222,     0.22322,     0.22422,     0.22523,     0.22623,     0.22723,     0.22823,     0.22923,     0.23023,     0.23123,     0.23223,     0.23323,     0.23423,     0.23524,     0.23624,     0.23724,     0.23824,     0.23924,\n",
       "           0.24024,     0.24124,     0.24224,     0.24324,     0.24424,     0.24525,     0.24625,     0.24725,     0.24825,     0.24925,     0.25025,     0.25125,     0.25225,     0.25325,     0.25425,     0.25526,     0.25626,     0.25726,     0.25826,     0.25926,     0.26026,     0.26126,     0.26226,     0.26326,\n",
       "           0.26426,     0.26527,     0.26627,     0.26727,     0.26827,     0.26927,     0.27027,     0.27127,     0.27227,     0.27327,     0.27427,     0.27528,     0.27628,     0.27728,     0.27828,     0.27928,     0.28028,     0.28128,     0.28228,     0.28328,     0.28428,     0.28529,     0.28629,     0.28729,\n",
       "           0.28829,     0.28929,     0.29029,     0.29129,     0.29229,     0.29329,     0.29429,      0.2953,      0.2963,      0.2973,      0.2983,      0.2993,      0.3003,      0.3013,      0.3023,      0.3033,      0.3043,     0.30531,     0.30631,     0.30731,     0.30831,     0.30931,     0.31031,     0.31131,\n",
       "           0.31231,     0.31331,     0.31431,     0.31532,     0.31632,     0.31732,     0.31832,     0.31932,     0.32032,     0.32132,     0.32232,     0.32332,     0.32432,     0.32533,     0.32633,     0.32733,     0.32833,     0.32933,     0.33033,     0.33133,     0.33233,     0.33333,     0.33433,     0.33534,\n",
       "           0.33634,     0.33734,     0.33834,     0.33934,     0.34034,     0.34134,     0.34234,     0.34334,     0.34434,     0.34535,     0.34635,     0.34735,     0.34835,     0.34935,     0.35035,     0.35135,     0.35235,     0.35335,     0.35435,     0.35536,     0.35636,     0.35736,     0.35836,     0.35936,\n",
       "           0.36036,     0.36136,     0.36236,     0.36336,     0.36436,     0.36537,     0.36637,     0.36737,     0.36837,     0.36937,     0.37037,     0.37137,     0.37237,     0.37337,     0.37437,     0.37538,     0.37638,     0.37738,     0.37838,     0.37938,     0.38038,     0.38138,     0.38238,     0.38338,\n",
       "           0.38438,     0.38539,     0.38639,     0.38739,     0.38839,     0.38939,     0.39039,     0.39139,     0.39239,     0.39339,     0.39439,      0.3954,      0.3964,      0.3974,      0.3984,      0.3994,      0.4004,      0.4014,      0.4024,      0.4034,      0.4044,     0.40541,     0.40641,     0.40741,\n",
       "           0.40841,     0.40941,     0.41041,     0.41141,     0.41241,     0.41341,     0.41441,     0.41542,     0.41642,     0.41742,     0.41842,     0.41942,     0.42042,     0.42142,     0.42242,     0.42342,     0.42442,     0.42543,     0.42643,     0.42743,     0.42843,     0.42943,     0.43043,     0.43143,\n",
       "           0.43243,     0.43343,     0.43443,     0.43544,     0.43644,     0.43744,     0.43844,     0.43944,     0.44044,     0.44144,     0.44244,     0.44344,     0.44444,     0.44545,     0.44645,     0.44745,     0.44845,     0.44945,     0.45045,     0.45145,     0.45245,     0.45345,     0.45445,     0.45546,\n",
       "           0.45646,     0.45746,     0.45846,     0.45946,     0.46046,     0.46146,     0.46246,     0.46346,     0.46446,     0.46547,     0.46647,     0.46747,     0.46847,     0.46947,     0.47047,     0.47147,     0.47247,     0.47347,     0.47447,     0.47548,     0.47648,     0.47748,     0.47848,     0.47948,\n",
       "           0.48048,     0.48148,     0.48248,     0.48348,     0.48448,     0.48549,     0.48649,     0.48749,     0.48849,     0.48949,     0.49049,     0.49149,     0.49249,     0.49349,     0.49449,      0.4955,      0.4965,      0.4975,      0.4985,      0.4995,      0.5005,      0.5015,      0.5025,      0.5035,\n",
       "            0.5045,     0.50551,     0.50651,     0.50751,     0.50851,     0.50951,     0.51051,     0.51151,     0.51251,     0.51351,     0.51451,     0.51552,     0.51652,     0.51752,     0.51852,     0.51952,     0.52052,     0.52152,     0.52252,     0.52352,     0.52452,     0.52553,     0.52653,     0.52753,\n",
       "           0.52853,     0.52953,     0.53053,     0.53153,     0.53253,     0.53353,     0.53453,     0.53554,     0.53654,     0.53754,     0.53854,     0.53954,     0.54054,     0.54154,     0.54254,     0.54354,     0.54454,     0.54555,     0.54655,     0.54755,     0.54855,     0.54955,     0.55055,     0.55155,\n",
       "           0.55255,     0.55355,     0.55455,     0.55556,     0.55656,     0.55756,     0.55856,     0.55956,     0.56056,     0.56156,     0.56256,     0.56356,     0.56456,     0.56557,     0.56657,     0.56757,     0.56857,     0.56957,     0.57057,     0.57157,     0.57257,     0.57357,     0.57457,     0.57558,\n",
       "           0.57658,     0.57758,     0.57858,     0.57958,     0.58058,     0.58158,     0.58258,     0.58358,     0.58458,     0.58559,     0.58659,     0.58759,     0.58859,     0.58959,     0.59059,     0.59159,     0.59259,     0.59359,     0.59459,      0.5956,      0.5966,      0.5976,      0.5986,      0.5996,\n",
       "            0.6006,      0.6016,      0.6026,      0.6036,      0.6046,     0.60561,     0.60661,     0.60761,     0.60861,     0.60961,     0.61061,     0.61161,     0.61261,     0.61361,     0.61461,     0.61562,     0.61662,     0.61762,     0.61862,     0.61962,     0.62062,     0.62162,     0.62262,     0.62362,\n",
       "           0.62462,     0.62563,     0.62663,     0.62763,     0.62863,     0.62963,     0.63063,     0.63163,     0.63263,     0.63363,     0.63463,     0.63564,     0.63664,     0.63764,     0.63864,     0.63964,     0.64064,     0.64164,     0.64264,     0.64364,     0.64464,     0.64565,     0.64665,     0.64765,\n",
       "           0.64865,     0.64965,     0.65065,     0.65165,     0.65265,     0.65365,     0.65465,     0.65566,     0.65666,     0.65766,     0.65866,     0.65966,     0.66066,     0.66166,     0.66266,     0.66366,     0.66466,     0.66567,     0.66667,     0.66767,     0.66867,     0.66967,     0.67067,     0.67167,\n",
       "           0.67267,     0.67367,     0.67467,     0.67568,     0.67668,     0.67768,     0.67868,     0.67968,     0.68068,     0.68168,     0.68268,     0.68368,     0.68468,     0.68569,     0.68669,     0.68769,     0.68869,     0.68969,     0.69069,     0.69169,     0.69269,     0.69369,     0.69469,      0.6957,\n",
       "            0.6967,      0.6977,      0.6987,      0.6997,      0.7007,      0.7017,      0.7027,      0.7037,      0.7047,     0.70571,     0.70671,     0.70771,     0.70871,     0.70971,     0.71071,     0.71171,     0.71271,     0.71371,     0.71471,     0.71572,     0.71672,     0.71772,     0.71872,     0.71972,\n",
       "           0.72072,     0.72172,     0.72272,     0.72372,     0.72472,     0.72573,     0.72673,     0.72773,     0.72873,     0.72973,     0.73073,     0.73173,     0.73273,     0.73373,     0.73473,     0.73574,     0.73674,     0.73774,     0.73874,     0.73974,     0.74074,     0.74174,     0.74274,     0.74374,\n",
       "           0.74474,     0.74575,     0.74675,     0.74775,     0.74875,     0.74975,     0.75075,     0.75175,     0.75275,     0.75375,     0.75475,     0.75576,     0.75676,     0.75776,     0.75876,     0.75976,     0.76076,     0.76176,     0.76276,     0.76376,     0.76476,     0.76577,     0.76677,     0.76777,\n",
       "           0.76877,     0.76977,     0.77077,     0.77177,     0.77277,     0.77377,     0.77477,     0.77578,     0.77678,     0.77778,     0.77878,     0.77978,     0.78078,     0.78178,     0.78278,     0.78378,     0.78478,     0.78579,     0.78679,     0.78779,     0.78879,     0.78979,     0.79079,     0.79179,\n",
       "           0.79279,     0.79379,     0.79479,      0.7958,      0.7968,      0.7978,      0.7988,      0.7998,      0.8008,      0.8018,      0.8028,      0.8038,      0.8048,     0.80581,     0.80681,     0.80781,     0.80881,     0.80981,     0.81081,     0.81181,     0.81281,     0.81381,     0.81481,     0.81582,\n",
       "           0.81682,     0.81782,     0.81882,     0.81982,     0.82082,     0.82182,     0.82282,     0.82382,     0.82482,     0.82583,     0.82683,     0.82783,     0.82883,     0.82983,     0.83083,     0.83183,     0.83283,     0.83383,     0.83483,     0.83584,     0.83684,     0.83784,     0.83884,     0.83984,\n",
       "           0.84084,     0.84184,     0.84284,     0.84384,     0.84484,     0.84585,     0.84685,     0.84785,     0.84885,     0.84985,     0.85085,     0.85185,     0.85285,     0.85385,     0.85485,     0.85586,     0.85686,     0.85786,     0.85886,     0.85986,     0.86086,     0.86186,     0.86286,     0.86386,\n",
       "           0.86486,     0.86587,     0.86687,     0.86787,     0.86887,     0.86987,     0.87087,     0.87187,     0.87287,     0.87387,     0.87487,     0.87588,     0.87688,     0.87788,     0.87888,     0.87988,     0.88088,     0.88188,     0.88288,     0.88388,     0.88488,     0.88589,     0.88689,     0.88789,\n",
       "           0.88889,     0.88989,     0.89089,     0.89189,     0.89289,     0.89389,     0.89489,      0.8959,      0.8969,      0.8979,      0.8989,      0.8999,      0.9009,      0.9019,      0.9029,      0.9039,      0.9049,     0.90591,     0.90691,     0.90791,     0.90891,     0.90991,     0.91091,     0.91191,\n",
       "           0.91291,     0.91391,     0.91491,     0.91592,     0.91692,     0.91792,     0.91892,     0.91992,     0.92092,     0.92192,     0.92292,     0.92392,     0.92492,     0.92593,     0.92693,     0.92793,     0.92893,     0.92993,     0.93093,     0.93193,     0.93293,     0.93393,     0.93493,     0.93594,\n",
       "           0.93694,     0.93794,     0.93894,     0.93994,     0.94094,     0.94194,     0.94294,     0.94394,     0.94494,     0.94595,     0.94695,     0.94795,     0.94895,     0.94995,     0.95095,     0.95195,     0.95295,     0.95395,     0.95495,     0.95596,     0.95696,     0.95796,     0.95896,     0.95996,\n",
       "           0.96096,     0.96196,     0.96296,     0.96396,     0.96496,     0.96597,     0.96697,     0.96797,     0.96897,     0.96997,     0.97097,     0.97197,     0.97297,     0.97397,     0.97497,     0.97598,     0.97698,     0.97798,     0.97898,     0.97998,     0.98098,     0.98198,     0.98298,     0.98398,\n",
       "           0.98498,     0.98599,     0.98699,     0.98799,     0.98899,     0.98999,     0.99099,     0.99199,     0.99299,     0.99399,     0.99499,       0.996,       0.997,       0.998,       0.999,           1]), array([[    0.92391,     0.92391,     0.91304,     0.90761,     0.90217,     0.90217,     0.89674,     0.89674,      0.8913,     0.88587,     0.88587,     0.88043,     0.88043,     0.88043,     0.88043,     0.88043,     0.88043,       0.875,       0.875,       0.875,     0.86957,     0.86957,     0.86311,\n",
       "             0.8587,      0.8587,      0.8587,      0.8587,      0.8587,      0.8587,      0.8587,      0.8587,      0.8587,      0.8587,      0.8587,     0.85365,     0.85326,     0.85326,     0.84783,     0.84239,     0.84239,     0.84239,     0.84239,     0.84239,     0.84239,     0.84239,     0.83697,\n",
       "            0.83696,     0.83696,     0.83696,     0.83696,     0.83696,     0.83696,     0.83696,     0.83696,     0.83696,     0.83696,     0.83152,     0.83152,     0.83152,     0.83152,     0.83152,     0.83152,     0.83152,     0.83152,     0.83152,     0.83152,     0.83152,     0.83152,     0.83152,\n",
       "            0.83152,     0.83033,     0.82759,     0.82609,     0.82609,     0.82609,     0.82065,     0.82065,     0.82065,     0.82065,     0.82065,     0.82065,     0.82065,     0.82065,     0.81522,     0.81522,     0.81522,     0.81522,     0.81522,     0.81522,     0.81522,     0.81522,     0.81522,\n",
       "            0.81522,     0.81522,     0.81522,     0.81522,     0.81522,     0.81522,     0.81522,     0.81522,     0.81522,     0.81522,     0.81522,     0.80978,     0.80978,     0.80978,     0.80978,     0.80978,     0.80978,     0.80978,     0.80978,     0.80978,     0.80978,     0.80978,     0.80978,\n",
       "            0.80978,     0.80978,     0.80978,     0.80978,     0.80978,     0.80435,     0.80435,     0.80435,     0.80435,     0.80435,     0.80435,     0.80435,      0.8025,     0.79891,     0.79372,     0.79276,      0.7915,     0.79023,     0.78897,     0.78385,     0.78261,     0.78261,     0.78261,\n",
       "            0.78261,     0.78261,     0.78261,     0.78261,     0.78261,     0.78261,     0.78261,     0.78261,     0.78261,     0.77358,      0.7663,      0.7663,      0.7663,      0.7663,      0.7663,      0.7663,      0.7663,      0.7663,      0.7663,      0.7663,      0.7663,      0.7663,      0.7663,\n",
       "             0.7663,      0.7663,      0.7663,      0.7663,      0.7663,      0.7663,      0.7663,      0.7663,      0.7663,      0.7663,      0.7663,      0.7663,      0.7663,      0.7663,      0.7663,      0.7663,      0.7663,      0.7663,      0.7663,      0.7663,      0.7663,      0.7663,      0.7663,\n",
       "             0.7663,      0.7663,      0.7663,      0.7663,      0.7663,      0.7663,      0.7663,      0.7663,      0.7663,      0.7663,      0.7663,      0.7663,      0.7663,      0.7663,      0.7663,      0.7663,      0.7663,      0.7663,      0.7663,      0.7663,      0.7663,      0.7663,      0.7663,\n",
       "             0.7663,      0.7663,      0.7663,      0.7663,      0.7663,      0.7663,      0.7663,      0.7663,      0.7663,      0.7663,      0.7663,     0.76277,     0.75543,     0.75543,     0.75543,     0.75543,     0.75543,     0.75543,     0.75543,     0.75543,     0.75543,     0.75543,     0.75543,\n",
       "            0.75543,     0.75543,     0.75543,     0.75543,     0.75543,     0.75543,     0.75543,     0.75543,     0.75543,     0.75543,     0.75543,     0.75543,     0.75543,     0.75543,     0.75543,     0.75543,     0.75543,     0.75543,     0.75543,     0.75543,     0.75543,     0.75543,     0.75543,\n",
       "            0.75543,     0.75543,     0.75543,     0.75372,     0.75159,        0.75,        0.75,        0.75,        0.75,        0.75,        0.75,        0.75,        0.75,        0.75,        0.75,        0.75,        0.75,        0.75,        0.75,        0.75,        0.75,        0.75,        0.75,\n",
       "               0.75,        0.75,        0.75,        0.75,     0.74457,     0.74457,     0.74457,     0.74457,     0.74457,     0.74457,     0.74457,     0.74457,     0.74457,     0.74457,     0.74457,     0.74457,     0.74457,     0.74457,     0.73913,     0.73913,     0.73913,     0.73913,     0.73913,\n",
       "            0.73913,     0.73913,     0.73913,     0.73913,     0.73913,     0.73913,     0.73913,     0.73913,     0.73908,     0.73867,     0.73827,     0.73786,     0.73746,     0.73705,     0.73665,     0.73624,     0.73584,     0.73543,     0.73503,     0.73462,     0.73422,     0.73381,      0.7337,\n",
       "             0.7337,      0.7337,      0.7337,      0.7337,      0.7337,      0.7337,      0.7337,      0.7337,      0.7337,      0.7337,     0.72826,     0.72826,     0.72826,     0.72826,     0.72826,     0.72789,     0.72685,     0.72581,     0.72476,     0.72372,     0.72283,     0.72283,     0.72283,\n",
       "            0.72283,     0.72283,     0.72283,     0.72283,     0.72283,     0.72283,     0.72283,     0.72283,     0.72283,     0.72093,     0.71886,     0.71739,     0.71739,     0.71739,     0.71739,     0.71687,     0.71629,     0.71572,     0.71514,     0.71456,     0.71399,     0.71341,     0.71283,\n",
       "            0.71226,     0.71196,     0.71196,     0.71196,     0.71196,     0.71196,     0.71196,     0.71196,     0.71196,     0.71196,     0.71196,     0.71196,     0.71196,     0.71196,     0.71196,     0.71196,     0.71196,     0.71196,     0.71166,     0.71133,       0.711,     0.71067,     0.71034,\n",
       "            0.71001,     0.70968,     0.70935,     0.70902,     0.70869,     0.70836,     0.70803,      0.7077,     0.70737,     0.70704,     0.70671,     0.70652,     0.70652,     0.70645,     0.70604,     0.70564,     0.70523,     0.70483,     0.70442,     0.70401,     0.70361,      0.7032,      0.7028,\n",
       "            0.70239,     0.70198,     0.70158,     0.70117,     0.70023,     0.69914,     0.69805,     0.69696,     0.69588,     0.69565,     0.69565,     0.69565,     0.69565,     0.69565,     0.69565,     0.69565,     0.69565,     0.69565,     0.69565,     0.69565,     0.69499,     0.69385,      0.6927,\n",
       "            0.69155,      0.6904,     0.69022,     0.69022,     0.69022,     0.69022,     0.69022,     0.69022,     0.69022,     0.69022,     0.69022,     0.69022,     0.69022,     0.69022,     0.69022,     0.69022,     0.69022,     0.69022,     0.69022,     0.69022,     0.69022,     0.69022,     0.69022,\n",
       "            0.69022,     0.69022,     0.69022,     0.69022,     0.69022,     0.69022,     0.69022,     0.69022,     0.69022,     0.69022,     0.69022,     0.69022,     0.69022,     0.69022,     0.69022,     0.69022,     0.69022,     0.69022,     0.69022,     0.69022,     0.69022,     0.69022,     0.69022,\n",
       "            0.69022,     0.69022,     0.69022,     0.69022,     0.69022,     0.69022,     0.69022,     0.68997,     0.68936,     0.68876,     0.68815,     0.68754,     0.68693,     0.68632,     0.68572,     0.68511,      0.6815,     0.67935,     0.67935,     0.67935,     0.67935,     0.67935,     0.67935,\n",
       "            0.67935,     0.67935,     0.67935,     0.67935,     0.67935,     0.67935,     0.67935,     0.67935,     0.67935,     0.67935,     0.67935,     0.67935,     0.67935,     0.67935,     0.67935,     0.67935,     0.67935,     0.67935,     0.67935,     0.67935,     0.67935,     0.67935,     0.67935,\n",
       "            0.67935,     0.67935,     0.67796,     0.67657,     0.67518,      0.6724,     0.66848,     0.66848,     0.66848,     0.66848,      0.6681,     0.66766,     0.66721,     0.66676,     0.66632,     0.66587,     0.66542,     0.66497,     0.66453,     0.66408,     0.66363,     0.66319,     0.65982,\n",
       "            0.65761,     0.65761,     0.65761,     0.65756,     0.65691,     0.65626,     0.65561,     0.65496,      0.6543,     0.65365,       0.653,     0.65235,     0.65217,     0.65217,     0.65217,     0.65217,     0.65185,     0.64999,     0.64814,     0.64647,     0.64537,     0.64427,     0.64318,\n",
       "            0.64208,      0.6413,      0.6413,      0.6413,      0.6413,      0.6413,      0.6413,      0.6413,      0.6413,      0.6413,      0.6413,      0.6413,      0.6413,     0.64114,     0.64087,     0.64059,     0.64032,     0.64004,     0.63977,     0.63949,     0.63922,     0.63894,     0.63867,\n",
       "            0.63839,     0.63812,     0.63784,     0.63757,     0.63729,     0.63702,     0.63674,     0.63647,     0.63619,     0.63592,     0.63587,     0.63587,     0.63587,     0.63587,     0.63583,     0.63528,     0.63473,     0.63418,     0.63363,     0.63308,     0.63254,     0.63199,     0.63144,\n",
       "            0.63089,     0.62493,     0.62418,     0.62342,     0.62267,     0.62192,     0.62116,     0.62041,     0.61965,     0.61911,     0.61859,     0.61808,     0.61756,     0.61705,     0.61653,     0.61602,      0.6155,     0.61499,     0.61447,     0.61413,     0.61121,      0.6084,     0.60783,\n",
       "            0.60727,      0.6067,     0.60613,     0.60557,       0.605,     0.60444,     0.60387,     0.60331,     0.60326,     0.60326,     0.60326,     0.60303,     0.60265,     0.60228,      0.6019,     0.60152,     0.60115,     0.60077,     0.60039,     0.60001,     0.59964,     0.59926,     0.59888,\n",
       "            0.59851,     0.59813,      0.5977,     0.59706,     0.59642,     0.59578,     0.59514,      0.5945,     0.59386,     0.59322,     0.59258,     0.59178,     0.59092,     0.59006,      0.5892,     0.58834,     0.58748,     0.58581,     0.58284,     0.58152,     0.58152,     0.58152,     0.58152,\n",
       "            0.58152,     0.58152,     0.58152,     0.58152,     0.58152,     0.58152,     0.58152,     0.58152,     0.58152,     0.58152,     0.58152,     0.58152,     0.58152,     0.57964,     0.57609,     0.57609,     0.57609,     0.57609,     0.57609,     0.57609,     0.57609,     0.57475,      0.5724,\n",
       "            0.57065,     0.57065,     0.57065,     0.57065,     0.57065,     0.57065,     0.57065,     0.57065,     0.57065,     0.57065,     0.57065,     0.56911,     0.56648,     0.55681,     0.54579,     0.53814,      0.5374,     0.53676,     0.53611,     0.53546,     0.53482,     0.53417,     0.53352,\n",
       "            0.53288,     0.53148,     0.52955,     0.52762,     0.52608,     0.52466,     0.52324,     0.52182,     0.51797,     0.51549,     0.51411,     0.51272,     0.51134,     0.51087,     0.51087,     0.51087,     0.51087,     0.51087,     0.51087,     0.51087,     0.51087,     0.51087,     0.51087,\n",
       "            0.51087,     0.51087,     0.51087,     0.51087,     0.51087,     0.51087,     0.50489,     0.50305,      0.5012,      0.4986,     0.49458,     0.49384,     0.49312,     0.49239,     0.49167,     0.49095,     0.49022,      0.4895,     0.48541,     0.48189,     0.47965,     0.47497,      0.4723,\n",
       "             0.4716,      0.4709,      0.4702,      0.4695,      0.4688,      0.4681,      0.4674,     0.46641,     0.46541,     0.46441,     0.46342,     0.46242,     0.46154,     0.46076,     0.45998,     0.45919,     0.45841,     0.45763,     0.45684,      0.4538,      0.4497,     0.44633,     0.44565,\n",
       "            0.44565,     0.44565,     0.44565,     0.44565,     0.44565,     0.44565,     0.44565,     0.44565,       0.445,     0.44411,     0.44322,     0.44233,     0.44143,     0.44054,     0.43622,      0.4322,      0.4288,     0.42509,     0.42292,     0.42145,     0.41999,     0.41853,      0.4177,\n",
       "            0.41689,     0.41608,     0.41527,     0.41446,     0.41365,     0.41118,     0.40481,     0.40122,     0.39931,     0.39741,     0.39627,     0.39556,     0.39484,     0.39413,     0.39341,      0.3927,     0.39198,     0.39085,     0.37955,     0.37547,     0.37419,     0.37328,     0.37237,\n",
       "            0.37146,     0.37055,     0.36964,     0.36228,     0.35244,     0.34326,     0.33147,     0.32573,     0.32215,     0.31963,     0.31788,     0.31614,     0.31447,     0.31289,      0.3113,     0.30921,     0.29845,     0.29752,     0.29659,     0.29566,     0.29473,      0.2938,     0.29166,\n",
       "            0.28887,     0.28804,     0.28804,     0.28804,     0.28677,     0.28502,     0.28327,     0.27486,     0.26981,     0.26185,     0.25827,     0.25551,     0.24402,     0.24264,     0.24126,     0.23987,     0.23543,     0.22816,     0.22635,     0.22454,     0.22283,     0.21974,     0.21682,\n",
       "            0.21449,     0.21215,     0.20742,     0.20222,     0.18627,     0.18038,     0.17343,     0.17187,     0.17031,     0.16875,     0.15788,     0.15451,     0.14603,     0.14328,     0.13796,     0.13471,     0.13329,     0.13188,     0.13046,     0.12402,     0.12094,     0.11646,     0.11387,\n",
       "            0.11343,     0.11299,     0.11255,     0.11211,     0.11167,     0.11123,     0.11079,     0.11035,     0.10991,     0.10947,     0.10903,     0.10834,     0.10686,     0.10538,      0.1039,     0.10287,     0.10218,      0.1015,     0.10081,     0.10012,    0.099437,     0.09875,    0.098063,\n",
       "           0.097554,    0.097138,    0.096721,    0.096305,    0.095889,    0.095473,    0.095056,     0.09464,    0.094224,    0.093807,    0.093391,    0.092975,    0.092559,    0.092059,    0.091502,    0.090946,    0.090389,    0.089833,    0.089276,     0.08872,    0.088163,    0.087607,     0.08705,\n",
       "           0.086528,    0.086012,    0.085497,    0.084981,    0.084465,     0.08395,    0.083434,    0.082919,    0.082403,    0.081887,    0.081376,    0.080876,    0.080375,    0.079874,    0.079373,    0.078873,    0.078372,    0.077871,    0.077371,     0.07687,    0.076369,     0.06909,     0.06433,\n",
       "           0.062588,    0.060846,    0.054426,    0.042212,    0.038298,    0.029824,    0.023723,    0.010002,   0.0066215,           0,           0]]), 'Confidence', 'Recall']]\n",
       "fitness: 0.5266513209676349\n",
       "keys: ['metrics/precision(B)', 'metrics/recall(B)', 'metrics/mAP50(B)', 'metrics/mAP50-95(B)']\n",
       "maps: array([    0.49667])\n",
       "names: {0: 'Car'}\n",
       "plot: True\n",
       "results_dict: {'metrics/precision(B)': 0.783294987326943, 'metrics/recall(B)': 0.7268486018792941, 'metrics/mAP50(B)': 0.796480199703541, 'metrics/mAP50-95(B)': 0.4966703344414231, 'fitness': 0.5266513209676349}\n",
       "save_dir: WindowsPath('runs/detect/train3')\n",
       "speed: {'preprocess': 4.279711029746316, 'inference': 93.84483640844171, 'loss': 0.0, 'postprocess': 0.5434751510620117}\n",
       "task: 'detect'"
      ]
     },
     "execution_count": 5,
     "metadata": {},
     "output_type": "execute_result"
    }
   ],
   "source": [
    "model.train(data=r\"D:\\NCKH_MC_Team\\Train_model\\data.yaml\", epochs=100)\n",
    "\n"
   ]
  },
  {
   "cell_type": "code",
   "execution_count": 6,
   "metadata": {},
   "outputs": [],
   "source": [
    "model = YOLO(\"D:/NCKH_MC_Team/Train_model/runs/detect/train2/weights/best.pt\")\n"
   ]
  },
  {
   "cell_type": "code",
   "execution_count": 7,
   "metadata": {},
   "outputs": [
    {
     "name": "stdout",
     "output_type": "stream",
     "text": [
      "\n",
      "image 1/1 D:\\NCKH_MC_Team\\Train_model\\img9590-16513998452631565304654.jpg: 384x640 21 Cars, 70.8ms\n",
      "Speed: 2.0ms preprocess, 70.8ms inference, 0.0ms postprocess per image at shape (1, 3, 384, 640)\n"
     ]
    },
    {
     "data": {
      "text/plain": [
       "<Figure size 640x480 with 1 Axes>"
      ]
     },
     "metadata": {},
     "output_type": "display_data"
    }
   ],
   "source": [
    "results = model(\"D:/NCKH_MC_Team/Train_model/img9590-16513998452631565304654.jpg\")\n",
    "res = results[0].plot()\n",
    "img = cv2.cvtColor(res, cv2.COLOR_BGR2RGB)\n",
    "plt.imshow(img)\n",
    "plt.show()"
   ]
  },
  {
   "cell_type": "code",
   "execution_count": 1,
   "metadata": {},
   "outputs": [
    {
     "ename": "ValueError",
     "evalue": "invalid literal for int() with base 10: '2 6 8 76'",
     "output_type": "error",
     "traceback": [
      "\u001b[1;31m---------------------------------------------------------------------------\u001b[0m",
      "\u001b[1;31mValueError\u001b[0m                                Traceback (most recent call last)",
      "Cell \u001b[1;32mIn[1], line 30\u001b[0m\n\u001b[0;32m     27\u001b[0m         \u001b[38;5;28mprint\u001b[39m(\u001b[38;5;124m\"\u001b[39m\u001b[38;5;124mKhông tìm thấy chỉ số i mà Ai = k trong danh sách A\u001b[39m\u001b[38;5;124m\"\u001b[39m)\n\u001b[0;32m     29\u001b[0m \u001b[38;5;28;01mif\u001b[39;00m \u001b[38;5;18m__name__\u001b[39m \u001b[38;5;241m==\u001b[39m \u001b[38;5;124m\"\u001b[39m\u001b[38;5;124m__main__\u001b[39m\u001b[38;5;124m\"\u001b[39m:\n\u001b[1;32m---> 30\u001b[0m     \u001b[43mmain\u001b[49m\u001b[43m(\u001b[49m\u001b[43m)\u001b[49m\n",
      "Cell \u001b[1;32mIn[1], line 4\u001b[0m, in \u001b[0;36mmain\u001b[1;34m()\u001b[0m\n\u001b[0;32m      1\u001b[0m \u001b[38;5;28;01mdef\u001b[39;00m \u001b[38;5;21mmain\u001b[39m():\n\u001b[0;32m      2\u001b[0m     \u001b[38;5;66;03m# Nhập số nguyên n và k từ bàn phím\u001b[39;00m\n\u001b[0;32m      3\u001b[0m     n \u001b[38;5;241m=\u001b[39m \u001b[38;5;28mint\u001b[39m(\u001b[38;5;28minput\u001b[39m(\u001b[38;5;124m\"\u001b[39m\u001b[38;5;124mNhập số nguyên n: \u001b[39m\u001b[38;5;124m\"\u001b[39m))\n\u001b[1;32m----> 4\u001b[0m     k \u001b[38;5;241m=\u001b[39m \u001b[38;5;28;43mint\u001b[39;49m\u001b[43m(\u001b[49m\u001b[38;5;28;43minput\u001b[39;49m\u001b[43m(\u001b[49m\u001b[38;5;124;43m\"\u001b[39;49m\u001b[38;5;124;43mNhập số nguyên k: \u001b[39;49m\u001b[38;5;124;43m\"\u001b[39;49m\u001b[43m)\u001b[49m\u001b[43m)\u001b[49m\n\u001b[0;32m      6\u001b[0m     \u001b[38;5;66;03m# Khởi tạo danh sách A và nhập các phần tử của nó từ bàn phím\u001b[39;00m\n\u001b[0;32m      7\u001b[0m     A \u001b[38;5;241m=\u001b[39m []\n",
      "\u001b[1;31mValueError\u001b[0m: invalid literal for int() with base 10: '2 6 8 76'"
     ]
    }
   ],
   "source": [
    "def main():\n",
    "    # Nhập số nguyên n và k từ bàn phím\n",
    "    n = int(input(\"Nhập số nguyên n: \"))\n",
    "    k = int(input(\"Nhập số nguyên k: \"))\n",
    "\n",
    "    # Khởi tạo danh sách A và nhập các phần tử của nó từ bàn phím\n",
    "    A = []\n",
    "    for i in range(n):\n",
    "        A.append(int(input(f\"Nhập phần tử thứ {i+1} của danh sách A: \")))\n",
    "\n",
    "    # Tìm chỉ số i mà Ai = k\n",
    "    index = -1  # Khởi tạo biến lưu trữ chỉ số i, -1 nếu không tìm thấy\n",
    "    for i in range(n):\n",
    "        if A[i] == k:\n",
    "            index = i\n",
    "            break\n",
    "\n",
    "    # Kiểm tra và tráo đổi nếu cần\n",
    "    if index != -1 and index != 0:\n",
    "        # Tráo đổi giá trị Ai với phần tử đầu tiên của danh sách A\n",
    "        A[0], A[index] = A[index], A[0]\n",
    "\n",
    "    # Hiển thị kết quả\n",
    "    if index != -1:\n",
    "        print(f\"Chỉ số i đã tìm được: {index}\")\n",
    "    else:\n",
    "        print(\"Không tìm thấy chỉ số i mà Ai = k trong danh sách A\")\n",
    "\n",
    "if __name__ == \"__main__\":\n",
    "    main()\n"
   ]
  }
 ],
 "metadata": {
  "kernelspec": {
   "display_name": "Python 3",
   "language": "python",
   "name": "python3"
  },
  "language_info": {
   "codemirror_mode": {
    "name": "ipython",
    "version": 3
   },
   "file_extension": ".py",
   "mimetype": "text/x-python",
   "name": "python",
   "nbconvert_exporter": "python",
   "pygments_lexer": "ipython3",
   "version": "3.11.7"
  }
 },
 "nbformat": 4,
 "nbformat_minor": 2
}
